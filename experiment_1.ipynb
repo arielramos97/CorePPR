{
 "cells": [
  {
   "cell_type": "code",
   "execution_count": 1,
   "metadata": {},
   "outputs": [],
   "source": [
    "import os\n",
    "import time\n",
    "import logging\n",
    "import yaml\n",
    "import ast\n",
    "import numpy as np\n",
    "import tensorflow as tf\n",
    "from sklearn.metrics import accuracy_score, f1_score, confusion_matrix\n",
    "\n",
    "from pprgo import utils\n",
    "from pprgo import ppr\n",
    "from pprgo import pprgo"
   ]
  },
  {
   "cell_type": "code",
   "execution_count": 2,
   "metadata": {},
   "outputs": [],
   "source": [
    "# Set up logging\n",
    "logger = logging.getLogger()\n",
    "logger.handlers = []\n",
    "ch = logging.StreamHandler()\n",
    "formatter = logging.Formatter(\n",
    "        fmt='%(asctime)s (%(levelname)s): %(message)s',\n",
    "        datefmt='%Y-%m-%d %H:%M:%S')\n",
    "ch.setFormatter(formatter)\n",
    "logger.addHandler(ch)\n",
    "logger.setLevel('INFO')\n",
    "\n",
    "os.environ['TF_CPP_MIN_LOG_LEVEL'] = '3'"
   ]
  },
  {
   "cell_type": "markdown",
   "metadata": {},
   "source": [
    "# Load config"
   ]
  },
  {
   "cell_type": "code",
   "execution_count": 3,
   "metadata": {},
   "outputs": [],
   "source": [
    "with open('config_demo.yaml', 'r') as c:\n",
    "    config = yaml.safe_load(c)"
   ]
  },
  {
   "cell_type": "code",
   "execution_count": 4,
   "metadata": {},
   "outputs": [],
   "source": [
    "# For strings that yaml doesn't parse (e.g. None)\n",
    "for key, val in config.items():\n",
    "    if type(val) is str:\n",
    "        try:\n",
    "            config[key] = ast.literal_eval(val)\n",
    "        except (ValueError, SyntaxError):\n",
    "            pass"
   ]
  },
  {
   "cell_type": "code",
   "execution_count": 5,
   "metadata": {},
   "outputs": [],
   "source": [
    "data_file           = config['data_file']           # Path to the .npz data file\n",
    "data_file = 'data/cora_full.npz'\n",
    "split_seed          = config['split_seed']          # Seed for splitting the dataset into train/val/test\n",
    "ntrain_div_classes  = config['ntrain_div_classes']  # Number of training nodes divided by number of classes\n",
    "attr_normalization  = config['attr_normalization']  # Attribute normalization. Not used in the paper\n",
    "\n",
    "alpha               = config['alpha']               # PPR teleport probability\n",
    "alpha = 0.25\n",
    "eps                 = config['eps']                 # Stopping threshold for ACL's ApproximatePR\n",
    "topk                = config['topk']                # Number of PPR neighbors for each node\n",
    "ppr_normalization   = config['ppr_normalization']   # Adjacency matrix normalization for weighting neighbors\n",
    "\n",
    "hidden_size         = config['hidden_size']         # Size of the MLP's hidden layer\n",
    "nlayers             = config['nlayers']             # Number of MLP layers\n",
    "weight_decay        = config['weight_decay']        # Weight decay used for training the MLP\n",
    "dropout             = config['dropout']             # Dropout used for training\n",
    "\n",
    "lr                  = config['lr']                  # Learning rate\n",
    "max_epochs          = config['max_epochs']          # Maximum number of epochs (exact number if no early stopping)\n",
    "batch_size          = config['batch_size']          # Batch size for training\n",
    "batch_mult_val      = config['batch_mult_val']      # Multiplier for validation batch size\n",
    "\n",
    "eval_step           = config['eval_step']           # Accuracy is evaluated after every this number of steps\n",
    "run_val             = config['run_val']             # Evaluate accuracy on validation set during training\n",
    "\n",
    "early_stop          = config['early_stop']          # Use early stopping\n",
    "patience            = config['patience']            # Patience for early stopping\n",
    "\n",
    "nprop_inference     = config['nprop_inference']     # Number of propagation steps during inference\n",
    "inf_fraction        = config['inf_fraction']        # Fraction of nodes for which local predictions are computed during inference"
   ]
  },
  {
   "cell_type": "code",
   "execution_count": 6,
   "metadata": {},
   "outputs": [],
   "source": [
    "def pprgo_algorithm():\n",
    "\n",
    "    print('k: ', topk)\n",
    "\n",
    "    #LOAD THE DATA------------------------------------\n",
    "    start = time.time()\n",
    "    (adj_matrix, attr_matrix, labels,\n",
    "    train_idx, val_idx, test_idx) = utils.get_data(\n",
    "            f\"{data_file}\",\n",
    "            seed=split_seed,\n",
    "            ntrain_div_classes=ntrain_div_classes,\n",
    "            normalize_attr=attr_normalization\n",
    "    )\n",
    "\n",
    "    # print(adj_matrix.toarray().shape)\n",
    "    \n",
    "    \n",
    "    try:\n",
    "        d = attr_matrix.n_columns\n",
    "    except AttributeError:\n",
    "        d = attr_matrix.shape[1]\n",
    "    nc = labels.max() + 1\n",
    "    time_loading = time.time() - start\n",
    "    # print(f\"Loading data Runtime: {time_loading:.2f}s\")\n",
    "\n",
    "\n",
    "    #PREPROCESSING: CALCULATE PPR SCORES----------------\n",
    "\n",
    "    # compute the ppr vectors for train/val nodes using ACL's ApproximatePR\n",
    "    start = time.time()\n",
    "    topk_train = ppr.topk_ppr_matrix(adj_matrix, alpha, eps, train_idx, topk,\n",
    "                                    normalization=ppr_normalization)\n",
    "    if run_val:\n",
    "        topk_val = ppr.topk_ppr_matrix(adj_matrix, alpha, eps, val_idx, topk,\n",
    "                                    normalization=ppr_normalization)\n",
    "    else:\n",
    "        topk_val = None\n",
    "    time_preprocessing = time.time() - start\n",
    "    # print(f\"PPR scores Runtime: {time_preprocessing:.2f}s\")\n",
    "\n",
    "    #TRAINING: SET UP MODEL AND TRAIN\n",
    "    start = time.time()\n",
    "    tf.reset_default_graph()\n",
    "    tf.set_random_seed(0)\n",
    "\n",
    "    model = pprgo.PPRGo(d, nc, hidden_size, nlayers, lr, weight_decay, dropout,\n",
    "                        sparse_features=type(attr_matrix) is not np.ndarray)\n",
    "\n",
    "    sess = tf.compat.v1.Session()\n",
    "    with sess.as_default():\n",
    "        tf.compat.v1.global_variables_initializer().run()\n",
    "        nepochs, loss_hist, acc_hist, f1_hist = pprgo.train(\n",
    "                sess=sess, model=model, attr_matrix=attr_matrix,\n",
    "                train_idx=train_idx, val_idx=val_idx,\n",
    "                topk_train=topk_train, topk_val=topk_val,\n",
    "                labels=labels,\n",
    "                max_epochs=max_epochs, batch_size=batch_size, batch_mult_val=batch_mult_val,\n",
    "                eval_step=eval_step, early_stop=early_stop, patience=patience)\n",
    "    time_training = time.time() - start\n",
    "    logging.info('Training done.')\n",
    "    # print(f\"Training Runtime: {time_training:.2f}s\")\n",
    "\n",
    "    #INFERENCE (VAL AND TEST)\n",
    "    start = time.time()\n",
    "    predictions, time_logits, time_propagation = model.predict(\n",
    "            sess=sess, adj_matrix=adj_matrix, attr_matrix=attr_matrix, alpha=alpha,\n",
    "            nprop=nprop_inference, inf_fraction=inf_fraction,\n",
    "            ppr_normalization=ppr_normalization)\n",
    "    time_inference = time.time() - start\n",
    "    # print(f\"Inference Runtime: {time_inference:.2f}s\")\n",
    "\n",
    "\n",
    "    #COLLECT AND PRINT RESULTS\n",
    "    acc_train = 100 * accuracy_score(labels[train_idx], predictions[train_idx])\n",
    "    acc_val = 100 * accuracy_score(labels[val_idx], predictions[val_idx])\n",
    "    acc_test = 100 * accuracy_score(labels[test_idx], predictions[test_idx])\n",
    "    f1_train = f1_score(labels[train_idx], predictions[train_idx], average='macro')\n",
    "    f1_val = f1_score(labels[val_idx], predictions[val_idx], average='macro')\n",
    "    f1_test = f1_score(labels[test_idx], predictions[test_idx], average='macro')\n",
    "\n",
    "    # gpu_max_bytes = tf.contrib.memory_stats.MaxBytesInUse()\n",
    "    # gpu_memory = sess.run(gpu_max_bytes)\n",
    "    memory = utils.get_max_memory_bytes()\n",
    "\n",
    "    time_total = time_preprocessing + time_training + time_inference\n",
    "\n",
    "    print(f'''\n",
    "    Accuracy: Train: {acc_train:.1f}%, val: {acc_val:.1f}%, test: {acc_test:.1f}%\n",
    "    F1 score: Train: {f1_train:.3f}, val: {f1_val:.3f}, test: {f1_test:.3f}\n",
    "\n",
    "    Runtime: Preprocessing: {time_preprocessing:.2f}s, training: {time_training:.2f}s, inference: {time_inference:.2f}s -> total: {time_total:.2f}s\n",
    "    Memory: Main: {(memory/1024) / 2**30:.2f}GB\n",
    "    ''')\n",
    "\n",
    "    return acc_test, time_total, ((memory/1024) / 2**30)\n",
    "\n"
   ]
  },
  {
   "cell_type": "code",
   "execution_count": 7,
   "metadata": {},
   "outputs": [
    {
     "name": "stdout",
     "output_type": "stream",
     "text": [
      "k:  32\n",
      "WARNING:tensorflow:From /var/folders/x5/bhlqr68144x_138bllx2mdwh0000gn/T/ipykernel_85711/3345303984.py:43: The name tf.reset_default_graph is deprecated. Please use tf.compat.v1.reset_default_graph instead.\n",
      "\n"
     ]
    },
    {
     "name": "stderr",
     "output_type": "stream",
     "text": [
      "2022-05-25 18:24:46 (WARNING): From /var/folders/x5/bhlqr68144x_138bllx2mdwh0000gn/T/ipykernel_85711/3345303984.py:43: The name tf.reset_default_graph is deprecated. Please use tf.compat.v1.reset_default_graph instead.\n",
      "\n"
     ]
    },
    {
     "name": "stdout",
     "output_type": "stream",
     "text": [
      "WARNING:tensorflow:From /var/folders/x5/bhlqr68144x_138bllx2mdwh0000gn/T/ipykernel_85711/3345303984.py:44: The name tf.set_random_seed is deprecated. Please use tf.compat.v1.set_random_seed instead.\n",
      "\n"
     ]
    },
    {
     "name": "stderr",
     "output_type": "stream",
     "text": [
      "2022-05-25 18:24:46 (WARNING): From /var/folders/x5/bhlqr68144x_138bllx2mdwh0000gn/T/ipykernel_85711/3345303984.py:44: The name tf.set_random_seed is deprecated. Please use tf.compat.v1.set_random_seed instead.\n",
      "\n"
     ]
    },
    {
     "name": "stdout",
     "output_type": "stream",
     "text": [
      "\n",
      "    Accuracy: Train: 70.5%, val: 50.2%, test: 49.2%\n",
      "    F1 score: Train: 0.591, val: 0.334, test: 0.322\n",
      "\n",
      "    Runtime: Preprocessing: 8.70s, training: 21.79s, inference: 0.11s -> total: 30.60s\n",
      "    Memory: Main: 0.50GB\n",
      "    \n",
      "ELAPSED TIME:  30.596395254135132\n",
      "k:  64\n",
      "\n",
      "    Accuracy: Train: 80.9%, val: 55.5%, test: 54.7%\n",
      "    F1 score: Train: 0.723, val: 0.405, test: 0.391\n",
      "\n",
      "    Runtime: Preprocessing: 0.58s, training: 33.63s, inference: 0.10s -> total: 34.31s\n",
      "    Memory: Main: 0.56GB\n",
      "    \n",
      "ELAPSED TIME:  34.31300711631775\n",
      "k:  128\n"
     ]
    },
    {
     "ename": "KeyboardInterrupt",
     "evalue": "",
     "output_type": "error",
     "traceback": [
      "\u001b[0;31m---------------------------------------------------------------------------\u001b[0m",
      "\u001b[0;31mKeyboardInterrupt\u001b[0m                         Traceback (most recent call last)",
      "\u001b[0;32m/var/folders/x5/bhlqr68144x_138bllx2mdwh0000gn/T/ipykernel_85711/3377225796.py\u001b[0m in \u001b[0;36m<module>\u001b[0;34m\u001b[0m\n\u001b[1;32m     26\u001b[0m \u001b[0;34m\u001b[0m\u001b[0m\n\u001b[1;32m     27\u001b[0m     \u001b[0;32mfor\u001b[0m \u001b[0mi\u001b[0m \u001b[0;32min\u001b[0m \u001b[0mrange\u001b[0m\u001b[0;34m(\u001b[0m\u001b[0miterations\u001b[0m\u001b[0;34m)\u001b[0m\u001b[0;34m:\u001b[0m\u001b[0;34m\u001b[0m\u001b[0;34m\u001b[0m\u001b[0m\n\u001b[0;32m---> 28\u001b[0;31m         \u001b[0macc_test_\u001b[0m\u001b[0;34m,\u001b[0m \u001b[0mtime_total_\u001b[0m\u001b[0;34m,\u001b[0m \u001b[0mmemory_\u001b[0m \u001b[0;34m=\u001b[0m \u001b[0mpprgo_algorithm\u001b[0m\u001b[0;34m(\u001b[0m\u001b[0;34m)\u001b[0m\u001b[0;34m\u001b[0m\u001b[0;34m\u001b[0m\u001b[0m\n\u001b[0m\u001b[1;32m     29\u001b[0m \u001b[0;34m\u001b[0m\u001b[0m\n\u001b[1;32m     30\u001b[0m         \u001b[0mall_acc\u001b[0m\u001b[0;34m.\u001b[0m\u001b[0mappend\u001b[0m\u001b[0;34m(\u001b[0m\u001b[0macc_test_\u001b[0m\u001b[0;34m)\u001b[0m\u001b[0;34m\u001b[0m\u001b[0;34m\u001b[0m\u001b[0m\n",
      "\u001b[0;32m/var/folders/x5/bhlqr68144x_138bllx2mdwh0000gn/T/ipykernel_85711/3345303984.py\u001b[0m in \u001b[0;36mpprgo_algorithm\u001b[0;34m()\u001b[0m\n\u001b[1;32m     56\u001b[0m                 \u001b[0mlabels\u001b[0m\u001b[0;34m=\u001b[0m\u001b[0mlabels\u001b[0m\u001b[0;34m,\u001b[0m\u001b[0;34m\u001b[0m\u001b[0;34m\u001b[0m\u001b[0m\n\u001b[1;32m     57\u001b[0m                 \u001b[0mmax_epochs\u001b[0m\u001b[0;34m=\u001b[0m\u001b[0mmax_epochs\u001b[0m\u001b[0;34m,\u001b[0m \u001b[0mbatch_size\u001b[0m\u001b[0;34m=\u001b[0m\u001b[0mbatch_size\u001b[0m\u001b[0;34m,\u001b[0m \u001b[0mbatch_mult_val\u001b[0m\u001b[0;34m=\u001b[0m\u001b[0mbatch_mult_val\u001b[0m\u001b[0;34m,\u001b[0m\u001b[0;34m\u001b[0m\u001b[0;34m\u001b[0m\u001b[0m\n\u001b[0;32m---> 58\u001b[0;31m                 eval_step=eval_step, early_stop=early_stop, patience=patience)\n\u001b[0m\u001b[1;32m     59\u001b[0m     \u001b[0mtime_training\u001b[0m \u001b[0;34m=\u001b[0m \u001b[0mtime\u001b[0m\u001b[0;34m.\u001b[0m\u001b[0mtime\u001b[0m\u001b[0;34m(\u001b[0m\u001b[0;34m)\u001b[0m \u001b[0;34m-\u001b[0m \u001b[0mstart\u001b[0m\u001b[0;34m\u001b[0m\u001b[0;34m\u001b[0m\u001b[0m\n\u001b[1;32m     60\u001b[0m     \u001b[0mlogging\u001b[0m\u001b[0;34m.\u001b[0m\u001b[0minfo\u001b[0m\u001b[0;34m(\u001b[0m\u001b[0;34m'Training done.'\u001b[0m\u001b[0;34m)\u001b[0m\u001b[0;34m\u001b[0m\u001b[0;34m\u001b[0m\u001b[0m\n",
      "\u001b[0;32m~/Documents/University-TOPUSH/Intership/Experiments/pprgo_tensorflow-experiments/pprgo/pprgo.py\u001b[0m in \u001b[0;36mtrain\u001b[0;34m(sess, model, attr_matrix, train_idx, val_idx, topk_train, topk_val, labels, max_epochs, batch_size, batch_mult_val, eval_step, early_stop, patience, ex)\u001b[0m\n\u001b[1;32m    160\u001b[0m \u001b[0;34m\u001b[0m\u001b[0m\n\u001b[1;32m    161\u001b[0m             _, train_loss, preds = sess.run([model.update_op, model.loss, model.preds],\n\u001b[0;32m--> 162\u001b[0;31m                                              feed_train)\n\u001b[0m\u001b[1;32m    163\u001b[0m \u001b[0;34m\u001b[0m\u001b[0m\n\u001b[1;32m    164\u001b[0m             \u001b[0mstep\u001b[0m \u001b[0;34m+=\u001b[0m \u001b[0;36m1\u001b[0m\u001b[0;34m\u001b[0m\u001b[0;34m\u001b[0m\u001b[0m\n",
      "\u001b[0;32m~/Documents/University-TOPUSH/Intership/Experiments/internship_env/lib/python3.7/site-packages/tensorflow_core/python/client/session.py\u001b[0m in \u001b[0;36mrun\u001b[0;34m(self, fetches, feed_dict, options, run_metadata)\u001b[0m\n\u001b[1;32m    954\u001b[0m     \u001b[0;32mtry\u001b[0m\u001b[0;34m:\u001b[0m\u001b[0;34m\u001b[0m\u001b[0;34m\u001b[0m\u001b[0m\n\u001b[1;32m    955\u001b[0m       result = self._run(None, fetches, feed_dict, options_ptr,\n\u001b[0;32m--> 956\u001b[0;31m                          run_metadata_ptr)\n\u001b[0m\u001b[1;32m    957\u001b[0m       \u001b[0;32mif\u001b[0m \u001b[0mrun_metadata\u001b[0m\u001b[0;34m:\u001b[0m\u001b[0;34m\u001b[0m\u001b[0;34m\u001b[0m\u001b[0m\n\u001b[1;32m    958\u001b[0m         \u001b[0mproto_data\u001b[0m \u001b[0;34m=\u001b[0m \u001b[0mtf_session\u001b[0m\u001b[0;34m.\u001b[0m\u001b[0mTF_GetBuffer\u001b[0m\u001b[0;34m(\u001b[0m\u001b[0mrun_metadata_ptr\u001b[0m\u001b[0;34m)\u001b[0m\u001b[0;34m\u001b[0m\u001b[0;34m\u001b[0m\u001b[0m\n",
      "\u001b[0;32m~/Documents/University-TOPUSH/Intership/Experiments/internship_env/lib/python3.7/site-packages/tensorflow_core/python/client/session.py\u001b[0m in \u001b[0;36m_run\u001b[0;34m(self, handle, fetches, feed_dict, options, run_metadata)\u001b[0m\n\u001b[1;32m   1147\u001b[0m             \u001b[0mfeed_handles\u001b[0m\u001b[0;34m[\u001b[0m\u001b[0msubfeed_t\u001b[0m\u001b[0;34m]\u001b[0m \u001b[0;34m=\u001b[0m \u001b[0msubfeed_val\u001b[0m\u001b[0;34m\u001b[0m\u001b[0;34m\u001b[0m\u001b[0m\n\u001b[1;32m   1148\u001b[0m           \u001b[0;32melse\u001b[0m\u001b[0;34m:\u001b[0m\u001b[0;34m\u001b[0m\u001b[0;34m\u001b[0m\u001b[0m\n\u001b[0;32m-> 1149\u001b[0;31m             \u001b[0mnp_val\u001b[0m \u001b[0;34m=\u001b[0m \u001b[0mnp\u001b[0m\u001b[0;34m.\u001b[0m\u001b[0masarray\u001b[0m\u001b[0;34m(\u001b[0m\u001b[0msubfeed_val\u001b[0m\u001b[0;34m,\u001b[0m \u001b[0mdtype\u001b[0m\u001b[0;34m=\u001b[0m\u001b[0msubfeed_dtype\u001b[0m\u001b[0;34m)\u001b[0m\u001b[0;34m\u001b[0m\u001b[0;34m\u001b[0m\u001b[0m\n\u001b[0m\u001b[1;32m   1150\u001b[0m \u001b[0;34m\u001b[0m\u001b[0m\n\u001b[1;32m   1151\u001b[0m           if (not is_tensor_handle_feed and\n",
      "\u001b[0;32m~/Documents/University-TOPUSH/Intership/Experiments/internship_env/lib/python3.7/site-packages/numpy/core/_asarray.py\u001b[0m in \u001b[0;36masarray\u001b[0;34m(a, dtype, order)\u001b[0m\n\u001b[1;32m     83\u001b[0m \u001b[0;34m\u001b[0m\u001b[0m\n\u001b[1;32m     84\u001b[0m     \"\"\"\n\u001b[0;32m---> 85\u001b[0;31m     \u001b[0;32mreturn\u001b[0m \u001b[0marray\u001b[0m\u001b[0;34m(\u001b[0m\u001b[0ma\u001b[0m\u001b[0;34m,\u001b[0m \u001b[0mdtype\u001b[0m\u001b[0;34m,\u001b[0m \u001b[0mcopy\u001b[0m\u001b[0;34m=\u001b[0m\u001b[0;32mFalse\u001b[0m\u001b[0;34m,\u001b[0m \u001b[0morder\u001b[0m\u001b[0;34m=\u001b[0m\u001b[0morder\u001b[0m\u001b[0;34m)\u001b[0m\u001b[0;34m\u001b[0m\u001b[0;34m\u001b[0m\u001b[0m\n\u001b[0m\u001b[1;32m     86\u001b[0m \u001b[0;34m\u001b[0m\u001b[0m\n\u001b[1;32m     87\u001b[0m \u001b[0;34m\u001b[0m\u001b[0m\n",
      "\u001b[0;31mKeyboardInterrupt\u001b[0m: "
     ]
    }
   ],
   "source": [
    "logger = logging.getLogger()\n",
    "logger.disabled = True\n",
    "\n",
    "k_values = []\n",
    "iterations = 1\n",
    "\n",
    "ACCURACY_RESUTS= []\n",
    "TIME_RESULTS = []\n",
    "MEMORY = []\n",
    "GPU_MEMORY = []\n",
    "\n",
    "\n",
    "elapsed_time = 0\n",
    "topk = 16\n",
    "\n",
    "while elapsed_time < 78.549:\n",
    "\n",
    "    if topk >= 256:\n",
    "        break\n",
    "\n",
    "    topk *= 2\n",
    "    \n",
    "    all_acc = []\n",
    "    all_times = []\n",
    "    main_memory_list = []\n",
    "    \n",
    "    for i in range(iterations):\n",
    "        acc_test_, time_total_, memory_ = pprgo_algorithm()\n",
    "    \n",
    "        all_acc.append(acc_test_)\n",
    "        all_times.append(time_total_)\n",
    "        main_memory_list.append(memory_)\n",
    "    \n",
    "    #Calculate mean \n",
    "    k_values.append(topk)\n",
    "    ACCURACY_RESUTS.append(sum(all_acc)/len(all_acc))\n",
    "    TIME_RESULTS.append(sum(all_times)/len(all_times))\n",
    "    MEMORY.append(sum(main_memory_list)/len(main_memory_list))\n",
    "\n",
    "\n",
    "    elapsed_time = sum(all_times)/len(all_times)\n",
    "    print('ELAPSED TIME: ', elapsed_time)\n",
    "\n",
    "\n",
    "\n"
   ]
  },
  {
   "cell_type": "code",
   "execution_count": null,
   "metadata": {},
   "outputs": [
    {
     "data": {
      "image/png": "[encoded data removed]",
      "text/plain": [
       "<Figure size 432x288 with 1 Axes>"
      ]
     },
     "metadata": {
      "needs_background": "light"
     },
     "output_type": "display_data"
    }
   ],
   "source": [
    "import matplotlib.pyplot as plt\n",
    "\n",
    "# k_values = [32, 64, 128, 256, 512, 1024, 2048, 4096, 8192, 16384]\n",
    "# print(ACCURACY_RESUTS)\n",
    "# print(TIME_RESULTS)\n",
    "  \n",
    "# plotting the points \n",
    "plt.plot(k_values, ACCURACY_RESUTS)\n",
    "  \n",
    "# naming the x axis\n",
    "plt.xlabel('k value')\n",
    "plt.xscale('log')\n",
    "plt.xticks(k_values)\n",
    "\n",
    "\n",
    "# naming the y axis\n",
    "plt.ylabel('Accuracy')\n",
    "  \n",
    "# giving a title to my graph\n",
    "plt.title('Accuracy vs k')\n",
    "  \n",
    "# function to show the plot\n",
    "plt.show()"
   ]
  },
  {
   "cell_type": "code",
   "execution_count": null,
   "metadata": {},
   "outputs": [
    {
     "data": {
      "image/png": "[encoded data removed]",
      "text/plain": [
       "<Figure size 432x288 with 1 Axes>"
      ]
     },
     "metadata": {
      "needs_background": "light"
     },
     "output_type": "display_data"
    }
   ],
   "source": [
    "plt.plot(k_values, TIME_RESULTS)\n",
    "plt.xlabel('k value')\n",
    "plt.xscale('log')\n",
    "plt.xticks(k_values)\n",
    "\n",
    "plt.ylabel('Time (s)')\n",
    "  \n",
    "# giving a title to my graph\n",
    "plt.title('Time vs k')\n",
    "  \n",
    "# function to show the plot\n",
    "plt.show()"
   ]
  },
  {
   "cell_type": "code",
   "execution_count": null,
   "metadata": {},
   "outputs": [
    {
     "name": "stdout",
     "output_type": "stream",
     "text": [
      "╒═════╤════════════╤════════════════════╤════════════════════╕\n",
      "│   k │   Accuracy │   Running time (s) │   Main Memory (GB) │\n",
      "╞═════╪════════════╪════════════════════╪════════════════════╡\n",
      "│  32 │    60.7353 │            47.4761 │           0.491009 │\n",
      "├─────┼────────────┼────────────────────┼────────────────────┤\n",
      "│  64 │    61.5882 │            77.9657 │           0.559036 │\n",
      "├─────┼────────────┼────────────────────┼────────────────────┤\n",
      "│ 128 │    61.1176 │           146.65   │           0.711979 │\n",
      "╘═════╧════════════╧════════════════════╧════════════════════╛\n"
     ]
    }
   ],
   "source": [
    "from tabulate import tabulate\n",
    "\n",
    "table = []\n",
    "#Build table\n",
    "table.append(['k', 'Accuracy', 'Running time (s)', 'Main Memory (GB)', 'GPU Memory(GB)'])\n",
    "for i in range(len(k_values)):\n",
    "    current_row = []\n",
    "    current_row.append(k_values[i])\n",
    "    current_row.append(ACCURACY_RESUTS[i])\n",
    "    current_row.append(TIME_RESULTS[i])\n",
    "    current_row.append(MEMORY[i])\n",
    "    table.append(current_row)\n",
    "\n",
    "print(tabulate(table, headers='firstrow', tablefmt='fancy_grid'))"
   ]
  },
  {
   "cell_type": "markdown",
   "metadata": {},
   "source": [
    "# Load the data"
   ]
  },
  {
   "cell_type": "markdown",
   "metadata": {},
   "source": [
    "# Preprocessing: Calculate PPR scores"
   ]
  },
  {
   "cell_type": "markdown",
   "metadata": {},
   "source": [
    "# Training: Set up model and train"
   ]
  },
  {
   "cell_type": "markdown",
   "metadata": {},
   "source": [
    "# Inference (val and test)"
   ]
  },
  {
   "cell_type": "markdown",
   "metadata": {},
   "source": [
    "# Collect and print results"
   ]
  }
 ],
 "metadata": {
  "interpreter": {
   "hash": "428b61850e5b263fbda2b97ca58cd2fe5cdcfc5a923010f6dd10a2ffb1b72031"
  },
  "kernelspec": {
   "display_name": "jupy_env",
   "language": "python",
   "name": "jupy_env"
  },
  "language_info": {
   "codemirror_mode": {
    "name": "ipython",
    "version": 3
   },
   "file_extension": ".py",
   "mimetype": "text/x-python",
   "name": "python",
   "nbconvert_exporter": "python",
   "pygments_lexer": "ipython3",
   "version": "3.7.13"
  }
 },
 "nbformat": 4,
 "nbformat_minor": 4
}
