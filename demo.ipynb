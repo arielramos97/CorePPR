{
 "cells": [
  {
   "cell_type": "code",
   "execution_count": 1,
   "metadata": {},
   "outputs": [],
   "source": [
    "import os\n",
    "import time\n",
    "import logging\n",
    "import yaml\n",
    "import ast\n",
    "import numpy as np\n",
    "import tensorflow as tf\n",
    "from sklearn.metrics import accuracy_score, f1_score, confusion_matrix\n",
    "\n",
    "from pprgo import utils\n",
    "from pprgo import ppr\n",
    "from pprgo import pprgo\n",
    "\n"
   ]
  },
  {
   "cell_type": "code",
   "execution_count": 2,
   "metadata": {},
   "outputs": [],
   "source": [
    "# Set up logging\n",
    "logger = logging.getLogger()\n",
    "logger.handlers = []\n",
    "ch = logging.StreamHandler()\n",
    "formatter = logging.Formatter(\n",
    "        fmt='%(asctime)s (%(levelname)s): %(message)s',\n",
    "        datefmt='%Y-%m-%d %H:%M:%S')\n",
    "ch.setFormatter(formatter)\n",
    "logger.addHandler(ch)\n",
    "logger.setLevel('INFO')\n",
    "\n",
    "os.environ['TF_CPP_MIN_LOG_LEVEL'] = '3'"
   ]
  },
  {
   "cell_type": "code",
   "execution_count": 3,
   "metadata": {},
   "outputs": [],
   "source": [
    "# !wget --show-progress -O data/reddit.npz https://ndownloader.figshare.com/files/23742119  #Reddit\n",
    "# !wget --show-progress -O data/magc.npz https://figshare.com/ndownloader/files/24045741 #MAG-COARSE"
   ]
  },
  {
   "cell_type": "markdown",
   "metadata": {},
   "source": [
    "# Download dataset"
   ]
  },
  {
   "cell_type": "markdown",
   "metadata": {},
   "source": [
    "# Load config"
   ]
  },
  {
   "cell_type": "code",
   "execution_count": 4,
   "metadata": {},
   "outputs": [],
   "source": [
    "with open('config_demo.yaml', 'r') as c:\n",
    "    config = yaml.safe_load(c)"
   ]
  },
  {
   "cell_type": "code",
   "execution_count": 5,
   "metadata": {},
   "outputs": [],
   "source": [
    "# For strings that yaml doesn't parse (e.g. None)\n",
    "for key, val in config.items():\n",
    "    if type(val) is str:\n",
    "        try:\n",
    "            config[key] = ast.literal_eval(val)\n",
    "        except (ValueError, SyntaxError):\n",
    "            pass"
   ]
  },
  {
   "cell_type": "code",
   "execution_count": 6,
   "metadata": {},
   "outputs": [],
   "source": [
    "data_file           = config['data_file']           # Path to the .npz data file\n",
    "data_file = 'data/cora_full.npz'\n",
    "# data_file = 'data/pubmed.npz'\n",
    "# data_file = 'data/reddit.npz'\n",
    "# data_file = 'data/magc.npz'\n",
    "\n",
    "split_seed          = config['split_seed']          # Seed for splitting the dataset into train/val/test\n",
    "ntrain_div_classes  = config['ntrain_div_classes']  # Number of training nodes divided by number of classes\n",
    "attr_normalization  = config['attr_normalization']  # Attribute normalization. Not used in the paper\n",
    "\n",
    "alpha               = config['alpha']               # PPR teleport probability\n",
    "alpha = 0.25\n",
    "eps                 = config['eps']                 # Stopping threshold for ACL's ApproximatePR\n",
    "topk                = config['topk']                # Number of PPR neighbors for each node\n",
    "topk=32\n",
    "ppr_normalization   = config['ppr_normalization']   # Adjacency matrix normalization for weighting neighbors\n",
    "\n",
    "hidden_size         = config['hidden_size']         # Size of the MLP's hidden layer\n",
    "nlayers             = config['nlayers']             # Number of MLP layers\n",
    "weight_decay        = config['weight_decay']        # Weight decay used for training the MLP\n",
    "dropout             = config['dropout']             # Dropout used for training\n",
    "\n",
    "lr                  = config['lr']                  # Learning rate\n",
    "max_epochs          = config['max_epochs']          # Maximum number of epochs (exact number if no early stopping)\n",
    "batch_size          = config['batch_size']          # Batch size for training\n",
    "batch_mult_val      = config['batch_mult_val']      # Multiplier for validation batch size\n",
    "\n",
    "eval_step           = config['eval_step']           # Accuracy is evaluated after every this number of steps\n",
    "run_val             = config['run_val']             # Evaluate accuracy on validation set during training\n",
    "\n",
    "early_stop          = config['early_stop']          # Use early stopping\n",
    "patience            = config['patience']            # Patience for early stopping\n",
    "\n",
    "nprop_inference     = config['nprop_inference']     # Number of propagation steps during inference\n",
    "inf_fraction        = config['inf_fraction']        # Fraction of nodes for which local predictions are computed during inference"
   ]
  },
  {
   "cell_type": "markdown",
   "metadata": {},
   "source": [
    "# Load the data"
   ]
  },
  {
   "cell_type": "code",
   "execution_count": 7,
   "metadata": {},
   "outputs": [
    {
     "name": "stdout",
     "output_type": "stream",
     "text": [
      "Number of classes:  70\n",
      "Runtime: 0.22s\n"
     ]
    }
   ],
   "source": [
    "start = time.time()\n",
    "(adj_matrix, attr_matrix, labels,\n",
    " train_idx, val_idx, test_idx) = utils.get_data(\n",
    "        f\"{data_file}\",\n",
    "        seed=split_seed,\n",
    "        ntrain_div_classes=ntrain_div_classes,\n",
    "        normalize_attr=attr_normalization\n",
    ")\n",
    "try:\n",
    "    d = attr_matrix.n_columns\n",
    "except AttributeError:\n",
    "    d = attr_matrix.shape[1]\n",
    "nc = labels.max() + 1\n",
    "print('Number of classes: ', nc)\n",
    "\n",
    "# print('shape attibute matrix: ', attr_matrix.n_rows)\n",
    "# print('Training: ', len(train_idx))\n",
    "# print('Validation: ', len(val_idx))\n",
    "# print('Testing: ', len(test_idx))\n",
    "# print('train_idx: ', train_idx)\n",
    "\n",
    "time_loading = time.time() - start\n",
    "print(f\"Runtime: {time_loading:.2f}s\")"
   ]
  },
  {
   "cell_type": "markdown",
   "metadata": {},
   "source": [
    "# Preprocessing: Calculate PPR scores"
   ]
  },
  {
   "cell_type": "code",
   "execution_count": 8,
   "metadata": {},
   "outputs": [],
   "source": [
    "\n",
    "# core_numbers = None\n",
    "core_numbers = np.load('coredata/cora-cores.npy')"
   ]
  },
  {
   "cell_type": "code",
   "execution_count": 9,
   "metadata": {},
   "outputs": [],
   "source": [
    "idx_all_nodes = np.arange(adj_matrix.shape[0])"
   ]
  },
  {
   "cell_type": "code",
   "execution_count": 18,
   "metadata": {},
   "outputs": [
    {
     "name": "stdout",
     "output_type": "stream",
     "text": [
      "Mean kn:  15.391428571428571\n",
      "Runtime: 0.09s\n"
     ]
    }
   ],
   "source": [
    "# compute the ppr vectors for train/val nodes using ACL's ApproximatePR\n",
    "\n",
    "start = time.time()\n",
    "\n",
    "# ppr_topk_train, core_topk_train, coreRank, mean_kn = ppr.topk_ppr_matrix(adj_matrix, alpha, eps, idx_all_nodes, None, core_numbers,\n",
    "#                                  normalization=ppr_normalization)\n",
    "\n",
    "# ppr_topk_train_top32, core_topk_train_top32, coreRank, mean_kn = ppr.topk_ppr_matrix(adj_matrix, alpha, eps, idx_all_nodes, topk, core_numbers,\n",
    "#                                  normalization=ppr_normalization)\n",
    "\n",
    "\n",
    "ppr_topk_train, core_topk_train, mean_kn = ppr.topk_ppr_matrix(adj_matrix, alpha, eps, train_idx, topk, core_numbers,\n",
    "                                 normalization=ppr_normalization, elbow=True)\n",
    "\n",
    "if run_val:\n",
    "    topk_val = ppr.topk_ppr_matrix(adj_matrix, alpha, eps, val_idx, topk,\n",
    "                                   normalization=ppr_normalization)\n",
    "else:\n",
    "    topk_val = None\n",
    "\n",
    "time_preprocessing = time.time() - start\n",
    "print(f\"Runtime: {time_preprocessing:.2f}s\")\n"
   ]
  },
  {
   "cell_type": "code",
   "execution_count": 11,
   "metadata": {},
   "outputs": [],
   "source": [
    "import scipy.sparse\n",
    "\n",
    "# scipy.sparse.save_npz('full_ppr.npz', ppr_topk_train)\n",
    "# scipy.sparse.save_npz('full_core.npz', core_topk_train)\n",
    "# scipy.sparse.save_npz('top32_ppr.npz', ppr_topk_train_top32)\n",
    "# scipy.sparse.save_npz('top32_core.npz', core_topk_train_top32)"
   ]
  },
  {
   "cell_type": "code",
   "execution_count": 12,
   "metadata": {},
   "outputs": [],
   "source": [
    "# ppr_topk_train = scipy.sparse.load_npz('top32_ppr.npz')\n",
    "# core_topk_train = scipy.sparse.load_npz('top32_core.npz')"
   ]
  },
  {
   "cell_type": "code",
   "execution_count": 19,
   "metadata": {},
   "outputs": [
    {
     "name": "stdout",
     "output_type": "stream",
     "text": [
      "(1400, 18800)\n",
      "(1400, 18800)\n",
      "(52,)\n",
      "(52,)\n"
     ]
    }
   ],
   "source": [
    "print(ppr_topk_train.shape)\n",
    "print(core_topk_train.shape)\n",
    "print(ppr_topk_train[0].nonzero()[0].shape)\n",
    "print(core_topk_train[0].nonzero()[0].shape)\n"
   ]
  },
  {
   "cell_type": "markdown",
   "metadata": {},
   "source": []
  },
  {
   "cell_type": "markdown",
   "metadata": {},
   "source": [
    "# Training: Set up model and train"
   ]
  },
  {
   "cell_type": "code",
   "execution_count": 20,
   "metadata": {},
   "outputs": [],
   "source": [
    "start = time.time()\n",
    "tf.reset_default_graph()\n",
    "tf.set_random_seed(0)\n",
    "\n",
    "\n",
    "gamma = 0.0\n",
    "\n",
    "model = pprgo.PPRGo(d, nc, hidden_size, nlayers, lr, gamma, weight_decay, dropout, #adj_matrix, train_idx, TEMP, K, topk_train, intermediate_layer=100,\n",
    "                    sparse_features=type(attr_matrix) is not np.ndarray)\n"
   ]
  },
  {
   "cell_type": "code",
   "execution_count": 21,
   "metadata": {},
   "outputs": [
    {
     "name": "stderr",
     "output_type": "stream",
     "text": [
      "2022-08-11 11:48:00 (INFO): Epoch 6, step 20: train 3.93249\n",
      "2022-08-11 11:48:00 (INFO): Epoch 13, step 40: train 3.27489\n",
      "2022-08-11 11:48:01 (INFO): Epoch 19, step 60: train 2.88875\n",
      "2022-08-11 11:48:01 (INFO): Epoch 26, step 80: train 2.57202\n",
      "2022-08-11 11:48:02 (INFO): Epoch 33, step 100: train 1.78412\n",
      "2022-08-11 11:48:02 (INFO): Epoch 39, step 120: train 1.52578\n",
      "2022-08-11 11:48:03 (INFO): Epoch 46, step 140: train 1.44289\n",
      "2022-08-11 11:48:03 (INFO): Epoch 53, step 160: train 1.07313\n",
      "2022-08-11 11:48:04 (INFO): Epoch 59, step 180: train 0.95348\n",
      "2022-08-11 11:48:04 (INFO): Epoch 66, step 200: train 1.01308\n",
      "2022-08-11 11:48:05 (INFO): Epoch 73, step 220: train 0.82139\n",
      "2022-08-11 11:48:05 (INFO): Epoch 79, step 240: train 0.76500\n",
      "2022-08-11 11:48:06 (INFO): Epoch 86, step 260: train 0.82824\n",
      "2022-08-11 11:48:07 (INFO): Epoch 93, step 280: train 0.69431\n",
      "2022-08-11 11:48:07 (INFO): Epoch 99, step 300: train 0.67494\n",
      "2022-08-11 11:48:07 (INFO): Epoch 106, step 320: train 0.71245\n",
      "2022-08-11 11:48:08 (INFO): Epoch 113, step 340: train 0.64381\n",
      "2022-08-11 11:48:08 (INFO): Epoch 119, step 360: train 0.61290\n",
      "2022-08-11 11:48:09 (INFO): Epoch 126, step 380: train 0.65319\n",
      "2022-08-11 11:48:09 (INFO): Epoch 133, step 400: train 0.57705\n",
      "2022-08-11 11:48:10 (INFO): Epoch 139, step 420: train 0.57385\n",
      "2022-08-11 11:48:10 (INFO): Epoch 146, step 440: train 0.61614\n",
      "2022-08-11 11:48:11 (INFO): Epoch 153, step 460: train 0.54322\n",
      "2022-08-11 11:48:12 (INFO): Epoch 159, step 480: train 0.53659\n",
      "2022-08-11 11:48:12 (INFO): Epoch 166, step 500: train 0.57159\n",
      "2022-08-11 11:48:13 (INFO): Epoch 173, step 520: train 0.52320\n",
      "2022-08-11 11:48:13 (INFO): Epoch 179, step 540: train 0.51523\n",
      "2022-08-11 11:48:13 (INFO): Epoch 186, step 560: train 0.55443\n",
      "2022-08-11 11:48:14 (INFO): Epoch 193, step 580: train 0.50023\n",
      "2022-08-11 11:48:14 (INFO): Epoch 199, step 600: train 0.49811\n",
      "2022-08-11 11:48:14 (INFO): Training done.\n"
     ]
    },
    {
     "name": "stdout",
     "output_type": "stream",
     "text": [
      "Runtime: 21.08s\n"
     ]
    }
   ],
   "source": [
    "sess = tf.compat.v1.Session()\n",
    "with sess.as_default():\n",
    "    tf.compat.v1.global_variables_initializer().run()\n",
    "    nepochs, loss_hist, acc_hist, f1_hist = pprgo.train(\n",
    "            sess=sess, model=model, attr_matrix=attr_matrix,\n",
    "            train_idx=train_idx, val_idx=val_idx,\n",
    "            # topk_train=ppr_topk_train[train_idx], topk_val=topk_val, core_topk_train=core_topk_train[train_idx],\n",
    "            topk_train=ppr_topk_train, topk_val=topk_val, core_topk_train=core_topk_train,\n",
    "            labels=labels, \n",
    "            max_epochs=max_epochs, batch_size=batch_size, batch_mult_val=batch_mult_val,\n",
    "            eval_step=eval_step, early_stop=early_stop, patience=patience)\n",
    "time_training = time.time() - start\n",
    "logging.info('Training done.')\n",
    "print(f\"Runtime: {time_training:.2f}s\")"
   ]
  },
  {
   "cell_type": "code",
   "execution_count": 22,
   "metadata": {},
   "outputs": [
    {
     "name": "stdout",
     "output_type": "stream",
     "text": [
      "(1400, 18800)\n"
     ]
    }
   ],
   "source": [
    "# ppr_topk_train = scipy.sparse.load_npz('full_ppr.npz')\n",
    "# core_topk_train = scipy.sparse.load_npz('full_core.npz')\n",
    "\n",
    "print(ppr_topk_train.shape)\n",
    "# print(core_topk_train.shape)\n",
    "# print(ppr_topk_train[0].nonzero()[0].shape)\n",
    "# print(core_topk_train[0].nonzero()[0].shape)"
   ]
  },
  {
   "cell_type": "markdown",
   "metadata": {},
   "source": [
    "# Inference (val and test)"
   ]
  },
  {
   "cell_type": "code",
   "execution_count": 23,
   "metadata": {},
   "outputs": [
    {
     "name": "stdout",
     "output_type": "stream",
     "text": [
      "Inference gamma:  0.10288522\n",
      "Runtime: 0.17s\n"
     ]
    }
   ],
   "source": [
    "start = time.time()\n",
    "predictions, time_logits, time_propagation, logits = model.predict(\n",
    "        # sess=sess, adj_matrix=adj_matrix, attr_matrix=attr_matrix, alpha=alpha, ppr_topk_test=ppr_topk_train[test_idx], core_topk_test=core_topk_train[test_idx],\n",
    "        sess=sess, adj_matrix=adj_matrix, attr_matrix=attr_matrix, alpha=alpha, ppr_topk_test=None, core_topk_test=None,\n",
    "        nprop=nprop_inference, inf_fraction=inf_fraction,\n",
    "        ppr_normalization=ppr_normalization)\n",
    "time_inference = time.time() - start\n",
    "print(f\"Runtime: {time_inference:.2f}s\")"
   ]
  },
  {
   "cell_type": "code",
   "execution_count": 24,
   "metadata": {},
   "outputs": [
    {
     "name": "stdout",
     "output_type": "stream",
     "text": [
      "18800\n",
      "3400\n"
     ]
    }
   ],
   "source": [
    "print(len(predictions))\n",
    "print(len(test_idx))"
   ]
  },
  {
   "cell_type": "code",
   "execution_count": null,
   "metadata": {},
   "outputs": [],
   "source": [
    "deg = adj_matrix.sum(1).A1\n",
    "deg_sqrt_inv = 1. / np.sqrt(np.maximum(deg, 1e-12))\n",
    "\n",
    "print('logits: ', logits.shape)\n",
    "print('adj_matrix: ', adj_matrix.shape)\n",
    "\n",
    "# print(adj_matrix)\n",
    "# print(deg_sqrt_inv)\n",
    "\n",
    "# adj_matrix_norm =  adj_matrix.multiply(deg_sqrt_inv[:, None])\n",
    "\n",
    "# print('x: ', x.shape, x )\n",
    "\n",
    "# print('x: ', x.shape)\n",
    "\n",
    "# x = np.arange(16).reshape(4,4)\n",
    "# print(x)\n",
    "# x = scipy.sparse.csr_matrix(x)\n",
    "\n",
    "# # print(x)\n",
    "# print(x.shape)\n",
    "\n",
    "# y = np.arange(4)\n",
    "# print(y)\n",
    "# print(y[:, None].shape)\n",
    "\n",
    "\n",
    "# w = x.multiply(y[:, None])\n",
    "# print('w: ', w.shape, w.todense())\n",
    "\n",
    "# z = y[:, None] * x\n",
    "# print('z: ', z.shape)\n",
    "\n",
    "\n",
    "# print(logits)\n",
    "\n",
    "# # core_matrix = adj_matrix.multiply(coreRank)\n",
    "# # normalized_core_matrix = core_matrix.multiply(1/core_matrix.sum(axis=1).A1[:, None])\n",
    "# # print(normalized_core_matrix.sum(axis=1))\n",
    "\n",
    "# M = adj_matrix.multiply(deg_sqrt_inv[:, None])\n",
    "# A_inner = scipy.sparse.eye(adj_matrix.shape[0]) - (1 - alpha) * M\n",
    "# result = scipy.sparse.linalg.inv(A_inner)\n",
    "\n",
    "# print('result: ', result.shape, type(result))\n",
    "\n",
    "\n",
    "\n",
    "# right_term = scipy.sparse.eye(adj_matrix.shape[0])\n",
    "# adj_power = adj_matrix.multiply(deg_sqrt_inv[:, None])\n",
    "\n",
    "\n",
    "# for k in range(1, nprop_inference):\n",
    "#     if k ==1:\n",
    "#         right_term += (1-alpha)  * adj_power\n",
    "#     else:\n",
    "#         adj_power = adj_power @ adj_power\n",
    "#         right_term += np.power(1-alpha, k) * adj_power\n",
    "\n",
    "# right_term = alpha * right_term\n",
    "\n",
    "# adj_power = adj_power @ adj_power\n",
    "\n",
    "# left_term = np.power(1-alpha, nprop_inference) * adj_power\n",
    "\n",
    "# new_logits = (left_term +right_term) @ (deg_sqrt_inv[:, None] * logits)\n",
    "\n",
    "\n",
    "\n",
    "\n",
    "\n"
   ]
  },
  {
   "cell_type": "code",
   "execution_count": null,
   "metadata": {},
   "outputs": [],
   "source": [
    "# print(deg_sqrt_inv[:, None].shape)\n",
    "# print((adj_matrix).shape)\n",
    "\n",
    "# deg_sqrt_inv[:, None] * "
   ]
  },
  {
   "cell_type": "code",
   "execution_count": null,
   "metadata": {},
   "outputs": [],
   "source": [
    "# xd =  deg_sqrt_inv[:, None] *(normalized_core_matrix * deg_sqrt_inv[:, None])\n",
    "# print(xd.shape)\n",
    "# adj = np.array([[0,1,1],[1,1,0], [1,0,1]])\n",
    "# coreRank = np.array([3,7,9])\n",
    "\n",
    "# print('adj: ', adj)\n",
    "# print('coreRank: ', coreRank)\n",
    "\n",
    "# coreMatrix = np.multiply(adj, coreRank)\n",
    "\n",
    "# print('coreMatrix: ', coreMatrix)\n",
    "\n",
    "# # print('sum: ', np.sum(coreMatrix, axis=1))\n",
    "\n",
    "# z = np.multiply(coreMatrix, 1/ np.sum(coreMatrix, axis=1)[:,None])\n",
    "# print(z)\n",
    "\n",
    "# print(np.sum(z, axis=1))\n"
   ]
  },
  {
   "cell_type": "code",
   "execution_count": null,
   "metadata": {},
   "outputs": [],
   "source": [
    "print(acc_hist)\n"
   ]
  },
  {
   "cell_type": "markdown",
   "metadata": {},
   "source": [
    "# Collect and print results"
   ]
  },
  {
   "cell_type": "code",
   "execution_count": 25,
   "metadata": {},
   "outputs": [],
   "source": [
    "\n",
    "acc_train = 100 * accuracy_score(labels[train_idx], predictions[train_idx])\n",
    "acc_val = 100 * accuracy_score(labels[val_idx], predictions[val_idx])\n",
    "acc_test = 100 * accuracy_score(labels[test_idx], predictions[test_idx])\n",
    "\n",
    "# acc_test = 100 * accuracy_score(labels[test_idx], predictions)\n",
    "# acc_train = 0.00\n",
    "# acc_val = 0.00\n",
    "\n",
    "f1_train = f1_score(labels[train_idx], predictions[train_idx], average='macro')\n",
    "f1_val = f1_score(labels[val_idx], predictions[val_idx], average='macro')\n",
    "f1_test = f1_score(labels[test_idx], predictions[test_idx], average='macro')\n",
    "# f1_train = 0.00\n",
    "# f1_val = 0.00\n",
    "# f1_test = f1_score(labels[test_idx], predictions, average='macro')\n",
    "\n",
    "\n",
    "\n",
    "#gpu_max_bytes = tf.contrib.memory_stats.MaxBytesInUse()\n",
    "#gpu_memory = sess.run(gpu_max_bytes)\n",
    "memory = utils.get_max_memory_bytes()\n",
    "\n",
    "time_total = time_preprocessing + time_training + time_inference"
   ]
  },
  {
   "cell_type": "code",
   "execution_count": 26,
   "metadata": {},
   "outputs": [
    {
     "name": "stdout",
     "output_type": "stream",
     "text": [
      "\n",
      "Accuracy: Train: 99.3%, val: 61.2%, test: 60.5%\n",
      "F1 score: Train: 0.992, val: 0.507, test: 0.495\n",
      "\n",
      "Runtime: Preprocessing: 0.09s, training: 21.08s, inference: 0.17s -> total: 21.34s\n",
      "Memory: Main: 0.53GB\n",
      "\n"
     ]
    }
   ],
   "source": [
    "print(f'''\n",
    "Accuracy: Train: {acc_train:.1f}%, val: {acc_val:.1f}%, test: {acc_test:.1f}%\n",
    "F1 score: Train: {f1_train:.3f}, val: {f1_val:.3f}, test: {f1_test:.3f}\n",
    "\n",
    "Runtime: Preprocessing: {time_preprocessing:.2f}s, training: {time_training:.2f}s, inference: {time_inference:.2f}s -> total: {time_total:.2f}s\n",
    "Memory: Main: {(memory/1024) / 2**30:.2f}GB\n",
    "''')\n",
    "\n",
    "#Memory: Main: {memory / 2**30:.2f}GB, GPU: {gpu_memory / 2**30:.3f}GB"
   ]
  }
 ],
 "metadata": {
  "kernelspec": {
   "display_name": "Python 3.7.13 ('internship_env')",
   "language": "python",
   "name": "python3"
  },
  "language_info": {
   "codemirror_mode": {
    "name": "ipython",
    "version": 3
   },
   "file_extension": ".py",
   "mimetype": "text/x-python",
   "name": "python",
   "nbconvert_exporter": "python",
   "pygments_lexer": "ipython3",
   "version": "3.7.13"
  },
  "vscode": {
   "interpreter": {
    "hash": "428b61850e5b263fbda2b97ca58cd2fe5cdcfc5a923010f6dd10a2ffb1b72031"
   }
  }
 },
 "nbformat": 4,
 "nbformat_minor": 4
}
