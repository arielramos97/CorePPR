{
 "cells": [
  {
   "cell_type": "code",
   "execution_count": 1,
   "metadata": {},
   "outputs": [],
   "source": [
    "import os\n",
    "import time\n",
    "import logging\n",
    "import yaml\n",
    "import ast\n",
    "import numpy as np\n",
    "import tensorflow as tf\n",
    "from sklearn.metrics import accuracy_score, f1_score, confusion_matrix\n",
    "\n",
    "from pprgo import utils\n",
    "from pprgo import ppr\n",
    "from pprgo import pprgo\n",
    "\n",
    "import igraph\n",
    "import pickle"
   ]
  },
  {
   "cell_type": "code",
   "execution_count": 2,
   "metadata": {},
   "outputs": [],
   "source": [
    "# Set up logging\n",
    "logger = logging.getLogger()\n",
    "logger.handlers = []\n",
    "ch = logging.StreamHandler()\n",
    "formatter = logging.Formatter(\n",
    "        fmt='%(asctime)s (%(levelname)s): %(message)s',\n",
    "        datefmt='%Y-%m-%d %H:%M:%S')\n",
    "ch.setFormatter(formatter)\n",
    "logger.addHandler(ch)\n",
    "logger.setLevel('INFO')\n",
    "\n",
    "os.environ['TF_CPP_MIN_LOG_LEVEL'] = '3'"
   ]
  },
  {
   "cell_type": "code",
   "execution_count": 3,
   "metadata": {},
   "outputs": [],
   "source": [
    "# !wget --show-progress -O data/reddit.npz https://ndownloader.figshare.com/files/23742119"
   ]
  },
  {
   "cell_type": "markdown",
   "metadata": {},
   "source": [
    "# Download dataset"
   ]
  },
  {
   "cell_type": "markdown",
   "metadata": {},
   "source": [
    "# Load config"
   ]
  },
  {
   "cell_type": "code",
   "execution_count": 4,
   "metadata": {},
   "outputs": [],
   "source": [
    "with open('config_demo.yaml', 'r') as c:\n",
    "    config = yaml.safe_load(c)"
   ]
  },
  {
   "cell_type": "code",
   "execution_count": 5,
   "metadata": {},
   "outputs": [],
   "source": [
    "# For strings that yaml doesn't parse (e.g. None)\n",
    "for key, val in config.items():\n",
    "    if type(val) is str:\n",
    "        try:\n",
    "            config[key] = ast.literal_eval(val)\n",
    "        except (ValueError, SyntaxError):\n",
    "            pass"
   ]
  },
  {
   "cell_type": "code",
   "execution_count": 6,
   "metadata": {},
   "outputs": [],
   "source": [
    "data_file           = config['data_file']           # Path to the .npz data file\n",
    "data_file = 'data/cora_full.npz'\n",
    "# data_file = 'data/reddit.npz'\n",
    "\n",
    "split_seed          = config['split_seed']          # Seed for splitting the dataset into train/val/test\n",
    "ntrain_div_classes  = config['ntrain_div_classes']  # Number of training nodes divided by number of classes\n",
    "attr_normalization  = config['attr_normalization']  # Attribute normalization. Not used in the paper\n",
    "\n",
    "alpha               = config['alpha']               # PPR teleport probability\n",
    "alpha = 0.25\n",
    "eps                 = config['eps']                 # Stopping threshold for ACL's ApproximatePR\n",
    "topk                = config['topk']                # Number of PPR neighbors for each node\n",
    "topk=32\n",
    "ppr_normalization   = config['ppr_normalization']   # Adjacency matrix normalization for weighting neighbors\n",
    "\n",
    "hidden_size         = config['hidden_size']         # Size of the MLP's hidden layer\n",
    "nlayers             = config['nlayers']             # Number of MLP layers\n",
    "weight_decay        = config['weight_decay']        # Weight decay used for training the MLP\n",
    "dropout             = config['dropout']             # Dropout used for training\n",
    "\n",
    "lr                  = config['lr']                  # Learning rate\n",
    "max_epochs          = config['max_epochs']          # Maximum number of epochs (exact number if no early stopping)\n",
    "batch_size          = config['batch_size']          # Batch size for training\n",
    "batch_mult_val      = config['batch_mult_val']      # Multiplier for validation batch size\n",
    "\n",
    "eval_step           = config['eval_step']           # Accuracy is evaluated after every this number of steps\n",
    "run_val             = config['run_val']             # Evaluate accuracy on validation set during training\n",
    "\n",
    "early_stop          = config['early_stop']          # Use early stopping\n",
    "patience            = config['patience']            # Patience for early stopping\n",
    "\n",
    "nprop_inference     = config['nprop_inference']     # Number of propagation steps during inference\n",
    "inf_fraction        = config['inf_fraction']        # Fraction of nodes for which local predictions are computed during inference"
   ]
  },
  {
   "cell_type": "code",
   "execution_count": 7,
   "metadata": {},
   "outputs": [],
   "source": [
    "import warnings\n",
    "warnings.filterwarnings(\"ignore\")"
   ]
  },
  {
   "cell_type": "markdown",
   "metadata": {},
   "source": [
    "# Load the data"
   ]
  },
  {
   "cell_type": "code",
   "execution_count": 8,
   "metadata": {},
   "outputs": [
    {
     "name": "stdout",
     "output_type": "stream",
     "text": [
      "70\n",
      "shape attibute matrix:  18800\n",
      "Training:  1400\n",
      "Validation:  14000\n",
      "Testing:  3400\n",
      "train_idx:  [   12    16    18 ... 18790 18793 18798]\n",
      "Runtime: 0.32s\n"
     ]
    }
   ],
   "source": [
    "start = time.time()\n",
    "(adj_matrix, attr_matrix, labels,\n",
    " train_idx, val_idx, test_idx) = utils.get_data(\n",
    "        f\"{data_file}\",\n",
    "        seed=split_seed,\n",
    "        ntrain_div_classes=ntrain_div_classes,\n",
    "        normalize_attr=attr_normalization\n",
    ")\n",
    "try:\n",
    "    d = attr_matrix.n_columns\n",
    "except AttributeError:\n",
    "    d = attr_matrix.shape[1]\n",
    "nc = labels.max() + 1\n",
    "print(nc)\n",
    "\n",
    "print('shape attibute matrix: ', attr_matrix.n_rows)\n",
    "print('Training: ', len(train_idx))\n",
    "print('Validation: ', len(val_idx))\n",
    "print('Testing: ', len(test_idx))\n",
    "\n",
    "print('train_idx: ', train_idx)\n",
    "\n",
    "time_loading = time.time() - start\n",
    "print(f\"Runtime: {time_loading:.2f}s\")"
   ]
  },
  {
   "cell_type": "markdown",
   "metadata": {},
   "source": [
    "# Preprocessing: Calculate PPR scores"
   ]
  },
  {
   "cell_type": "code",
   "execution_count": 9,
   "metadata": {},
   "outputs": [
    {
     "name": "stdout",
     "output_type": "stream",
     "text": [
      "Requirement already satisfied: networkx in /Users/arielo97/Documents/University-TOPUSH/Intership/Experiments/internship_env/lib/python3.7/site-packages (2.6.3)\n",
      "\u001b[33mWARNING: There was an error checking the latest version of pip.\u001b[0m\u001b[33m\n",
      "\u001b[0mNote: you may need to restart the kernel to use updated packages.\n"
     ]
    }
   ],
   "source": [
    "pip install networkx"
   ]
  },
  {
   "cell_type": "code",
   "execution_count": 10,
   "metadata": {},
   "outputs": [],
   "source": [
    "from networkx import from_scipy_sparse_matrix, k_truss, core_number\n",
    "\n",
    "g_networkX = from_scipy_sparse_matrix(adj_matrix)\n",
    "# core_numbers = core_number(g_networkX)\n",
    "# np.save('core-numbers-networkx', np.array(list(core_numbers.values())))\n"
   ]
  },
  {
   "cell_type": "code",
   "execution_count": 11,
   "metadata": {},
   "outputs": [],
   "source": [
    "# truss = k_truss(g_networkX, 3)\n",
    "# print(truss.nodes[0:10])"
   ]
  },
  {
   "cell_type": "code",
   "execution_count": 12,
   "metadata": {},
   "outputs": [],
   "source": [
    "#Compute core numbers\n",
    "core_numbers = np.load('core-numbers-networkx.npy')\n",
    "\n",
    "# graph = igraph.Graph.Adjacency((adj_matrix.todense()> 0).tolist())\n",
    "# core_numbers = np.array(graph.coreness())\n",
    "\n",
    "\n"
   ]
  },
  {
   "cell_type": "code",
   "execution_count": 13,
   "metadata": {},
   "outputs": [],
   "source": [
    "# with open('graph.pkl', 'wb') as outp:  # Overwrites any existing file.\n",
    "#         pickle.dump(graph, outp, pickle.HIGHEST_PROTOCOL)\n",
    "\n",
    "with open('graph.pkl', 'rb') as inp:\n",
    "    graph = pickle.load(inp)\n",
    "\n",
    "# shortest_path = graph.get_shortest_paths(0, to=[1,2,3])\n",
    "# print(shortest_path)"
   ]
  },
  {
   "cell_type": "code",
   "execution_count": 14,
   "metadata": {},
   "outputs": [
    {
     "ename": "KeyboardInterrupt",
     "evalue": "",
     "output_type": "error",
     "traceback": [
      "\u001b[0;31m---------------------------------------------------------------------------\u001b[0m",
      "\u001b[0;31mKeyboardInterrupt\u001b[0m                         Traceback (most recent call last)",
      "\u001b[0;32m/var/folders/x5/bhlqr68144x_138bllx2mdwh0000gn/T/ipykernel_29621/3223331182.py\u001b[0m in \u001b[0;36m<module>\u001b[0;34m\u001b[0m\n\u001b[1;32m      4\u001b[0m \u001b[0;34m\u001b[0m\u001b[0m\n\u001b[1;32m      5\u001b[0m topk_train, mean_kn = ppr.topk_ppr_matrix(adj_matrix, alpha, eps, train_idx, topk, core_numbers, graph,\n\u001b[0;32m----> 6\u001b[0;31m                                  normalization=ppr_normalization, S=1, gamma=1.0)\n\u001b[0m\u001b[1;32m      7\u001b[0m \u001b[0;32mif\u001b[0m \u001b[0mrun_val\u001b[0m\u001b[0;34m:\u001b[0m\u001b[0;34m\u001b[0m\u001b[0;34m\u001b[0m\u001b[0m\n\u001b[1;32m      8\u001b[0m     topk_val = ppr.topk_ppr_matrix(adj_matrix, alpha, eps, val_idx, topk,\n",
      "\u001b[0;32m~/Documents/University-TOPUSH/Intership/Experiments/pprgo_tensorflow-experiments/pprgo/ppr.py\u001b[0m in \u001b[0;36mtopk_ppr_matrix\u001b[0;34m(adj_matrix, alpha, eps, idx, topk, core_numbers, graph, normalization, S, gamma)\u001b[0m\n\u001b[1;32m    459\u001b[0m     \u001b[0;34m\"\"\"Create a sparse matrix where each node has up to the topk PPR neighbors and their weights.\"\"\"\u001b[0m\u001b[0;34m\u001b[0m\u001b[0;34m\u001b[0m\u001b[0m\n\u001b[1;32m    460\u001b[0m \u001b[0;34m\u001b[0m\u001b[0m\n\u001b[0;32m--> 461\u001b[0;31m     \u001b[0mtopk_matrix\u001b[0m \u001b[0;34m=\u001b[0m \u001b[0mppr_topk\u001b[0m\u001b[0;34m(\u001b[0m\u001b[0madj_matrix\u001b[0m\u001b[0;34m,\u001b[0m \u001b[0malpha\u001b[0m\u001b[0;34m,\u001b[0m \u001b[0meps\u001b[0m\u001b[0;34m,\u001b[0m \u001b[0midx\u001b[0m\u001b[0;34m,\u001b[0m \u001b[0mtopk\u001b[0m\u001b[0;34m,\u001b[0m \u001b[0mcore_numbers\u001b[0m\u001b[0;34m,\u001b[0m \u001b[0mgraph\u001b[0m\u001b[0;34m,\u001b[0m \u001b[0mS\u001b[0m\u001b[0;34m=\u001b[0m\u001b[0mS\u001b[0m\u001b[0;34m,\u001b[0m \u001b[0mgamma\u001b[0m\u001b[0;34m=\u001b[0m\u001b[0mgamma\u001b[0m\u001b[0;34m)\u001b[0m\u001b[0;34m.\u001b[0m\u001b[0mtocsr\u001b[0m\u001b[0;34m(\u001b[0m\u001b[0;34m)\u001b[0m\u001b[0;34m\u001b[0m\u001b[0;34m\u001b[0m\u001b[0m\n\u001b[0m\u001b[1;32m    462\u001b[0m \u001b[0;34m\u001b[0m\u001b[0m\n\u001b[1;32m    463\u001b[0m \u001b[0;34m\u001b[0m\u001b[0m\n",
      "\u001b[0;32m~/Documents/University-TOPUSH/Intership/Experiments/pprgo_tensorflow-experiments/pprgo/ppr.py\u001b[0m in \u001b[0;36mppr_topk\u001b[0;34m(adj_matrix, alpha, epsilon, nodes, topk, core_numbers, graph, S, gamma)\u001b[0m\n\u001b[1;32m    437\u001b[0m \u001b[0;34m\u001b[0m\u001b[0m\n\u001b[1;32m    438\u001b[0m     \u001b[0mg_networkX\u001b[0m \u001b[0;34m=\u001b[0m \u001b[0mfrom_scipy_sparse_matrix\u001b[0m\u001b[0;34m(\u001b[0m\u001b[0madj_matrix\u001b[0m\u001b[0;34m)\u001b[0m\u001b[0;34m\u001b[0m\u001b[0;34m\u001b[0m\u001b[0m\n\u001b[0;32m--> 439\u001b[0;31m     \u001b[0mtruss\u001b[0m \u001b[0;34m=\u001b[0m \u001b[0mk_truss\u001b[0m\u001b[0;34m(\u001b[0m\u001b[0mg_networkX\u001b[0m\u001b[0;34m,\u001b[0m \u001b[0;36m3\u001b[0m\u001b[0;34m)\u001b[0m\u001b[0;34m\u001b[0m\u001b[0;34m\u001b[0m\u001b[0m\n\u001b[0m\u001b[1;32m    440\u001b[0m \u001b[0;34m\u001b[0m\u001b[0m\n\u001b[1;32m    441\u001b[0m \u001b[0;34m\u001b[0m\u001b[0m\n",
      "\u001b[0;32m~/Documents/University-TOPUSH/Intership/Experiments/internship_env/lib/python3.7/site-packages/networkx/utils/decorators.py\u001b[0m in \u001b[0;36mfunc\u001b[0;34m(_argmap__wrapper, *args, **kwargs)\u001b[0m\n\u001b[1;32m    793\u001b[0m \u001b[0;34m\u001b[0m\u001b[0m\n\u001b[1;32m    794\u001b[0m             \u001b[0;32mdef\u001b[0m \u001b[0mfunc\u001b[0m\u001b[0;34m(\u001b[0m\u001b[0;34m*\u001b[0m\u001b[0margs\u001b[0m\u001b[0;34m,\u001b[0m \u001b[0m__wrapper\u001b[0m\u001b[0;34m=\u001b[0m\u001b[0;32mNone\u001b[0m\u001b[0;34m,\u001b[0m \u001b[0;34m**\u001b[0m\u001b[0mkwargs\u001b[0m\u001b[0;34m)\u001b[0m\u001b[0;34m:\u001b[0m\u001b[0;34m\u001b[0m\u001b[0;34m\u001b[0m\u001b[0m\n\u001b[0;32m--> 795\u001b[0;31m                 \u001b[0;32mreturn\u001b[0m \u001b[0margmap\u001b[0m\u001b[0;34m.\u001b[0m\u001b[0m_lazy_compile\u001b[0m\u001b[0;34m(\u001b[0m\u001b[0m__wrapper\u001b[0m\u001b[0;34m)\u001b[0m\u001b[0;34m(\u001b[0m\u001b[0;34m*\u001b[0m\u001b[0margs\u001b[0m\u001b[0;34m,\u001b[0m \u001b[0;34m**\u001b[0m\u001b[0mkwargs\u001b[0m\u001b[0;34m)\u001b[0m\u001b[0;34m\u001b[0m\u001b[0;34m\u001b[0m\u001b[0m\n\u001b[0m\u001b[1;32m    796\u001b[0m \u001b[0;34m\u001b[0m\u001b[0m\n\u001b[1;32m    797\u001b[0m         \u001b[0;31m# standard function-wrapping stuff\u001b[0m\u001b[0;34m\u001b[0m\u001b[0;34m\u001b[0m\u001b[0;34m\u001b[0m\u001b[0m\n",
      "\u001b[0;32m~/Documents/University-TOPUSH/Intership/Experiments/internship_env/lib/python3.7/site-packages/networkx/utils/decorators.py\u001b[0m in \u001b[0;36margmap_k_truss_5\u001b[0;34m(G, k)\u001b[0m\n\u001b[1;32m      3\u001b[0m \u001b[0;32mfrom\u001b[0m \u001b[0mcontextlib\u001b[0m \u001b[0;32mimport\u001b[0m \u001b[0mcontextmanager\u001b[0m\u001b[0;34m\u001b[0m\u001b[0;34m\u001b[0m\u001b[0m\n\u001b[1;32m      4\u001b[0m \u001b[0;32mfrom\u001b[0m \u001b[0mpathlib\u001b[0m \u001b[0;32mimport\u001b[0m \u001b[0mPath\u001b[0m\u001b[0;34m\u001b[0m\u001b[0;34m\u001b[0m\u001b[0m\n\u001b[0;32m----> 5\u001b[0;31m \u001b[0;32mimport\u001b[0m \u001b[0mwarnings\u001b[0m\u001b[0;34m\u001b[0m\u001b[0;34m\u001b[0m\u001b[0m\n\u001b[0m\u001b[1;32m      6\u001b[0m \u001b[0;34m\u001b[0m\u001b[0m\n\u001b[1;32m      7\u001b[0m \u001b[0;32mimport\u001b[0m \u001b[0mnetworkx\u001b[0m \u001b[0;32mas\u001b[0m \u001b[0mnx\u001b[0m\u001b[0;34m\u001b[0m\u001b[0;34m\u001b[0m\u001b[0m\n",
      "\u001b[0;32m~/Documents/University-TOPUSH/Intership/Experiments/internship_env/lib/python3.7/site-packages/networkx/algorithms/core.py\u001b[0m in \u001b[0;36mk_truss\u001b[0;34m(G, k)\u001b[0m\n\u001b[1;32m    430\u001b[0m             \u001b[0mnew_nbrs\u001b[0m \u001b[0;34m=\u001b[0m \u001b[0;34m[\u001b[0m\u001b[0mv\u001b[0m \u001b[0;32mfor\u001b[0m \u001b[0mv\u001b[0m \u001b[0;32min\u001b[0m \u001b[0mnbrs_u\u001b[0m \u001b[0;32mif\u001b[0m \u001b[0mv\u001b[0m \u001b[0;32mnot\u001b[0m \u001b[0;32min\u001b[0m \u001b[0mseen\u001b[0m\u001b[0;34m]\u001b[0m\u001b[0;34m\u001b[0m\u001b[0;34m\u001b[0m\u001b[0m\n\u001b[1;32m    431\u001b[0m             \u001b[0;32mfor\u001b[0m \u001b[0mv\u001b[0m \u001b[0;32min\u001b[0m \u001b[0mnew_nbrs\u001b[0m\u001b[0;34m:\u001b[0m\u001b[0;34m\u001b[0m\u001b[0;34m\u001b[0m\u001b[0m\n\u001b[0;32m--> 432\u001b[0;31m                 \u001b[0;32mif\u001b[0m \u001b[0mlen\u001b[0m\u001b[0;34m(\u001b[0m\u001b[0mnbrs_u\u001b[0m \u001b[0;34m&\u001b[0m \u001b[0mset\u001b[0m\u001b[0;34m(\u001b[0m\u001b[0mH\u001b[0m\u001b[0;34m[\u001b[0m\u001b[0mv\u001b[0m\u001b[0;34m]\u001b[0m\u001b[0;34m)\u001b[0m\u001b[0;34m)\u001b[0m \u001b[0;34m<\u001b[0m \u001b[0;34m(\u001b[0m\u001b[0mk\u001b[0m \u001b[0;34m-\u001b[0m \u001b[0;36m2\u001b[0m\u001b[0;34m)\u001b[0m\u001b[0;34m:\u001b[0m\u001b[0;34m\u001b[0m\u001b[0;34m\u001b[0m\u001b[0m\n\u001b[0m\u001b[1;32m    433\u001b[0m                     \u001b[0mto_drop\u001b[0m\u001b[0;34m.\u001b[0m\u001b[0mappend\u001b[0m\u001b[0;34m(\u001b[0m\u001b[0;34m(\u001b[0m\u001b[0mu\u001b[0m\u001b[0;34m,\u001b[0m \u001b[0mv\u001b[0m\u001b[0;34m)\u001b[0m\u001b[0;34m)\u001b[0m\u001b[0;34m\u001b[0m\u001b[0;34m\u001b[0m\u001b[0m\n\u001b[1;32m    434\u001b[0m         \u001b[0mH\u001b[0m\u001b[0;34m.\u001b[0m\u001b[0mremove_edges_from\u001b[0m\u001b[0;34m(\u001b[0m\u001b[0mto_drop\u001b[0m\u001b[0;34m)\u001b[0m\u001b[0;34m\u001b[0m\u001b[0;34m\u001b[0m\u001b[0m\n",
      "\u001b[0;31mKeyboardInterrupt\u001b[0m: "
     ]
    }
   ],
   "source": [
    "# compute the ppr vectors for train/val nodes using ACL's ApproximatePR\n",
    "\n",
    "start = time.time()\n",
    "\n",
    "topk_train, mean_kn = ppr.topk_ppr_matrix(adj_matrix, alpha, eps, train_idx, topk, core_numbers, graph,\n",
    "                                 normalization=ppr_normalization, S=1, gamma=1.0)\n",
    "if run_val:\n",
    "    topk_val = ppr.topk_ppr_matrix(adj_matrix, alpha, eps, val_idx, topk,\n",
    "                                   normalization=ppr_normalization)\n",
    "else:\n",
    "    topk_val = None\n",
    "\n",
    "time_preprocessing = time.time() - start\n",
    "print(f\"Runtime: {time_preprocessing:.2f}s\")\n",
    "\n",
    "\n",
    "print('topk_train', topk_train.shape)\n",
    "adj_xd = adj_matrix[train_idx]\n",
    "print(adj_xd[0:0 + batch_size].shape)"
   ]
  },
  {
   "cell_type": "markdown",
   "metadata": {},
   "source": []
  },
  {
   "cell_type": "markdown",
   "metadata": {},
   "source": [
    "# Training: Set up model and train"
   ]
  },
  {
   "cell_type": "code",
   "execution_count": null,
   "metadata": {},
   "outputs": [],
   "source": [
    "start = time.time()\n",
    "tf.reset_default_graph()\n",
    "tf.set_random_seed(0)\n",
    "\n",
    "model = pprgo.PPRGo(d, nc, hidden_size, nlayers, lr, weight_decay, dropout, adj_matrix, intermediate_layer=1000,\n",
    "                    sparse_features=type(attr_matrix) is not np.ndarray)\n",
    "\n",
    "# print(model.w0.shape)\n",
    "\n",
    "# print(model.w_1.shape)"
   ]
  },
  {
   "cell_type": "code",
   "execution_count": null,
   "metadata": {},
   "outputs": [],
   "source": [
    "sess = tf.compat.v1.Session()\n",
    "with sess.as_default():\n",
    "    tf.compat.v1.global_variables_initializer().run()\n",
    "    nepochs, loss_hist, acc_hist, f1_hist = pprgo.train(\n",
    "            sess=sess, model=model, attr_matrix=attr_matrix,\n",
    "            train_idx=train_idx, val_idx=val_idx,\n",
    "            topk_train=topk_train, topk_val=topk_val,\n",
    "            labels=labels, adj_matrix=adj_matrix,\n",
    "            max_epochs=max_epochs, batch_size=batch_size, batch_mult_val=batch_mult_val,\n",
    "            eval_step=eval_step, early_stop=early_stop, patience=patience)\n",
    "time_training = time.time() - start\n",
    "logging.info('Training done.')\n",
    "print(f\"Runtime: {time_training:.2f}s\")"
   ]
  },
  {
   "cell_type": "markdown",
   "metadata": {},
   "source": [
    "# Inference (val and test)"
   ]
  },
  {
   "cell_type": "code",
   "execution_count": null,
   "metadata": {},
   "outputs": [],
   "source": [
    "start = time.time()\n",
    "predictions, time_logits, time_propagation = model.predict(\n",
    "        sess=sess, adj_matrix=adj_matrix, attr_matrix=attr_matrix, alpha=alpha,\n",
    "        nprop=nprop_inference, inf_fraction=inf_fraction,\n",
    "        ppr_normalization=ppr_normalization)\n",
    "time_inference = time.time() - start\n",
    "print(f\"Runtime: {time_inference:.2f}s\")"
   ]
  },
  {
   "cell_type": "markdown",
   "metadata": {},
   "source": [
    "# Collect and print results"
   ]
  },
  {
   "cell_type": "code",
   "execution_count": null,
   "metadata": {},
   "outputs": [],
   "source": [
    "\n",
    "acc_train = 100 * accuracy_score(labels[train_idx], predictions[train_idx])\n",
    "acc_val = 100 * accuracy_score(labels[val_idx], predictions[val_idx])\n",
    "acc_test = 100 * accuracy_score(labels[test_idx], predictions[test_idx])\n",
    "\n",
    "f1_train = f1_score(labels[train_idx], predictions[train_idx], average='macro')\n",
    "f1_val = f1_score(labels[val_idx], predictions[val_idx], average='macro')\n",
    "f1_test = f1_score(labels[test_idx], predictions[test_idx], average='macro')\n",
    "\n",
    "\n",
    "\n",
    "#gpu_max_bytes = tf.contrib.memory_stats.MaxBytesInUse()\n",
    "#gpu_memory = sess.run(gpu_max_bytes)\n",
    "memory = utils.get_max_memory_bytes()\n",
    "\n",
    "time_total = time_preprocessing + time_training + time_inference"
   ]
  },
  {
   "cell_type": "code",
   "execution_count": null,
   "metadata": {},
   "outputs": [],
   "source": [
    "print(f'''\n",
    "Accuracy: Train: {acc_train:.1f}%, val: {acc_val:.1f}%, test: {acc_test:.1f}%\n",
    "F1 score: Train: {f1_train:.3f}, val: {f1_val:.3f}, test: {f1_test:.3f}\n",
    "\n",
    "Runtime: Preprocessing: {time_preprocessing:.2f}s, training: {time_training:.2f}s, inference: {time_inference:.2f}s -> total: {time_total:.2f}s\n",
    "Memory: Main: {(memory/1024) / 2**30:.2f}GB\n",
    "''')\n",
    "\n",
    "#Memory: Main: {memory / 2**30:.2f}GB, GPU: {gpu_memory / 2**30:.3f}GB"
   ]
  }
 ],
 "metadata": {
  "interpreter": {
   "hash": "428b61850e5b263fbda2b97ca58cd2fe5cdcfc5a923010f6dd10a2ffb1b72031"
  },
  "kernelspec": {
   "display_name": "jupy_env",
   "language": "python",
   "name": "jupy_env"
  },
  "language_info": {
   "codemirror_mode": {
    "name": "ipython",
    "version": 3
   },
   "file_extension": ".py",
   "mimetype": "text/x-python",
   "name": "python",
   "nbconvert_exporter": "python",
   "pygments_lexer": "ipython3",
   "version": "3.7.13"
  }
 },
 "nbformat": 4,
 "nbformat_minor": 4
}
