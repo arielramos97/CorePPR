{
 "cells": [
  {
   "cell_type": "code",
   "execution_count": 1,
   "metadata": {},
   "outputs": [],
   "source": [
    "import os\n",
    "import time\n",
    "import logging\n",
    "import yaml\n",
    "import ast\n",
    "import numpy as np\n",
    "import tensorflow as tf\n",
    "from sklearn.metrics import accuracy_score, f1_score, confusion_matrix\n",
    "\n",
    "from pprgo import utils\n",
    "from pprgo import ppr\n",
    "from pprgo import pprgo"
   ]
  },
  {
   "cell_type": "code",
   "execution_count": 2,
   "metadata": {},
   "outputs": [],
   "source": [
    "# Set up logging\n",
    "logger = logging.getLogger()\n",
    "logger.handlers = []\n",
    "ch = logging.StreamHandler()\n",
    "formatter = logging.Formatter(\n",
    "        fmt='%(asctime)s (%(levelname)s): %(message)s',\n",
    "        datefmt='%Y-%m-%d %H:%M:%S')\n",
    "ch.setFormatter(formatter)\n",
    "logger.addHandler(ch)\n",
    "logger.setLevel('INFO')\n",
    "\n",
    "os.environ['TF_CPP_MIN_LOG_LEVEL'] = '3'"
   ]
  },
  {
   "cell_type": "markdown",
   "metadata": {},
   "source": [
    "# Download dataset"
   ]
  },
  {
   "cell_type": "markdown",
   "metadata": {},
   "source": [
    "# Load config"
   ]
  },
  {
   "cell_type": "code",
   "execution_count": 3,
   "metadata": {},
   "outputs": [],
   "source": [
    "with open('config_demo.yaml', 'r') as c:\n",
    "    config = yaml.safe_load(c)"
   ]
  },
  {
   "cell_type": "code",
   "execution_count": 4,
   "metadata": {},
   "outputs": [],
   "source": [
    "# For strings that yaml doesn't parse (e.g. None)\n",
    "for key, val in config.items():\n",
    "    if type(val) is str:\n",
    "        try:\n",
    "            config[key] = ast.literal_eval(val)\n",
    "        except (ValueError, SyntaxError):\n",
    "            pass"
   ]
  },
  {
   "cell_type": "code",
   "execution_count": 5,
   "metadata": {},
   "outputs": [],
   "source": [
    "data_file           = config['data_file']           # Path to the .npz data file\n",
    "data_file = 'data/cora_full.npz'\n",
    "split_seed          = config['split_seed']          # Seed for splitting the dataset into train/val/test\n",
    "ntrain_div_classes  = config['ntrain_div_classes']  # Number of training nodes divided by number of classes\n",
    "ntrain_div_classes = 20\n",
    "attr_normalization  = config['attr_normalization']  # Attribute normalization. Not used in the paper\n",
    "\n",
    "alpha               = config['alpha']               # PPR teleport probability\n",
    "alpha = 0.25\n",
    "eps                 = config['eps']                 # Stopping threshold for ACL's ApproximatePR\n",
    "topk                = config['topk']                # Number of PPR neighbors for each node\n",
    "ppr_normalization   = config['ppr_normalization']   # Adjacency matrix normalization for weighting neighbors\n",
    "\n",
    "hidden_size         = config['hidden_size']         # Size of the MLP's hidden layer\n",
    "nlayers             = config['nlayers']             # Number of MLP layers\n",
    "weight_decay        = config['weight_decay']        # Weight decay used for training the MLP\n",
    "dropout             = config['dropout']             # Dropout used for training\n",
    "\n",
    "lr                  = config['lr']                  # Learning rate\n",
    "max_epochs          = config['max_epochs']          # Maximum number of epochs (exact number if no early stopping)\n",
    "batch_size          = config['batch_size']          # Batch size for training\n",
    "batch_mult_val      = config['batch_mult_val']      # Multiplier for validation batch size\n",
    "\n",
    "eval_step           = config['eval_step']           # Accuracy is evaluated after every this number of steps\n",
    "run_val             = config['run_val']             # Evaluate accuracy on validation set during training\n",
    "\n",
    "early_stop          = config['early_stop']          # Use early stopping\n",
    "patience            = config['patience']            # Patience for early stopping\n",
    "\n",
    "nprop_inference     = config['nprop_inference']     # Number of propagation steps during inference\n",
    "inf_fraction        = config['inf_fraction']        # Fraction of nodes for which local predictions are computed during inference"
   ]
  },
  {
   "cell_type": "markdown",
   "metadata": {},
   "source": [
    "# Load the data"
   ]
  },
  {
   "cell_type": "code",
   "execution_count": 6,
   "metadata": {},
   "outputs": [
    {
     "name": "stdout",
     "output_type": "stream",
     "text": [
      "70\n",
      "total:  18800\n",
      "Training:  3150\n",
      "Validation:  15650\n",
      "Testing:  0\n",
      "Runtime: 0.26s\n"
     ]
    }
   ],
   "source": [
    "start = time.time()\n",
    "(adj_matrix, attr_matrix, labels,\n",
    " train_idx, val_idx, test_idx) = utils.get_data(\n",
    "        f\"{data_file}\",\n",
    "        seed=split_seed,\n",
    "        ntrain_div_classes=ntrain_div_classes,\n",
    "        normalize_attr=attr_normalization\n",
    ")\n",
    "try:\n",
    "    d = attr_matrix.n_columns\n",
    "except AttributeError:\n",
    "    d = attr_matrix.shape[1]\n",
    "nc = labels.max() + 1\n",
    "print(nc)\n",
    "\n",
    "print('total: ', adj_matrix.shape[0])\n",
    "print('Training: ', len(train_idx))\n",
    "print('Validation: ', len(val_idx))\n",
    "print('Testing: ', len(test_idx))\n",
    "\n",
    "time_loading = time.time() - start\n",
    "print(f\"Runtime: {time_loading:.2f}s\")"
   ]
  },
  {
   "cell_type": "markdown",
   "metadata": {},
   "source": [
    "# Preprocessing: Calculate PPR scores"
   ]
  },
  {
   "cell_type": "code",
   "execution_count": 7,
   "metadata": {},
   "outputs": [
    {
     "name": "stdout",
     "output_type": "stream",
     "text": [
      "(3150, 18800)\n",
      "Runtime: 11.90s\n"
     ]
    }
   ],
   "source": [
    "# compute the ppr vectors for train/val nodes using ACL's ApproximatePR\n",
    "start = time.time()\n",
    "topk_train = ppr.topk_ppr_matrix(adj_matrix, alpha, eps, train_idx, topk,\n",
    "                                 normalization=ppr_normalization)\n",
    "if run_val:\n",
    "    topk_val = ppr.topk_ppr_matrix(adj_matrix, alpha, eps, val_idx, topk,\n",
    "                                   normalization=ppr_normalization)\n",
    "else:\n",
    "    topk_val = None\n",
    "\n",
    "print(topk_train.shape)\n",
    "time_preprocessing = time.time() - start\n",
    "print(f\"Runtime: {time_preprocessing:.2f}s\")"
   ]
  },
  {
   "cell_type": "markdown",
   "metadata": {},
   "source": [
    "# Training: Set up model and train"
   ]
  },
  {
   "cell_type": "code",
   "execution_count": 8,
   "metadata": {},
   "outputs": [
    {
     "name": "stdout",
     "output_type": "stream",
     "text": [
      "WARNING:tensorflow:From /var/folders/x5/bhlqr68144x_138bllx2mdwh0000gn/T/ipykernel_9722/2975614973.py:2: The name tf.reset_default_graph is deprecated. Please use tf.compat.v1.reset_default_graph instead.\n",
      "\n"
     ]
    },
    {
     "name": "stderr",
     "output_type": "stream",
     "text": [
      "2022-06-02 17:47:19 (WARNING): From /var/folders/x5/bhlqr68144x_138bllx2mdwh0000gn/T/ipykernel_9722/2975614973.py:2: The name tf.reset_default_graph is deprecated. Please use tf.compat.v1.reset_default_graph instead.\n",
      "\n"
     ]
    },
    {
     "name": "stdout",
     "output_type": "stream",
     "text": [
      "WARNING:tensorflow:From /var/folders/x5/bhlqr68144x_138bllx2mdwh0000gn/T/ipykernel_9722/2975614973.py:3: The name tf.set_random_seed is deprecated. Please use tf.compat.v1.set_random_seed instead.\n",
      "\n"
     ]
    },
    {
     "name": "stderr",
     "output_type": "stream",
     "text": [
      "2022-06-02 17:47:19 (WARNING): From /var/folders/x5/bhlqr68144x_138bllx2mdwh0000gn/T/ipykernel_9722/2975614973.py:3: The name tf.set_random_seed is deprecated. Please use tf.compat.v1.set_random_seed instead.\n",
      "\n",
      "2022-06-02 17:47:21 (INFO): Epoch 2, step 20: train 4.09662\n",
      "2022-06-02 17:47:22 (INFO): Epoch 5, step 40: train 3.81260\n",
      "2022-06-02 17:47:23 (INFO): Epoch 8, step 60: train 3.52556\n",
      "2022-06-02 17:47:24 (INFO): Epoch 11, step 80: train 3.27781\n",
      "2022-06-02 17:47:25 (INFO): Epoch 14, step 100: train 2.75892\n",
      "2022-06-02 17:47:26 (INFO): Epoch 17, step 120: train 2.53977\n",
      "2022-06-02 17:47:26 (INFO): Epoch 19, step 140: train 1.44046\n",
      "2022-06-02 17:47:27 (INFO): Epoch 22, step 160: train 2.32340\n",
      "2022-06-02 17:47:28 (INFO): Epoch 25, step 180: train 2.03010\n",
      "2022-06-02 17:47:29 (INFO): Epoch 28, step 200: train 1.90088\n",
      "2022-06-02 17:47:30 (INFO): Epoch 31, step 220: train 1.87701\n",
      "2022-06-02 17:47:30 (INFO): Epoch 34, step 240: train 1.55377\n",
      "2022-06-02 17:47:31 (INFO): Epoch 37, step 260: train 1.49207\n",
      "2022-06-02 17:47:32 (INFO): Epoch 39, step 280: train 0.77727\n",
      "2022-06-02 17:47:33 (INFO): Epoch 42, step 300: train 1.55080\n",
      "2022-06-02 17:47:34 (INFO): Epoch 45, step 320: train 1.44888\n",
      "2022-06-02 17:47:34 (INFO): Epoch 48, step 340: train 1.39033\n",
      "2022-06-02 17:47:35 (INFO): Epoch 51, step 360: train 1.35658\n",
      "2022-06-02 17:47:36 (INFO): Epoch 54, step 380: train 1.19885\n",
      "2022-06-02 17:47:37 (INFO): Epoch 57, step 400: train 1.17184\n",
      "2022-06-02 17:47:38 (INFO): Epoch 59, step 420: train 0.70338\n",
      "2022-06-02 17:47:39 (INFO): Epoch 62, step 440: train 1.25564\n",
      "2022-06-02 17:47:40 (INFO): Epoch 65, step 460: train 1.19549\n",
      "2022-06-02 17:47:40 (INFO): Epoch 68, step 480: train 1.17798\n",
      "2022-06-02 17:47:41 (INFO): Epoch 71, step 500: train 1.14990\n",
      "2022-06-02 17:47:42 (INFO): Epoch 74, step 520: train 1.05037\n",
      "2022-06-02 17:47:43 (INFO): Epoch 77, step 540: train 1.00946\n",
      "2022-06-02 17:47:44 (INFO): Epoch 79, step 560: train 0.66827\n",
      "2022-06-02 17:47:45 (INFO): Epoch 82, step 580: train 1.10388\n",
      "2022-06-02 17:47:46 (INFO): Epoch 85, step 600: train 1.06196\n",
      "2022-06-02 17:47:47 (INFO): Epoch 88, step 620: train 1.05235\n",
      "2022-06-02 17:47:47 (INFO): Epoch 91, step 640: train 1.02867\n",
      "2022-06-02 17:47:48 (INFO): Epoch 94, step 660: train 0.94531\n",
      "2022-06-02 17:47:49 (INFO): Epoch 97, step 680: train 0.93658\n",
      "2022-06-02 17:47:50 (INFO): Epoch 99, step 700: train 0.65882\n",
      "2022-06-02 17:47:51 (INFO): Epoch 102, step 720: train 1.01405\n",
      "2022-06-02 17:47:51 (INFO): Epoch 105, step 740: train 0.98047\n",
      "2022-06-02 17:47:52 (INFO): Epoch 108, step 760: train 0.98318\n",
      "2022-06-02 17:47:53 (INFO): Epoch 111, step 780: train 0.94604\n",
      "2022-06-02 17:47:54 (INFO): Epoch 114, step 800: train 0.91219\n",
      "2022-06-02 17:47:55 (INFO): Epoch 117, step 820: train 0.89545\n",
      "2022-06-02 17:47:56 (INFO): Epoch 119, step 840: train 0.63915\n",
      "2022-06-02 17:47:57 (INFO): Epoch 122, step 860: train 0.94284\n",
      "2022-06-02 17:47:58 (INFO): Epoch 125, step 880: train 0.93625\n",
      "2022-06-02 17:47:59 (INFO): Epoch 128, step 900: train 0.91675\n",
      "2022-06-02 17:48:00 (INFO): Epoch 131, step 920: train 0.92352\n",
      "2022-06-02 17:48:01 (INFO): Epoch 134, step 940: train 0.86991\n",
      "2022-06-02 17:48:02 (INFO): Epoch 137, step 960: train 0.81603\n",
      "2022-06-02 17:48:03 (INFO): Epoch 139, step 980: train 0.63416\n",
      "2022-06-02 17:48:04 (INFO): Epoch 142, step 1000: train 0.90653\n",
      "2022-06-02 17:48:05 (INFO): Epoch 145, step 1020: train 0.89146\n",
      "2022-06-02 17:48:05 (INFO): Epoch 148, step 1040: train 0.89227\n",
      "2022-06-02 17:48:06 (INFO): Epoch 151, step 1060: train 0.87409\n",
      "2022-06-02 17:48:07 (INFO): Epoch 154, step 1080: train 0.83051\n",
      "2022-06-02 17:48:08 (INFO): Epoch 157, step 1100: train 0.80973\n",
      "2022-06-02 17:48:09 (INFO): Epoch 159, step 1120: train 0.63858\n",
      "2022-06-02 17:48:10 (INFO): Epoch 162, step 1140: train 0.87867\n",
      "2022-06-02 17:48:11 (INFO): Epoch 165, step 1160: train 0.87369\n",
      "2022-06-02 17:48:12 (INFO): Epoch 168, step 1180: train 0.86376\n",
      "2022-06-02 17:48:13 (INFO): Epoch 171, step 1200: train 0.84868\n",
      "2022-06-02 17:48:14 (INFO): Epoch 174, step 1220: train 0.81694\n",
      "2022-06-02 17:48:15 (INFO): Epoch 177, step 1240: train 0.80769\n",
      "2022-06-02 17:48:15 (INFO): Epoch 179, step 1260: train 0.60410\n",
      "2022-06-02 17:48:16 (INFO): Epoch 182, step 1280: train 0.86911\n",
      "2022-06-02 17:48:17 (INFO): Epoch 185, step 1300: train 0.84471\n",
      "2022-06-02 17:48:18 (INFO): Epoch 188, step 1320: train 0.85511\n",
      "2022-06-02 17:48:19 (INFO): Epoch 191, step 1340: train 0.81986\n",
      "2022-06-02 17:48:19 (INFO): Epoch 194, step 1360: train 0.80366\n",
      "2022-06-02 17:48:20 (INFO): Epoch 197, step 1380: train 0.78304\n",
      "2022-06-02 17:48:21 (INFO): Epoch 199, step 1400: train 0.59358\n",
      "2022-06-02 17:48:21 (INFO): Training done.\n"
     ]
    },
    {
     "name": "stdout",
     "output_type": "stream",
     "text": [
      "Runtime: 62.13s\n"
     ]
    }
   ],
   "source": [
    "start = time.time()\n",
    "tf.reset_default_graph()\n",
    "tf.set_random_seed(0)\n",
    "\n",
    "model = pprgo.PPRGo(d, nc, hidden_size, nlayers, lr, weight_decay, dropout,\n",
    "                    sparse_features=type(attr_matrix) is not np.ndarray)\n",
    "\n",
    "sess = tf.compat.v1.Session()\n",
    "with sess.as_default():\n",
    "    tf.compat.v1.global_variables_initializer().run()\n",
    "    nepochs, loss_hist, acc_hist, f1_hist = pprgo.train(\n",
    "            sess=sess, model=model, attr_matrix=attr_matrix,\n",
    "            train_idx=train_idx, val_idx=val_idx,\n",
    "            topk_train=topk_train, topk_val=topk_val,\n",
    "            labels=labels,\n",
    "            max_epochs=max_epochs, batch_size=batch_size, batch_mult_val=batch_mult_val,\n",
    "            eval_step=eval_step, early_stop=early_stop, patience=patience)\n",
    "time_training = time.time() - start\n",
    "logging.info('Training done.')\n",
    "print(f\"Runtime: {time_training:.2f}s\")"
   ]
  },
  {
   "cell_type": "markdown",
   "metadata": {},
   "source": [
    "# Inference (val and test)"
   ]
  },
  {
   "cell_type": "code",
   "execution_count": 9,
   "metadata": {},
   "outputs": [
    {
     "name": "stdout",
     "output_type": "stream",
     "text": [
      "Runtime: 0.19s\n"
     ]
    }
   ],
   "source": [
    "start = time.time()\n",
    "predictions, time_logits, time_propagation = model.predict(\n",
    "        sess=sess, adj_matrix=adj_matrix, attr_matrix=attr_matrix, alpha=alpha,\n",
    "        nprop=nprop_inference, inf_fraction=inf_fraction,\n",
    "        ppr_normalization=ppr_normalization)\n",
    "time_inference = time.time() - start\n",
    "print(f\"Runtime: {time_inference:.2f}s\")"
   ]
  },
  {
   "cell_type": "markdown",
   "metadata": {},
   "source": [
    "# Collect and print results"
   ]
  },
  {
   "cell_type": "code",
   "execution_count": 10,
   "metadata": {},
   "outputs": [
    {
     "name": "stdout",
     "output_type": "stream",
     "text": [
      "len:  3150 [    8    12    16 ... 18793 18796 18798]\n",
      "len:  15650 [    0     1     2 ... 18795 18797 18799]\n",
      "(18800,)\n",
      "[]\n",
      "(0,)\n",
      "48\n"
     ]
    },
    {
     "name": "stderr",
     "output_type": "stream",
     "text": [
      "/Users/arielo97/Documents/University-TOPUSH/Intership/Experiments/internship_env/lib/python3.7/site-packages/numpy/lib/function_base.py:393: RuntimeWarning: Mean of empty slice.\n",
      "  avg = a.mean(axis)\n",
      "/Users/arielo97/Documents/University-TOPUSH/Intership/Experiments/internship_env/lib/python3.7/site-packages/numpy/core/_methods.py:161: RuntimeWarning: invalid value encountered in double_scalars\n",
      "  ret = ret.dtype.type(ret / rcount)\n",
      "/Users/arielo97/Documents/University-TOPUSH/Intership/Experiments/internship_env/lib/python3.7/site-packages/numpy/lib/function_base.py:393: RuntimeWarning: Mean of empty slice.\n",
      "  avg = a.mean(axis)\n",
      "/Users/arielo97/Documents/University-TOPUSH/Intership/Experiments/internship_env/lib/python3.7/site-packages/numpy/core/_methods.py:161: RuntimeWarning: invalid value encountered in double_scalars\n",
      "  ret = ret.dtype.type(ret / rcount)\n"
     ]
    }
   ],
   "source": [
    "acc_train = 100 * accuracy_score(labels[train_idx], predictions[train_idx])\n",
    "acc_val = 100 * accuracy_score(labels[val_idx], predictions[val_idx])\n",
    "acc_test = 100 * accuracy_score(labels[test_idx], predictions[test_idx])\n",
    "\n",
    "print('len: ', len(train_idx), train_idx)\n",
    "print('len: ', len(val_idx), val_idx)\n",
    "print(predictions.shape)\n",
    "print(test_idx)\n",
    "print(predictions[test_idx].shape)\n",
    "\n",
    "print(predictions[0])\n",
    "f1_train = f1_score(labels[train_idx], predictions[train_idx], average='macro')\n",
    "f1_val = f1_score(labels[val_idx], predictions[val_idx], average='macro')\n",
    "f1_test = f1_score(labels[test_idx], predictions[test_idx], average='macro')\n",
    "\n",
    "#gpu_max_bytes = tf.contrib.memory_stats.MaxBytesInUse()\n",
    "#gpu_memory = sess.run(gpu_max_bytes)\n",
    "memory = utils.get_max_memory_bytes()\n",
    "\n",
    "time_total = time_preprocessing + time_training + time_inference"
   ]
  },
  {
   "cell_type": "code",
   "execution_count": 11,
   "metadata": {},
   "outputs": [
    {
     "name": "stdout",
     "output_type": "stream",
     "text": [
      "\n",
      "Accuracy: Train: 97.5%, val: 67.1%, test: nan%\n",
      "F1 score: Train: 0.952, val: 0.588, test: nan\n",
      "\n",
      "Runtime: Preprocessing: 11.90s, training: 62.13s, inference: 0.19s -> total: 74.22s\n",
      "Memory: Main: 0.57GB\n",
      "\n"
     ]
    }
   ],
   "source": [
    "print(f'''\n",
    "Accuracy: Train: {acc_train:.1f}%, val: {acc_val:.1f}%, test: {acc_test:.1f}%\n",
    "F1 score: Train: {f1_train:.3f}, val: {f1_val:.3f}, test: {f1_test:.3f}\n",
    "\n",
    "Runtime: Preprocessing: {time_preprocessing:.2f}s, training: {time_training:.2f}s, inference: {time_inference:.2f}s -> total: {time_total:.2f}s\n",
    "Memory: Main: {(memory/1024) / 2**30:.2f}GB\n",
    "''')\n",
    "\n",
    "#Memory: Main: {memory / 2**30:.2f}GB, GPU: {gpu_memory / 2**30:.3f}GB"
   ]
  }
 ],
 "metadata": {
  "interpreter": {
   "hash": "428b61850e5b263fbda2b97ca58cd2fe5cdcfc5a923010f6dd10a2ffb1b72031"
  },
  "kernelspec": {
   "display_name": "jupy_env",
   "language": "python",
   "name": "jupy_env"
  },
  "language_info": {
   "codemirror_mode": {
    "name": "ipython",
    "version": 3
   },
   "file_extension": ".py",
   "mimetype": "text/x-python",
   "name": "python",
   "nbconvert_exporter": "python",
   "pygments_lexer": "ipython3",
   "version": "3.7.13"
  }
 },
 "nbformat": 4,
 "nbformat_minor": 4
}
