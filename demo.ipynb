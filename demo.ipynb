{
 "cells": [
  {
   "cell_type": "code",
   "execution_count": 1,
   "metadata": {},
   "outputs": [],
   "source": [
    "import os\n",
    "import time\n",
    "import logging\n",
    "import yaml\n",
    "import ast\n",
    "import numpy as np\n",
    "import tensorflow as tf\n",
    "from sklearn.metrics import accuracy_score, f1_score, confusion_matrix\n",
    "\n",
    "from pprgo import utils\n",
    "from pprgo import ppr\n",
    "from pprgo import pprgo"
   ]
  },
  {
   "cell_type": "code",
   "execution_count": 2,
   "metadata": {},
   "outputs": [],
   "source": [
    "# Set up logging\n",
    "logger = logging.getLogger()\n",
    "logger.handlers = []\n",
    "ch = logging.StreamHandler()\n",
    "formatter = logging.Formatter(\n",
    "        fmt='%(asctime)s (%(levelname)s): %(message)s',\n",
    "        datefmt='%Y-%m-%d %H:%M:%S')\n",
    "ch.setFormatter(formatter)\n",
    "logger.addHandler(ch)\n",
    "logger.setLevel('INFO')\n",
    "\n",
    "os.environ['TF_CPP_MIN_LOG_LEVEL'] = '3'"
   ]
  },
  {
   "cell_type": "markdown",
   "metadata": {},
   "source": [
    "# Download dataset"
   ]
  },
  {
   "cell_type": "markdown",
   "metadata": {},
   "source": [
    "# Load config"
   ]
  },
  {
   "cell_type": "code",
   "execution_count": 3,
   "metadata": {},
   "outputs": [],
   "source": [
    "with open('config_demo.yaml', 'r') as c:\n",
    "    config = yaml.safe_load(c)"
   ]
  },
  {
   "cell_type": "code",
   "execution_count": 4,
   "metadata": {},
   "outputs": [],
   "source": [
    "# For strings that yaml doesn't parse (e.g. None)\n",
    "for key, val in config.items():\n",
    "    if type(val) is str:\n",
    "        try:\n",
    "            config[key] = ast.literal_eval(val)\n",
    "        except (ValueError, SyntaxError):\n",
    "            pass"
   ]
  },
  {
   "cell_type": "code",
   "execution_count": 5,
   "metadata": {},
   "outputs": [],
   "source": [
    "data_file           = config['data_file']           # Path to the .npz data file\n",
    "data_file = 'data/cora_full.npz'\n",
    "split_seed          = config['split_seed']          # Seed for splitting the dataset into train/val/test\n",
    "ntrain_div_classes  = config['ntrain_div_classes']  # Number of training nodes divided by number of classes\n",
    "ntrain_div_classes = 30\n",
    "attr_normalization  = config['attr_normalization']  # Attribute normalization. Not used in the paper\n",
    "\n",
    "alpha               = config['alpha']               # PPR teleport probability\n",
    "alpha = 0.25\n",
    "eps                 = config['eps']                 # Stopping threshold for ACL's ApproximatePR\n",
    "topk                = config['topk']                # Number of PPR neighbors for each node\n",
    "ppr_normalization   = config['ppr_normalization']   # Adjacency matrix normalization for weighting neighbors\n",
    "\n",
    "hidden_size         = config['hidden_size']         # Size of the MLP's hidden layer\n",
    "nlayers             = config['nlayers']             # Number of MLP layers\n",
    "weight_decay        = config['weight_decay']        # Weight decay used for training the MLP\n",
    "dropout             = config['dropout']             # Dropout used for training\n",
    "\n",
    "lr                  = config['lr']                  # Learning rate\n",
    "max_epochs          = config['max_epochs']          # Maximum number of epochs (exact number if no early stopping)\n",
    "batch_size          = config['batch_size']          # Batch size for training\n",
    "batch_mult_val      = config['batch_mult_val']      # Multiplier for validation batch size\n",
    "\n",
    "eval_step           = config['eval_step']           # Accuracy is evaluated after every this number of steps\n",
    "run_val             = config['run_val']             # Evaluate accuracy on validation set during training\n",
    "\n",
    "early_stop          = config['early_stop']          # Use early stopping\n",
    "patience            = config['patience']            # Patience for early stopping\n",
    "\n",
    "nprop_inference     = config['nprop_inference']     # Number of propagation steps during inference\n",
    "inf_fraction        = config['inf_fraction']        # Fraction of nodes for which local predictions are computed during inference"
   ]
  },
  {
   "cell_type": "markdown",
   "metadata": {},
   "source": [
    "# Load the data"
   ]
  },
  {
   "cell_type": "code",
   "execution_count": 6,
   "metadata": {},
   "outputs": [
    {
     "name": "stdout",
     "output_type": "stream",
     "text": [
      "ntrain:  2100\n",
      "nval:  2100\n",
      "70\n",
      "total:  18800\n",
      "Training:  2100\n",
      "Validation:  10500\n",
      "Testing:  6200\n",
      "Runtime: 0.37s\n"
     ]
    }
   ],
   "source": [
    "start = time.time()\n",
    "(adj_matrix, attr_matrix, labels,\n",
    " train_idx, val_idx, test_idx) = utils.get_data(\n",
    "        f\"{data_file}\",\n",
    "        seed=split_seed,\n",
    "        ntrain_div_classes=ntrain_div_classes,\n",
    "        normalize_attr=attr_normalization\n",
    ")\n",
    "try:\n",
    "    d = attr_matrix.n_columns\n",
    "except AttributeError:\n",
    "    d = attr_matrix.shape[1]\n",
    "nc = labels.max() + 1\n",
    "print(nc)\n",
    "\n",
    "print('total: ', adj_matrix.shape[0])\n",
    "print('Training: ', len(train_idx))\n",
    "print('Validation: ', len(val_idx))\n",
    "print('Testing: ', len(test_idx))\n",
    "\n",
    "time_loading = time.time() - start\n",
    "print(f\"Runtime: {time_loading:.2f}s\")"
   ]
  },
  {
   "cell_type": "markdown",
   "metadata": {},
   "source": [
    "# Preprocessing: Calculate PPR scores"
   ]
  },
  {
   "cell_type": "code",
   "execution_count": 9,
   "metadata": {},
   "outputs": [
    {
     "name": "stdout",
     "output_type": "stream",
     "text": [
      "(2100, 18800)\n",
      "Runtime: 1.38s\n"
     ]
    }
   ],
   "source": [
    "# compute the ppr vectors for train/val nodes using ACL's ApproximatePR\n",
    "start = time.time()\n",
    "topk_train = ppr.topk_ppr_matrix(adj_matrix, alpha, eps, train_idx, topk,\n",
    "                                 normalization=ppr_normalization)\n",
    "if run_val:\n",
    "    topk_val = ppr.topk_ppr_matrix(adj_matrix, alpha, eps, val_idx, topk,\n",
    "                                   normalization=ppr_normalization)\n",
    "else:\n",
    "    topk_val = None\n",
    "\n",
    "print(topk_train.shape)\n",
    "time_preprocessing = time.time() - start\n",
    "print(f\"Runtime: {time_preprocessing:.2f}s\")"
   ]
  },
  {
   "cell_type": "markdown",
   "metadata": {},
   "source": [
    "# Training: Set up model and train"
   ]
  },
  {
   "cell_type": "code",
   "execution_count": 10,
   "metadata": {},
   "outputs": [
    {
     "name": "stderr",
     "output_type": "stream",
     "text": [
      "2022-06-02 16:54:42 (INFO): Epoch 3, step 20: train 3.86895\n",
      "2022-06-02 16:54:43 (INFO): Epoch 7, step 40: train 3.16729\n",
      "2022-06-02 16:54:44 (INFO): Epoch 11, step 60: train 2.52180\n",
      "2022-06-02 16:54:45 (INFO): Epoch 15, step 80: train 1.93761\n",
      "2022-06-02 16:54:46 (INFO): Epoch 19, step 100: train 1.44390\n",
      "2022-06-02 16:54:47 (INFO): Epoch 23, step 120: train 1.14549\n",
      "2022-06-02 16:54:48 (INFO): Epoch 27, step 140: train 0.89598\n",
      "2022-06-02 16:54:49 (INFO): Epoch 31, step 160: train 0.79763\n",
      "2022-06-02 16:54:50 (INFO): Epoch 35, step 180: train 0.70859\n",
      "2022-06-02 16:54:51 (INFO): Epoch 39, step 200: train 0.66770\n",
      "2022-06-02 16:54:52 (INFO): Epoch 43, step 220: train 0.67157\n",
      "2022-06-02 16:54:52 (INFO): Epoch 47, step 240: train 0.67392\n",
      "2022-06-02 16:54:53 (INFO): Epoch 51, step 260: train 0.63329\n",
      "2022-06-02 16:54:54 (INFO): Epoch 55, step 280: train 0.63877\n",
      "2022-06-02 16:54:55 (INFO): Epoch 59, step 300: train 0.63290\n",
      "2022-06-02 16:54:56 (INFO): Epoch 63, step 320: train 0.63423\n",
      "2022-06-02 16:54:57 (INFO): Epoch 67, step 340: train 0.64316\n",
      "2022-06-02 16:54:58 (INFO): Epoch 71, step 360: train 0.61142\n",
      "2022-06-02 16:54:59 (INFO): Epoch 75, step 380: train 0.62051\n",
      "2022-06-02 16:55:00 (INFO): Epoch 79, step 400: train 0.61630\n",
      "2022-06-02 16:55:01 (INFO): Epoch 83, step 420: train 0.59520\n",
      "2022-06-02 16:55:02 (INFO): Epoch 87, step 440: train 0.62688\n",
      "2022-06-02 16:55:03 (INFO): Epoch 91, step 460: train 0.59073\n",
      "2022-06-02 16:55:04 (INFO): Epoch 95, step 480: train 0.60644\n",
      "2022-06-02 16:55:05 (INFO): Epoch 99, step 500: train 0.58435\n",
      "2022-06-02 16:55:06 (INFO): Epoch 103, step 520: train 0.57729\n",
      "2022-06-02 16:55:07 (INFO): Epoch 107, step 540: train 0.57741\n",
      "2022-06-02 16:55:07 (INFO): Epoch 111, step 560: train 0.57926\n",
      "2022-06-02 16:55:08 (INFO): Epoch 115, step 580: train 0.58393\n",
      "2022-06-02 16:55:09 (INFO): Epoch 119, step 600: train 0.57749\n",
      "2022-06-02 16:55:10 (INFO): Epoch 123, step 620: train 0.57139\n",
      "2022-06-02 16:55:11 (INFO): Epoch 127, step 640: train 0.57228\n",
      "2022-06-02 16:55:12 (INFO): Epoch 131, step 660: train 0.56058\n",
      "2022-06-02 16:55:13 (INFO): Epoch 135, step 680: train 0.57588\n",
      "2022-06-02 16:55:14 (INFO): Epoch 139, step 700: train 0.55536\n",
      "2022-06-02 16:55:15 (INFO): Epoch 143, step 720: train 0.56228\n",
      "2022-06-02 16:55:16 (INFO): Epoch 147, step 740: train 0.54358\n",
      "2022-06-02 16:55:17 (INFO): Epoch 151, step 760: train 0.55323\n",
      "2022-06-02 16:55:18 (INFO): Epoch 155, step 780: train 0.55366\n",
      "2022-06-02 16:55:19 (INFO): Epoch 159, step 800: train 0.55022\n",
      "2022-06-02 16:55:20 (INFO): Epoch 163, step 820: train 0.55231\n",
      "2022-06-02 16:55:21 (INFO): Epoch 167, step 840: train 0.55105\n",
      "2022-06-02 16:55:21 (INFO): Epoch 171, step 860: train 0.56133\n",
      "2022-06-02 16:55:22 (INFO): Epoch 175, step 880: train 0.55745\n",
      "2022-06-02 16:55:23 (INFO): Epoch 179, step 900: train 0.56462\n",
      "2022-06-02 16:55:24 (INFO): Epoch 183, step 920: train 0.54071\n",
      "2022-06-02 16:55:25 (INFO): Epoch 187, step 940: train 0.55183\n",
      "2022-06-02 16:55:26 (INFO): Epoch 191, step 960: train 0.54683\n",
      "2022-06-02 16:55:27 (INFO): Epoch 195, step 980: train 0.53196\n"
     ]
    }
   ],
   "source": [
    "start = time.time()\n",
    "tf.reset_default_graph()\n",
    "tf.set_random_seed(0)\n",
    "\n",
    "model = pprgo.PPRGo(d, nc, hidden_size, nlayers, lr, weight_decay, dropout,\n",
    "                    sparse_features=type(attr_matrix) is not np.ndarray)\n",
    "\n",
    "sess = tf.compat.v1.Session()\n",
    "with sess.as_default():\n",
    "    tf.compat.v1.global_variables_initializer().run()\n",
    "    nepochs, loss_hist, acc_hist, f1_hist = pprgo.train(\n",
    "            sess=sess, model=model, attr_matrix=attr_matrix,\n",
    "            train_idx=train_idx, val_idx=val_idx,\n",
    "            topk_train=topk_train, topk_val=topk_val,\n",
    "            labels=labels,\n",
    "            max_epochs=max_epochs, batch_size=batch_size, batch_mult_val=batch_mult_val,\n",
    "            eval_step=eval_step, early_stop=early_stop, patience=patience)\n",
    "time_training = time.time() - start\n",
    "logging.info('Training done.')\n",
    "print(f\"Runtime: {time_training:.2f}s\")"
   ]
  },
  {
   "cell_type": "markdown",
   "metadata": {},
   "source": [
    "# Inference (val and test)"
   ]
  },
  {
   "cell_type": "code",
   "execution_count": null,
   "metadata": {},
   "outputs": [
    {
     "name": "stdout",
     "output_type": "stream",
     "text": [
      "Runtime: 0.22s\n"
     ]
    }
   ],
   "source": [
    "start = time.time()\n",
    "predictions, time_logits, time_propagation = model.predict(\n",
    "        sess=sess, adj_matrix=adj_matrix, attr_matrix=attr_matrix, alpha=alpha,\n",
    "        nprop=nprop_inference, inf_fraction=inf_fraction,\n",
    "        ppr_normalization=ppr_normalization)\n",
    "time_inference = time.time() - start\n",
    "print(f\"Runtime: {time_inference:.2f}s\")"
   ]
  },
  {
   "cell_type": "markdown",
   "metadata": {},
   "source": [
    "# Collect and print results"
   ]
  },
  {
   "cell_type": "code",
   "execution_count": null,
   "metadata": {},
   "outputs": [
    {
     "name": "stdout",
     "output_type": "stream",
     "text": [
      "len:  1750 [   12    16    18 ... 18793 18796 18798]\n",
      "len:  17050 [    0     1     2 ... 18795 18797 18799]\n",
      "(18800,)\n",
      "[]\n",
      "(0,)\n",
      "48\n"
     ]
    },
    {
     "name": "stderr",
     "output_type": "stream",
     "text": [
      "/Users/arielo97/Documents/University-TOPUSH/Intership/Experiments/internship_env/lib/python3.7/site-packages/numpy/lib/function_base.py:393: RuntimeWarning: Mean of empty slice.\n",
      "  avg = a.mean(axis)\n",
      "/Users/arielo97/Documents/University-TOPUSH/Intership/Experiments/internship_env/lib/python3.7/site-packages/numpy/core/_methods.py:161: RuntimeWarning: invalid value encountered in double_scalars\n",
      "  ret = ret.dtype.type(ret / rcount)\n"
     ]
    }
   ],
   "source": [
    "acc_train = 100 * accuracy_score(labels[train_idx], predictions[train_idx])\n",
    "acc_val = 100 * accuracy_score(labels[val_idx], predictions[val_idx])\n",
    "acc_test = 100 * accuracy_score(labels[test_idx], predictions[test_idx])\n",
    "\n",
    "print('len: ', len(train_idx), train_idx)\n",
    "print('len: ', len(val_idx), val_idx)\n",
    "print(predictions.shape)\n",
    "print(test_idx)\n",
    "print(predictions[test_idx].shape)\n",
    "\n",
    "print(predictions[0])\n",
    "f1_train = f1_score(labels[train_idx], predictions[train_idx], average='macro')\n",
    "f1_val = f1_score(labels[val_idx], predictions[val_idx], average='macro')\n",
    "f1_test = f1_score(labels[test_idx], predictions[test_idx], average='macro')\n",
    "\n",
    "#gpu_max_bytes = tf.contrib.memory_stats.MaxBytesInUse()\n",
    "#gpu_memory = sess.run(gpu_max_bytes)\n",
    "memory = utils.get_max_memory_bytes()\n",
    "\n",
    "time_total = time_preprocessing + time_training + time_inference"
   ]
  },
  {
   "cell_type": "code",
   "execution_count": null,
   "metadata": {},
   "outputs": [
    {
     "name": "stdout",
     "output_type": "stream",
     "text": [
      "\n",
      "Accuracy: Train: 98.9%, val: 63.0%, test: nan%\n",
      "F1 score: Train: 0.957, val: 0.534, test: nan\n",
      "\n",
      "Runtime: Preprocessing: 1.57s, training: 50.92s, inference: 0.26s -> total: 52.75s\n",
      "Memory: Main: 0.50GB\n",
      "\n"
     ]
    }
   ],
   "source": [
    "print(f'''\n",
    "Accuracy: Train: {acc_train:.1f}%, val: {acc_val:.1f}%, test: {acc_test:.1f}%\n",
    "F1 score: Train: {f1_train:.3f}, val: {f1_val:.3f}, test: {f1_test:.3f}\n",
    "\n",
    "Runtime: Preprocessing: {time_preprocessing:.2f}s, training: {time_training:.2f}s, inference: {time_inference:.2f}s -> total: {time_total:.2f}s\n",
    "Memory: Main: {(memory/1024) / 2**30:.2f}GB\n",
    "''')\n",
    "\n",
    "#Memory: Main: {memory / 2**30:.2f}GB, GPU: {gpu_memory / 2**30:.3f}GB"
   ]
  }
 ],
 "metadata": {
  "interpreter": {
   "hash": "428b61850e5b263fbda2b97ca58cd2fe5cdcfc5a923010f6dd10a2ffb1b72031"
  },
  "kernelspec": {
   "display_name": "jupy_env",
   "language": "python",
   "name": "jupy_env"
  },
  "language_info": {
   "codemirror_mode": {
    "name": "ipython",
    "version": 3
   },
   "file_extension": ".py",
   "mimetype": "text/x-python",
   "name": "python",
   "nbconvert_exporter": "python",
   "pygments_lexer": "ipython3",
   "version": "3.7.13"
  }
 },
 "nbformat": 4,
 "nbformat_minor": 4
}
