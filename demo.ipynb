{
 "cells": [
  {
   "cell_type": "code",
   "execution_count": 1,
   "metadata": {},
   "outputs": [],
   "source": [
    "import os\n",
    "import time\n",
    "import logging\n",
    "import yaml\n",
    "import ast\n",
    "import numpy as np\n",
    "import tensorflow as tf\n",
    "from sklearn.metrics import accuracy_score, f1_score, confusion_matrix\n",
    "\n",
    "from pprgo import utils\n",
    "from pprgo import ppr\n",
    "from pprgo import pprgo\n",
    "\n",
    "import pickle"
   ]
  },
  {
   "cell_type": "code",
   "execution_count": 2,
   "metadata": {},
   "outputs": [],
   "source": [
    "# Set up logging\n",
    "logger = logging.getLogger()\n",
    "logger.handlers = []\n",
    "ch = logging.StreamHandler()\n",
    "formatter = logging.Formatter(\n",
    "        fmt='%(asctime)s (%(levelname)s): %(message)s',\n",
    "        datefmt='%Y-%m-%d %H:%M:%S')\n",
    "ch.setFormatter(formatter)\n",
    "logger.addHandler(ch)\n",
    "logger.setLevel('INFO')\n",
    "\n",
    "os.environ['TF_CPP_MIN_LOG_LEVEL'] = '3'"
   ]
  },
  {
   "cell_type": "code",
   "execution_count": 3,
   "metadata": {},
   "outputs": [],
   "source": [
    "# !wget --show-progress -O data/reddit.npz https://ndownloader.figshare.com/files/23742119  #Reddit\n",
    "# !wget --show-progress -O data/magc.npz https://figshare.com/ndownloader/files/24045741 #MAG-COARSE"
   ]
  },
  {
   "cell_type": "markdown",
   "metadata": {},
   "source": [
    "# Download dataset"
   ]
  },
  {
   "cell_type": "markdown",
   "metadata": {},
   "source": [
    "# Load config"
   ]
  },
  {
   "cell_type": "code",
   "execution_count": 4,
   "metadata": {},
   "outputs": [],
   "source": [
    "with open('config_demo.yaml', 'r') as c:\n",
    "    config = yaml.safe_load(c)"
   ]
  },
  {
   "cell_type": "code",
   "execution_count": 5,
   "metadata": {},
   "outputs": [],
   "source": [
    "# For strings that yaml doesn't parse (e.g. None)\n",
    "for key, val in config.items():\n",
    "    if type(val) is str:\n",
    "        try:\n",
    "            config[key] = ast.literal_eval(val)\n",
    "        except (ValueError, SyntaxError):\n",
    "            pass"
   ]
  },
  {
   "cell_type": "code",
   "execution_count": 6,
   "metadata": {},
   "outputs": [],
   "source": [
    "data_file           = config['data_file']           # Path to the .npz data file\n",
    "# data_file = 'data/cora_full.npz'\n",
    "# data_file = 'data/pubmed.npz'\n",
    "data_file = 'data/reddit.npz'\n",
    "# data_file = 'data/magc.npz'\n",
    "\n",
    "split_seed          = config['split_seed']          # Seed for splitting the dataset into train/val/test\n",
    "ntrain_div_classes  = config['ntrain_div_classes']  # Number of training nodes divided by number of classes\n",
    "attr_normalization  = config['attr_normalization']  # Attribute normalization. Not used in the paper\n",
    "\n",
    "alpha               = config['alpha']               # PPR teleport probability\n",
    "alpha = 0.50\n",
    "eps                 = config['eps']                 # Stopping threshold for ACL's ApproximatePR\n",
    "topk                = config['topk']                # Number of PPR neighbors for each node\n",
    "topk=32\n",
    "ppr_normalization   = config['ppr_normalization']   # Adjacency matrix normalization for weighting neighbors\n",
    "\n",
    "hidden_size         = config['hidden_size']         # Size of the MLP's hidden layer\n",
    "nlayers             = config['nlayers']             # Number of MLP layers\n",
    "weight_decay        = config['weight_decay']        # Weight decay used for training the MLP\n",
    "dropout             = config['dropout']             # Dropout used for training\n",
    "\n",
    "lr                  = config['lr']                  # Learning rate\n",
    "max_epochs          = config['max_epochs']          # Maximum number of epochs (exact number if no early stopping)\n",
    "batch_size          = config['batch_size']          # Batch size for training\n",
    "batch_mult_val      = config['batch_mult_val']      # Multiplier for validation batch size\n",
    "\n",
    "eval_step           = config['eval_step']           # Accuracy is evaluated after every this number of steps\n",
    "run_val             = config['run_val']             # Evaluate accuracy on validation set during training\n",
    "\n",
    "early_stop          = config['early_stop']          # Use early stopping\n",
    "patience            = config['patience']            # Patience for early stopping\n",
    "\n",
    "nprop_inference     = config['nprop_inference']     # Number of propagation steps during inference\n",
    "inf_fraction        = config['inf_fraction']        # Fraction of nodes for which local predictions are computed during inference"
   ]
  },
  {
   "cell_type": "code",
   "execution_count": 7,
   "metadata": {},
   "outputs": [],
   "source": [
    "# import warnings\n",
    "# warnings.filterwarnings(\"ignore\")"
   ]
  },
  {
   "cell_type": "markdown",
   "metadata": {},
   "source": [
    "# Load the data"
   ]
  },
  {
   "cell_type": "code",
   "execution_count": 8,
   "metadata": {},
   "outputs": [
    {
     "name": "stdout",
     "output_type": "stream",
     "text": [
      "Number of classes:  41\n",
      "Runtime: 10.98s\n"
     ]
    }
   ],
   "source": [
    "start = time.time()\n",
    "(adj_matrix, attr_matrix, labels,\n",
    " train_idx, val_idx, test_idx) = utils.get_data(\n",
    "        f\"{data_file}\",\n",
    "        seed=split_seed,\n",
    "        ntrain_div_classes=ntrain_div_classes,\n",
    "        normalize_attr=attr_normalization\n",
    ")\n",
    "try:\n",
    "    d = attr_matrix.n_columns\n",
    "except AttributeError:\n",
    "    d = attr_matrix.shape[1]\n",
    "nc = labels.max() + 1\n",
    "print('Number of classes: ', nc)\n",
    "\n",
    "# print('shape attibute matrix: ', attr_matrix.n_rows)\n",
    "# print('Training: ', len(train_idx))\n",
    "# print('Validation: ', len(val_idx))\n",
    "# print('Testing: ', len(test_idx))\n",
    "# print('train_idx: ', train_idx)\n",
    "\n",
    "time_loading = time.time() - start\n",
    "print(f\"Runtime: {time_loading:.2f}s\")"
   ]
  },
  {
   "cell_type": "markdown",
   "metadata": {},
   "source": [
    "# Preprocessing: Calculate PPR scores"
   ]
  },
  {
   "cell_type": "code",
   "execution_count": 9,
   "metadata": {},
   "outputs": [],
   "source": [
    "#Compute core numbers\n",
    "# core_numbers = np.load('core-numbers-networkx.npy')\n",
    "\n",
    "# graph = igraph.Graph.Adjacency((adj_matrix.todense()> 0).tolist())\n",
    "# core_numbers = np.array(graph.coreness())\n",
    "# try:\n",
    "#     core_numbers = np.load('coredata/reddit-cores.npy')\n",
    "#     print('Cores loaded ')\n",
    "# except:\n",
    "#     print('No file for core numbers')\n",
    "#     core_numbers = None\n",
    "\n",
    "# core_numbers = None\n",
    "core_numbers = np.load('coredata/reddit-cores.npy')"
   ]
  },
  {
   "cell_type": "code",
   "execution_count": 10,
   "metadata": {},
   "outputs": [],
   "source": [
    "idx_all_nodes = np.arange(adj_matrix.shape[0])"
   ]
  },
  {
   "cell_type": "code",
   "execution_count": 11,
   "metadata": {},
   "outputs": [
    {
     "name": "stdout",
     "output_type": "stream",
     "text": [
      "Runtime: 0.00s\n"
     ]
    }
   ],
   "source": [
    "# compute the ppr vectors for train/val nodes using ACL's ApproximatePR\n",
    "\n",
    "start = time.time()\n",
    "\n",
    "\n",
    "# ppr_topk_train, core_topk_train, coreRank, mean_kn = ppr.topk_ppr_matrix(adj_matrix, alpha, eps, idx_all_nodes, topk, core_numbers,\n",
    "#                                  normalization=ppr_normalization)\n",
    "if run_val:\n",
    "    topk_val = ppr.topk_ppr_matrix(adj_matrix, alpha, eps, val_idx, topk,\n",
    "                                   normalization=ppr_normalization)\n",
    "else:\n",
    "    topk_val = None\n",
    "\n",
    "time_preprocessing = time.time() - start\n",
    "print(f\"Runtime: {time_preprocessing:.2f}s\")\n"
   ]
  },
  {
   "cell_type": "code",
   "execution_count": 12,
   "metadata": {},
   "outputs": [],
   "source": [
    "import scipy.sparse\n",
    "\n",
    "# scipy.sparse.save_npz('all_ppr.npz', ppr_topk_train)\n",
    "# scipy.sparse.save_npz('all_core.npz', core_topk_train)"
   ]
  },
  {
   "cell_type": "code",
   "execution_count": 13,
   "metadata": {},
   "outputs": [],
   "source": [
    "ppr_topk_train = scipy.sparse.load_npz('all_ppr.npz')\n",
    "core_topk_train = scipy.sparse.load_npz('all_core.npz')"
   ]
  },
  {
   "cell_type": "code",
   "execution_count": 14,
   "metadata": {},
   "outputs": [
    {
     "name": "stdout",
     "output_type": "stream",
     "text": [
      "(232965, 232965)\n",
      "(232965, 232965)\n"
     ]
    }
   ],
   "source": [
    "print(ppr_topk_train.shape)\n",
    "print(core_topk_train.shape)"
   ]
  },
  {
   "cell_type": "markdown",
   "metadata": {},
   "source": []
  },
  {
   "cell_type": "markdown",
   "metadata": {},
   "source": [
    "# Training: Set up model and train"
   ]
  },
  {
   "cell_type": "code",
   "execution_count": 15,
   "metadata": {},
   "outputs": [
    {
     "name": "stdout",
     "output_type": "stream",
     "text": [
      "WARNING:tensorflow:From /var/folders/x5/bhlqr68144x_138bllx2mdwh0000gn/T/ipykernel_62477/393009347.py:2: The name tf.reset_default_graph is deprecated. Please use tf.compat.v1.reset_default_graph instead.\n",
      "\n"
     ]
    },
    {
     "name": "stderr",
     "output_type": "stream",
     "text": [
      "2022-08-09 18:12:01 (WARNING): From /var/folders/x5/bhlqr68144x_138bllx2mdwh0000gn/T/ipykernel_62477/393009347.py:2: The name tf.reset_default_graph is deprecated. Please use tf.compat.v1.reset_default_graph instead.\n",
      "\n"
     ]
    },
    {
     "name": "stdout",
     "output_type": "stream",
     "text": [
      "WARNING:tensorflow:From /var/folders/x5/bhlqr68144x_138bllx2mdwh0000gn/T/ipykernel_62477/393009347.py:3: The name tf.set_random_seed is deprecated. Please use tf.compat.v1.set_random_seed instead.\n",
      "\n"
     ]
    },
    {
     "name": "stderr",
     "output_type": "stream",
     "text": [
      "2022-08-09 18:12:01 (WARNING): From /var/folders/x5/bhlqr68144x_138bllx2mdwh0000gn/T/ipykernel_62477/393009347.py:3: The name tf.set_random_seed is deprecated. Please use tf.compat.v1.set_random_seed instead.\n",
      "\n"
     ]
    }
   ],
   "source": [
    "start = time.time()\n",
    "tf.reset_default_graph()\n",
    "tf.set_random_seed(0)\n",
    "\n",
    "\n",
    "gamma = 0.5\n",
    "# gamma = np.array([0.8, 0.2])\n",
    "# gamma = gamma.astype('f')\n",
    "\n",
    "model = pprgo.PPRGo(d, nc, hidden_size, nlayers, lr, gamma, weight_decay, dropout, #adj_matrix, train_idx, TEMP, K, topk_train, intermediate_layer=100,\n",
    "                    sparse_features=type(attr_matrix) is not np.ndarray)\n",
    "\n",
    "\n",
    "\n",
    "# print(type(attr_matrix) is not np.ndarray)"
   ]
  },
  {
   "cell_type": "code",
   "execution_count": 16,
   "metadata": {},
   "outputs": [
    {
     "data": {
      "text/plain": [
       "<tf.Tensor 'batch_size:0' shape=<unknown> dtype=int32>"
      ]
     },
     "execution_count": 16,
     "metadata": {},
     "output_type": "execute_result"
    }
   ],
   "source": [
    "model.batch_size"
   ]
  },
  {
   "cell_type": "code",
   "execution_count": 17,
   "metadata": {},
   "outputs": [
    {
     "name": "stdout",
     "output_type": "stream",
     "text": [
      "ppr shape:  (512, 232965)\n",
      "type:  <class 'int'>\n",
      "ppr shape:  (308, 232965)\n",
      "type:  <class 'int'>\n"
     ]
    },
    {
     "name": "stderr",
     "output_type": "stream",
     "text": [
      "2022-08-09 18:12:05 (INFO): Epoch 9, step 20: train 3.91612\n",
      "2022-08-09 18:12:05 (INFO): Epoch 19, step 40: train 3.41193\n",
      "2022-08-09 18:12:06 (INFO): Epoch 29, step 60: train 3.18082\n",
      "2022-08-09 18:12:06 (INFO): Epoch 39, step 80: train 3.12066\n",
      "2022-08-09 18:12:06 (INFO): Epoch 49, step 100: train 3.01432\n",
      "2022-08-09 18:12:07 (INFO): Epoch 59, step 120: train 2.89492\n",
      "2022-08-09 18:12:07 (INFO): Epoch 69, step 140: train 2.78531\n",
      "2022-08-09 18:12:07 (INFO): Epoch 79, step 160: train 2.63761\n",
      "2022-08-09 18:12:07 (INFO): Epoch 89, step 180: train 2.57118\n",
      "2022-08-09 18:12:07 (INFO): Epoch 99, step 200: train 2.55721\n",
      "2022-08-09 18:12:08 (INFO): Epoch 109, step 220: train 2.43437\n",
      "2022-08-09 18:12:08 (INFO): Epoch 119, step 240: train 2.40687\n",
      "2022-08-09 18:12:08 (INFO): Epoch 129, step 260: train 2.30161\n",
      "2022-08-09 18:12:09 (INFO): Epoch 139, step 280: train 2.24959\n",
      "2022-08-09 18:12:09 (INFO): Epoch 149, step 300: train 2.18818\n",
      "2022-08-09 18:12:09 (INFO): Epoch 159, step 320: train 2.13896\n",
      "2022-08-09 18:12:09 (INFO): Epoch 169, step 340: train 2.02713\n",
      "2022-08-09 18:12:10 (INFO): Epoch 179, step 360: train 1.99984\n",
      "2022-08-09 18:12:10 (INFO): Epoch 189, step 380: train 2.01441\n",
      "2022-08-09 18:12:10 (INFO): Epoch 199, step 400: train 2.13701\n",
      "2022-08-09 18:12:10 (INFO): Training done.\n"
     ]
    },
    {
     "name": "stdout",
     "output_type": "stream",
     "text": [
      "Runtime: 8.85s\n"
     ]
    }
   ],
   "source": [
    "sess = tf.compat.v1.Session()\n",
    "with sess.as_default():\n",
    "    tf.compat.v1.global_variables_initializer().run()\n",
    "    nepochs, loss_hist, acc_hist, f1_hist = pprgo.train(\n",
    "            sess=sess, model=model, attr_matrix=attr_matrix,\n",
    "            train_idx=train_idx, val_idx=val_idx,\n",
    "            topk_train=ppr_topk_train[train_idx], topk_val=topk_val, core_topk_train=core_topk_train[train_idx],\n",
    "            labels=labels, #adj_matrix=adj_matrix,\n",
    "            max_epochs=max_epochs, batch_size=batch_size, batch_mult_val=batch_mult_val,\n",
    "            eval_step=eval_step, early_stop=early_stop, patience=patience)\n",
    "time_training = time.time() - start\n",
    "logging.info('Training done.')\n",
    "print(f\"Runtime: {time_training:.2f}s\")"
   ]
  },
  {
   "cell_type": "markdown",
   "metadata": {},
   "source": [
    "# Inference (val and test)"
   ]
  },
  {
   "cell_type": "code",
   "execution_count": 18,
   "metadata": {},
   "outputs": [
    {
     "name": "stdout",
     "output_type": "stream",
     "text": [
      "Inference gamma:  0.17375247\n",
      "Runtime: 4.84s\n"
     ]
    }
   ],
   "source": [
    "start = time.time()\n",
    "predictions, time_logits, time_propagation, logits = model.predict(\n",
    "        sess=sess, adj_matrix=adj_matrix, attr_matrix=attr_matrix, alpha=alpha, ppr_topk_test=ppr_topk_train[test_idx], core_topk_test=core_topk_train[test_idx],\n",
    "        nprop=nprop_inference, inf_fraction=inf_fraction,\n",
    "        ppr_normalization=ppr_normalization)\n",
    "time_inference = time.time() - start\n",
    "print(f\"Runtime: {time_inference:.2f}s\")"
   ]
  },
  {
   "cell_type": "code",
   "execution_count": 21,
   "metadata": {},
   "outputs": [
    {
     "name": "stdout",
     "output_type": "stream",
     "text": [
      "223945\n",
      "223945\n"
     ]
    }
   ],
   "source": [
    "print(len(predictions))\n",
    "print(len(test_idx))"
   ]
  },
  {
   "cell_type": "code",
   "execution_count": 20,
   "metadata": {},
   "outputs": [
    {
     "name": "stdout",
     "output_type": "stream",
     "text": [
      "logits:  (223945, 41)\n",
      "adj_matrix:  (232965, 232965)\n"
     ]
    },
    {
     "ename": "KeyboardInterrupt",
     "evalue": "",
     "output_type": "error",
     "traceback": [
      "\u001b[0;31m---------------------------------------------------------------------------\u001b[0m",
      "\u001b[0;31mKeyboardInterrupt\u001b[0m                         Traceback (most recent call last)",
      "\u001b[0;32m/var/folders/x5/bhlqr68144x_138bllx2mdwh0000gn/T/ipykernel_62477/3961029362.py\u001b[0m in \u001b[0;36m<module>\u001b[0;34m\u001b[0m\n\u001b[1;32m     40\u001b[0m \u001b[0;34m\u001b[0m\u001b[0m\n\u001b[1;32m     41\u001b[0m \u001b[0mM\u001b[0m \u001b[0;34m=\u001b[0m \u001b[0madj_matrix\u001b[0m\u001b[0;34m.\u001b[0m\u001b[0mmultiply\u001b[0m\u001b[0;34m(\u001b[0m\u001b[0mdeg_sqrt_inv\u001b[0m\u001b[0;34m[\u001b[0m\u001b[0;34m:\u001b[0m\u001b[0;34m,\u001b[0m \u001b[0;32mNone\u001b[0m\u001b[0;34m]\u001b[0m\u001b[0;34m)\u001b[0m\u001b[0;34m\u001b[0m\u001b[0;34m\u001b[0m\u001b[0m\n\u001b[0;32m---> 42\u001b[0;31m \u001b[0mA_inner\u001b[0m \u001b[0;34m=\u001b[0m \u001b[0mscipy\u001b[0m\u001b[0;34m.\u001b[0m\u001b[0msparse\u001b[0m\u001b[0;34m.\u001b[0m\u001b[0meye\u001b[0m\u001b[0;34m(\u001b[0m\u001b[0madj_matrix\u001b[0m\u001b[0;34m.\u001b[0m\u001b[0mshape\u001b[0m\u001b[0;34m[\u001b[0m\u001b[0;36m0\u001b[0m\u001b[0;34m]\u001b[0m\u001b[0;34m)\u001b[0m \u001b[0;34m-\u001b[0m \u001b[0;34m(\u001b[0m\u001b[0;36m1\u001b[0m \u001b[0;34m-\u001b[0m \u001b[0malpha\u001b[0m\u001b[0;34m)\u001b[0m \u001b[0;34m*\u001b[0m \u001b[0mM\u001b[0m\u001b[0;34m\u001b[0m\u001b[0;34m\u001b[0m\u001b[0m\n\u001b[0m\u001b[1;32m     43\u001b[0m \u001b[0mresult\u001b[0m \u001b[0;34m=\u001b[0m \u001b[0mscipy\u001b[0m\u001b[0;34m.\u001b[0m\u001b[0msparse\u001b[0m\u001b[0;34m.\u001b[0m\u001b[0mlinalg\u001b[0m\u001b[0;34m.\u001b[0m\u001b[0minv\u001b[0m\u001b[0;34m(\u001b[0m\u001b[0mA_inner\u001b[0m\u001b[0;34m)\u001b[0m\u001b[0;34m\u001b[0m\u001b[0;34m\u001b[0m\u001b[0m\n\u001b[1;32m     44\u001b[0m \u001b[0;34m\u001b[0m\u001b[0m\n",
      "\u001b[0;32m~/Documents/University-TOPUSH/Intership/Experiments/internship_env/lib/python3.7/site-packages/scipy/sparse/base.py\u001b[0m in \u001b[0;36m__rmul__\u001b[0;34m(self, other)\u001b[0m\n\u001b[1;32m    541\u001b[0m     \u001b[0;32mdef\u001b[0m \u001b[0m__rmul__\u001b[0m\u001b[0;34m(\u001b[0m\u001b[0mself\u001b[0m\u001b[0;34m,\u001b[0m \u001b[0mother\u001b[0m\u001b[0;34m)\u001b[0m\u001b[0;34m:\u001b[0m  \u001b[0;31m# other * self\u001b[0m\u001b[0;34m\u001b[0m\u001b[0;34m\u001b[0m\u001b[0m\n\u001b[1;32m    542\u001b[0m         \u001b[0;32mif\u001b[0m \u001b[0misscalarlike\u001b[0m\u001b[0;34m(\u001b[0m\u001b[0mother\u001b[0m\u001b[0;34m)\u001b[0m\u001b[0;34m:\u001b[0m\u001b[0;34m\u001b[0m\u001b[0;34m\u001b[0m\u001b[0m\n\u001b[0;32m--> 543\u001b[0;31m             \u001b[0;32mreturn\u001b[0m \u001b[0mself\u001b[0m\u001b[0;34m.\u001b[0m\u001b[0m__mul__\u001b[0m\u001b[0;34m(\u001b[0m\u001b[0mother\u001b[0m\u001b[0;34m)\u001b[0m\u001b[0;34m\u001b[0m\u001b[0;34m\u001b[0m\u001b[0m\n\u001b[0m\u001b[1;32m    544\u001b[0m         \u001b[0;32melse\u001b[0m\u001b[0;34m:\u001b[0m\u001b[0;34m\u001b[0m\u001b[0;34m\u001b[0m\u001b[0m\n\u001b[1;32m    545\u001b[0m             \u001b[0;31m# Don't use asarray unless we have to\u001b[0m\u001b[0;34m\u001b[0m\u001b[0;34m\u001b[0m\u001b[0;34m\u001b[0m\u001b[0m\n",
      "\u001b[0;32m~/Documents/University-TOPUSH/Intership/Experiments/internship_env/lib/python3.7/site-packages/scipy/sparse/base.py\u001b[0m in \u001b[0;36m__mul__\u001b[0;34m(self, other)\u001b[0m\n\u001b[1;32m    473\u001b[0m         \u001b[0;32mif\u001b[0m \u001b[0misscalarlike\u001b[0m\u001b[0;34m(\u001b[0m\u001b[0mother\u001b[0m\u001b[0;34m)\u001b[0m\u001b[0;34m:\u001b[0m\u001b[0;34m\u001b[0m\u001b[0;34m\u001b[0m\u001b[0m\n\u001b[1;32m    474\u001b[0m             \u001b[0;31m# scalar value\u001b[0m\u001b[0;34m\u001b[0m\u001b[0;34m\u001b[0m\u001b[0;34m\u001b[0m\u001b[0m\n\u001b[0;32m--> 475\u001b[0;31m             \u001b[0;32mreturn\u001b[0m \u001b[0mself\u001b[0m\u001b[0;34m.\u001b[0m\u001b[0m_mul_scalar\u001b[0m\u001b[0;34m(\u001b[0m\u001b[0mother\u001b[0m\u001b[0;34m)\u001b[0m\u001b[0;34m\u001b[0m\u001b[0;34m\u001b[0m\u001b[0m\n\u001b[0m\u001b[1;32m    476\u001b[0m \u001b[0;34m\u001b[0m\u001b[0m\n\u001b[1;32m    477\u001b[0m         \u001b[0;32mif\u001b[0m \u001b[0missparse\u001b[0m\u001b[0;34m(\u001b[0m\u001b[0mother\u001b[0m\u001b[0;34m)\u001b[0m\u001b[0;34m:\u001b[0m\u001b[0;34m\u001b[0m\u001b[0;34m\u001b[0m\u001b[0m\n",
      "\u001b[0;32m~/Documents/University-TOPUSH/Intership/Experiments/internship_env/lib/python3.7/site-packages/scipy/sparse/data.py\u001b[0m in \u001b[0;36m_mul_scalar\u001b[0;34m(self, other)\u001b[0m\n\u001b[1;32m    122\u001b[0m \u001b[0;34m\u001b[0m\u001b[0m\n\u001b[1;32m    123\u001b[0m     \u001b[0;32mdef\u001b[0m \u001b[0m_mul_scalar\u001b[0m\u001b[0;34m(\u001b[0m\u001b[0mself\u001b[0m\u001b[0;34m,\u001b[0m \u001b[0mother\u001b[0m\u001b[0;34m)\u001b[0m\u001b[0;34m:\u001b[0m\u001b[0;34m\u001b[0m\u001b[0;34m\u001b[0m\u001b[0m\n\u001b[0;32m--> 124\u001b[0;31m         \u001b[0;32mreturn\u001b[0m \u001b[0mself\u001b[0m\u001b[0;34m.\u001b[0m\u001b[0m_with_data\u001b[0m\u001b[0;34m(\u001b[0m\u001b[0mself\u001b[0m\u001b[0;34m.\u001b[0m\u001b[0mdata\u001b[0m \u001b[0;34m*\u001b[0m \u001b[0mother\u001b[0m\u001b[0;34m)\u001b[0m\u001b[0;34m\u001b[0m\u001b[0;34m\u001b[0m\u001b[0m\n\u001b[0m\u001b[1;32m    125\u001b[0m \u001b[0;34m\u001b[0m\u001b[0m\n\u001b[1;32m    126\u001b[0m \u001b[0;34m\u001b[0m\u001b[0m\n",
      "\u001b[0;31mKeyboardInterrupt\u001b[0m: "
     ]
    }
   ],
   "source": [
    "deg = adj_matrix.sum(1).A1\n",
    "deg_sqrt_inv = 1. / np.sqrt(np.maximum(deg, 1e-12))\n",
    "\n",
    "print('logits: ', logits.shape)\n",
    "print('adj_matrix: ', adj_matrix.shape)\n",
    "\n",
    "# print(adj_matrix)\n",
    "# print(deg_sqrt_inv)\n",
    "\n",
    "# adj_matrix_norm =  adj_matrix.multiply(deg_sqrt_inv[:, None])\n",
    "\n",
    "# print('x: ', x.shape, x )\n",
    "\n",
    "# print('x: ', x.shape)\n",
    "\n",
    "# x = np.arange(16).reshape(4,4)\n",
    "# print(x)\n",
    "# x = scipy.sparse.csr_matrix(x)\n",
    "\n",
    "# # print(x)\n",
    "# print(x.shape)\n",
    "\n",
    "# y = np.arange(4)\n",
    "# print(y)\n",
    "# print(y[:, None].shape)\n",
    "\n",
    "\n",
    "# w = x.multiply(y[:, None])\n",
    "# print('w: ', w.shape, w.todense())\n",
    "\n",
    "# z = y[:, None] * x\n",
    "# print('z: ', z.shape)\n",
    "\n",
    "\n",
    "# print(logits)\n",
    "\n",
    "# # core_matrix = adj_matrix.multiply(coreRank)\n",
    "# # normalized_core_matrix = core_matrix.multiply(1/core_matrix.sum(axis=1).A1[:, None])\n",
    "# # print(normalized_core_matrix.sum(axis=1))\n",
    "\n",
    "M = adj_matrix.multiply(deg_sqrt_inv[:, None])\n",
    "A_inner = scipy.sparse.eye(adj_matrix.shape[0]) - (1 - alpha) * M\n",
    "result = scipy.sparse.linalg.inv(A_inner)\n",
    "\n",
    "print('result: ', result.shape, type(result))\n",
    "\n",
    "\n",
    "\n",
    "right_term = scipy.sparse.eye(adj_matrix.shape[0])\n",
    "adj_power = adj_matrix.multiply(deg_sqrt_inv[:, None])\n",
    "\n",
    "\n",
    "for k in range(1, nprop_inference):\n",
    "    if k ==1:\n",
    "        right_term += (1-alpha)  * adj_power\n",
    "    else:\n",
    "        adj_power = adj_power @ adj_power\n",
    "        right_term += np.power(1-alpha, k) * adj_power\n",
    "\n",
    "right_term = alpha * right_term\n",
    "\n",
    "adj_power = adj_power @ adj_power\n",
    "\n",
    "left_term = np.power(1-alpha, nprop_inference) * adj_power\n",
    "\n",
    "new_logits = (left_term +right_term) @ (deg_sqrt_inv[:, None] * logits)\n",
    "\n",
    "\n",
    "\n",
    "\n",
    "\n"
   ]
  },
  {
   "cell_type": "code",
   "execution_count": null,
   "metadata": {},
   "outputs": [],
   "source": [
    "# print(deg_sqrt_inv[:, None].shape)\n",
    "# print((adj_matrix).shape)\n",
    "\n",
    "# deg_sqrt_inv[:, None] * "
   ]
  },
  {
   "cell_type": "code",
   "execution_count": null,
   "metadata": {},
   "outputs": [],
   "source": [
    "# xd =  deg_sqrt_inv[:, None] *(normalized_core_matrix * deg_sqrt_inv[:, None])\n",
    "# print(xd.shape)\n",
    "adj = np.array([[0,1,1],[1,1,0], [1,0,1]])\n",
    "coreRank = np.array([3,7,9])\n",
    "\n",
    "print('adj: ', adj)\n",
    "print('coreRank: ', coreRank)\n",
    "\n",
    "coreMatrix = np.multiply(adj, coreRank)\n",
    "\n",
    "print('coreMatrix: ', coreMatrix)\n",
    "\n",
    "# print('sum: ', np.sum(coreMatrix, axis=1))\n",
    "\n",
    "z = np.multiply(coreMatrix, 1/ np.sum(coreMatrix, axis=1)[:,None])\n",
    "print(z)\n",
    "\n",
    "# print(np.sum(z, axis=1))\n"
   ]
  },
  {
   "cell_type": "code",
   "execution_count": null,
   "metadata": {},
   "outputs": [],
   "source": [
    "print(acc_hist)\n"
   ]
  },
  {
   "cell_type": "markdown",
   "metadata": {},
   "source": [
    "# Collect and print results"
   ]
  },
  {
   "cell_type": "code",
   "execution_count": 25,
   "metadata": {},
   "outputs": [],
   "source": [
    "\n",
    "# acc_train = 100 * accuracy_score(labels[train_idx], predictions[train_idx])\n",
    "# acc_val = 100 * accuracy_score(labels[val_idx], predictions[val_idx])\n",
    "# acc_test = 100 * accuracy_score(labels[test_idx], predictions[test_idx])\n",
    "\n",
    "acc_test = 100 * accuracy_score(labels[test_idx], predictions)\n",
    "acc_train = 0.00\n",
    "acc_val = 0.00\n",
    "\n",
    "# f1_train = f1_score(labels[train_idx], predictions[train_idx], average='macro')\n",
    "# f1_val = f1_score(labels[val_idx], predictions[val_idx], average='macro')\n",
    "# f1_test = f1_score(labels[test_idx], predictions[test_idx], average='macro')\n",
    "f1_train = 0.00\n",
    "f1_val = 0.00\n",
    "f1_test = f1_score(labels[test_idx], predictions, average='macro')\n",
    "\n",
    "\n",
    "\n",
    "#gpu_max_bytes = tf.contrib.memory_stats.MaxBytesInUse()\n",
    "#gpu_memory = sess.run(gpu_max_bytes)\n",
    "memory = utils.get_max_memory_bytes()\n",
    "\n",
    "time_total = time_preprocessing + time_training + time_inference"
   ]
  },
  {
   "cell_type": "code",
   "execution_count": 26,
   "metadata": {},
   "outputs": [
    {
     "name": "stdout",
     "output_type": "stream",
     "text": [
      "\n",
      "Accuracy: Train: 0.0%, val: 0.0%, test: 32.3%\n",
      "F1 score: Train: 0.000, val: 0.000, test: 0.160\n",
      "\n",
      "Runtime: Preprocessing: 0.00s, training: 8.85s, inference: 4.84s -> total: 13.69s\n",
      "Memory: Main: 3.77GB\n",
      "\n"
     ]
    }
   ],
   "source": [
    "print(f'''\n",
    "Accuracy: Train: {acc_train:.1f}%, val: {acc_val:.1f}%, test: {acc_test:.1f}%\n",
    "F1 score: Train: {f1_train:.3f}, val: {f1_val:.3f}, test: {f1_test:.3f}\n",
    "\n",
    "Runtime: Preprocessing: {time_preprocessing:.2f}s, training: {time_training:.2f}s, inference: {time_inference:.2f}s -> total: {time_total:.2f}s\n",
    "Memory: Main: {(memory/1024) / 2**30:.2f}GB\n",
    "''')\n",
    "\n",
    "#Memory: Main: {memory / 2**30:.2f}GB, GPU: {gpu_memory / 2**30:.3f}GB"
   ]
  }
 ],
 "metadata": {
  "kernelspec": {
   "display_name": "Python 3.7.13 ('internship_env')",
   "language": "python",
   "name": "python3"
  },
  "language_info": {
   "codemirror_mode": {
    "name": "ipython",
    "version": 3
   },
   "file_extension": ".py",
   "mimetype": "text/x-python",
   "name": "python",
   "nbconvert_exporter": "python",
   "pygments_lexer": "ipython3",
   "version": "3.7.13"
  },
  "vscode": {
   "interpreter": {
    "hash": "428b61850e5b263fbda2b97ca58cd2fe5cdcfc5a923010f6dd10a2ffb1b72031"
   }
  }
 },
 "nbformat": 4,
 "nbformat_minor": 4
}
