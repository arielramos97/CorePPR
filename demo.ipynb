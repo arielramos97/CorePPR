{
 "cells": [
  {
   "cell_type": "code",
   "execution_count": 1,
   "metadata": {},
   "outputs": [],
   "source": [
    "import os\n",
    "import time\n",
    "import logging\n",
    "import yaml\n",
    "import ast\n",
    "import numpy as np\n",
    "import tensorflow as tf\n",
    "from sklearn.metrics import accuracy_score, f1_score, confusion_matrix\n",
    "\n",
    "from pprgo import utils\n",
    "from pprgo import ppr\n",
    "from pprgo import pprgo\n",
    "\n",
    "import igraph\n",
    "import pickle"
   ]
  },
  {
   "cell_type": "code",
   "execution_count": 2,
   "metadata": {},
   "outputs": [],
   "source": [
    "# Set up logging\n",
    "logger = logging.getLogger()\n",
    "logger.handlers = []\n",
    "ch = logging.StreamHandler()\n",
    "formatter = logging.Formatter(\n",
    "        fmt='%(asctime)s (%(levelname)s): %(message)s',\n",
    "        datefmt='%Y-%m-%d %H:%M:%S')\n",
    "ch.setFormatter(formatter)\n",
    "logger.addHandler(ch)\n",
    "logger.setLevel('INFO')\n",
    "\n",
    "os.environ['TF_CPP_MIN_LOG_LEVEL'] = '3'"
   ]
  },
  {
   "cell_type": "code",
   "execution_count": 3,
   "metadata": {},
   "outputs": [],
   "source": [
    "# !wget --show-progress -O data/reddit.npz https://ndownloader.figshare.com/files/23742119"
   ]
  },
  {
   "cell_type": "markdown",
   "metadata": {},
   "source": [
    "# Download dataset"
   ]
  },
  {
   "cell_type": "markdown",
   "metadata": {},
   "source": [
    "# Load config"
   ]
  },
  {
   "cell_type": "code",
   "execution_count": 4,
   "metadata": {},
   "outputs": [],
   "source": [
    "with open('config_demo.yaml', 'r') as c:\n",
    "    config = yaml.safe_load(c)"
   ]
  },
  {
   "cell_type": "code",
   "execution_count": 5,
   "metadata": {},
   "outputs": [],
   "source": [
    "# For strings that yaml doesn't parse (e.g. None)\n",
    "for key, val in config.items():\n",
    "    if type(val) is str:\n",
    "        try:\n",
    "            config[key] = ast.literal_eval(val)\n",
    "        except (ValueError, SyntaxError):\n",
    "            pass"
   ]
  },
  {
   "cell_type": "code",
   "execution_count": 6,
   "metadata": {},
   "outputs": [],
   "source": [
    "data_file           = config['data_file']           # Path to the .npz data file\n",
    "data_file = 'data/cora_full.npz'\n",
    "# data_file = 'data/pubmed.npz'\n",
    "# data_file = 'data/reddit.npz'\n",
    "# data_file = 'data/mag_coarse.npz'\n",
    "\n",
    "split_seed          = config['split_seed']          # Seed for splitting the dataset into train/val/test\n",
    "ntrain_div_classes  = config['ntrain_div_classes']  # Number of training nodes divided by number of classes\n",
    "attr_normalization  = config['attr_normalization']  # Attribute normalization. Not used in the paper\n",
    "\n",
    "alpha               = config['alpha']               # PPR teleport probability\n",
    "alpha = 0.25\n",
    "eps                 = config['eps']                 # Stopping threshold for ACL's ApproximatePR\n",
    "topk                = config['topk']                # Number of PPR neighbors for each node\n",
    "topk=32\n",
    "ppr_normalization   = config['ppr_normalization']   # Adjacency matrix normalization for weighting neighbors\n",
    "\n",
    "hidden_size         = config['hidden_size']         # Size of the MLP's hidden layer\n",
    "nlayers             = config['nlayers']             # Number of MLP layers\n",
    "weight_decay        = config['weight_decay']        # Weight decay used for training the MLP\n",
    "dropout             = config['dropout']             # Dropout used for training\n",
    "\n",
    "lr                  = config['lr']                  # Learning rate\n",
    "max_epochs          = config['max_epochs']          # Maximum number of epochs (exact number if no early stopping)\n",
    "batch_size          = config['batch_size']          # Batch size for training\n",
    "batch_mult_val      = config['batch_mult_val']      # Multiplier for validation batch size\n",
    "\n",
    "eval_step           = config['eval_step']           # Accuracy is evaluated after every this number of steps\n",
    "run_val             = config['run_val']             # Evaluate accuracy on validation set during training\n",
    "\n",
    "early_stop          = config['early_stop']          # Use early stopping\n",
    "patience            = config['patience']            # Patience for early stopping\n",
    "\n",
    "nprop_inference     = config['nprop_inference']     # Number of propagation steps during inference\n",
    "inf_fraction        = config['inf_fraction']        # Fraction of nodes for which local predictions are computed during inference"
   ]
  },
  {
   "cell_type": "code",
   "execution_count": 7,
   "metadata": {},
   "outputs": [],
   "source": [
    "# import warnings\n",
    "# warnings.filterwarnings(\"ignore\")"
   ]
  },
  {
   "cell_type": "markdown",
   "metadata": {},
   "source": [
    "# Load the data"
   ]
  },
  {
   "cell_type": "code",
   "execution_count": 8,
   "metadata": {},
   "outputs": [
    {
     "name": "stdout",
     "output_type": "stream",
     "text": [
      "70\n",
      "Training:  1400\n",
      "Validation:  14000\n",
      "Testing:  3400\n",
      "train_idx:  [   12    16    18 ... 18790 18793 18798]\n",
      "Runtime: 0.27s\n"
     ]
    }
   ],
   "source": [
    "start = time.time()\n",
    "(adj_matrix, attr_matrix, labels,\n",
    " train_idx, val_idx, test_idx) = utils.get_data(\n",
    "        f\"{data_file}\",\n",
    "        seed=split_seed,\n",
    "        ntrain_div_classes=ntrain_div_classes,\n",
    "        normalize_attr=attr_normalization\n",
    ")\n",
    "try:\n",
    "    d = attr_matrix.n_columns\n",
    "except AttributeError:\n",
    "    d = attr_matrix.shape[1]\n",
    "nc = labels.max() + 1\n",
    "print(nc)\n",
    "\n",
    "# print('shape attibute matrix: ', attr_matrix.n_rows)\n",
    "print('Training: ', len(train_idx))\n",
    "print('Validation: ', len(val_idx))\n",
    "print('Testing: ', len(test_idx))\n",
    "\n",
    "print('train_idx: ', train_idx)\n",
    "\n",
    "time_loading = time.time() - start\n",
    "print(f\"Runtime: {time_loading:.2f}s\")"
   ]
  },
  {
   "cell_type": "markdown",
   "metadata": {},
   "source": [
    "# Preprocessing: Calculate PPR scores"
   ]
  },
  {
   "cell_type": "code",
   "execution_count": 9,
   "metadata": {},
   "outputs": [],
   "source": [
    "# pip install networkx"
   ]
  },
  {
   "cell_type": "code",
   "execution_count": 10,
   "metadata": {},
   "outputs": [],
   "source": [
    "from networkx import from_scipy_sparse_matrix, k_truss, core_number\n",
    "\n",
    "# g_networkX = from_scipy_sparse_matrix(adj_matrix)\n",
    "# core_numbers2 = core_number(g_networkX)\n",
    "# np.save('core-numbers-networkx', np.array(list(core_numbers.values())))\n",
    "\n",
    "g_networkX = None\n"
   ]
  },
  {
   "cell_type": "code",
   "execution_count": 11,
   "metadata": {},
   "outputs": [],
   "source": [
    "#Compute core numbers\n",
    "# core_numbers = np.load('core-numbers-networkx.npy')\n",
    "\n",
    "# graph = igraph.Graph.Adjacency((adj_matrix.todense()> 0).tolist())\n",
    "# core_numbers = np.array(graph.coreness())\n",
    "# try:\n",
    "#     core_numbers = np.load('coredata/reddit-cores.npy')\n",
    "#     print('Cores loaded ')\n",
    "# except:\n",
    "#     print('No file for core numbers')\n",
    "#     core_numbers = None\n",
    "core_numbers = None"
   ]
  },
  {
   "cell_type": "code",
   "execution_count": 12,
   "metadata": {},
   "outputs": [],
   "source": [
    "# with open('graph.pkl', 'wb') as outp:  # Overwrites any existing file.\n",
    "#         pickle.dump(graph, outp, pickle.HIGHEST_PROTOCOL)\n",
    "\n",
    "# with open('graph.pkl', 'rb') as inp:\n",
    "#     graph = pickle.load(inp)\n",
    "\n",
    "# shortest_path = graph.get_shortest_paths(0, to=[1,2,3])\n",
    "# print(shortest_path)"
   ]
  },
  {
   "cell_type": "code",
   "execution_count": 13,
   "metadata": {},
   "outputs": [
    {
     "name": "stdout",
     "output_type": "stream",
     "text": [
      "maxium:  1276\n",
      "Runtime: 9.33s\n"
     ]
    }
   ],
   "source": [
    "# compute the ppr vectors for train/val nodes using ACL's ApproximatePR\n",
    "\n",
    "start = time.time()\n",
    "\n",
    "# topk_train = ppr.topk_ppr_matrix(adj_matrix, alpha, eps, train_idx, topk, #core_numbers, g_networkX,\n",
    "#                                  normalization=ppr_normalization) #, S=1, gamma=0.8)\n",
    "\n",
    "topk_train, core_topk_train, mean_kn = ppr.topk_ppr_matrix(adj_matrix, alpha, eps, train_idx, topk, core_numbers, g_networkX,\n",
    "                                 normalization=ppr_normalization, S=1, gamma=0.78)\n",
    "if run_val:\n",
    "    topk_val = ppr.topk_ppr_matrix(adj_matrix, alpha, eps, val_idx, topk,\n",
    "                                   normalization=ppr_normalization)\n",
    "else:\n",
    "    topk_val = None\n",
    "\n",
    "time_preprocessing = time.time() - start\n",
    "print(f\"Runtime: {time_preprocessing:.2f}s\")\n",
    "\n",
    "\n",
    "# print('topk_train', topk_train.shape)\n",
    "# adj_xd = adj_matrix[train_idx]\n",
    "# print(adj_xd[0:0 + batch_size].shape)"
   ]
  },
  {
   "cell_type": "code",
   "execution_count": 14,
   "metadata": {},
   "outputs": [],
   "source": [
    "import scipy.sparse\n",
    "\n",
    "# scipy.sparse.save_npz('FwdPush-topk_train.npz', topk_train)"
   ]
  },
  {
   "cell_type": "code",
   "execution_count": 15,
   "metadata": {},
   "outputs": [],
   "source": [
    "# topk_train = scipy.sparse.load_npz('FwdPush-topk_train.npz')"
   ]
  },
  {
   "cell_type": "code",
   "execution_count": 16,
   "metadata": {},
   "outputs": [
    {
     "name": "stdout",
     "output_type": "stream",
     "text": [
      "(1400, 18800)\n"
     ]
    }
   ],
   "source": [
    "print(topk_train.shape)\n",
    "# print(core_topk_train)"
   ]
  },
  {
   "cell_type": "markdown",
   "metadata": {},
   "source": []
  },
  {
   "cell_type": "markdown",
   "metadata": {},
   "source": [
    "# Training: Set up model and train"
   ]
  },
  {
   "cell_type": "code",
   "execution_count": 17,
   "metadata": {},
   "outputs": [
    {
     "name": "stdout",
     "output_type": "stream",
     "text": [
      "WARNING:tensorflow:From /var/folders/x5/bhlqr68144x_138bllx2mdwh0000gn/T/ipykernel_91178/1542600667.py:2: The name tf.reset_default_graph is deprecated. Please use tf.compat.v1.reset_default_graph instead.\n",
      "\n"
     ]
    },
    {
     "name": "stderr",
     "output_type": "stream",
     "text": [
      "2022-08-02 16:26:58 (WARNING): From /var/folders/x5/bhlqr68144x_138bllx2mdwh0000gn/T/ipykernel_91178/1542600667.py:2: The name tf.reset_default_graph is deprecated. Please use tf.compat.v1.reset_default_graph instead.\n",
      "\n"
     ]
    },
    {
     "name": "stdout",
     "output_type": "stream",
     "text": [
      "WARNING:tensorflow:From /var/folders/x5/bhlqr68144x_138bllx2mdwh0000gn/T/ipykernel_91178/1542600667.py:3: The name tf.set_random_seed is deprecated. Please use tf.compat.v1.set_random_seed instead.\n",
      "\n"
     ]
    },
    {
     "name": "stderr",
     "output_type": "stream",
     "text": [
      "2022-08-02 16:26:58 (WARNING): From /var/folders/x5/bhlqr68144x_138bllx2mdwh0000gn/T/ipykernel_91178/1542600667.py:3: The name tf.set_random_seed is deprecated. Please use tf.compat.v1.set_random_seed instead.\n",
      "\n"
     ]
    }
   ],
   "source": [
    "start = time.time()\n",
    "tf.reset_default_graph()\n",
    "tf.set_random_seed(0)\n",
    "\n",
    "K = 5\n",
    "\n",
    "#ppr like\n",
    "TEMP = alpha*(1-alpha)**np.arange(K+1)\n",
    "TEMP[-1] = (1-alpha)**K\n",
    "TEMP = TEMP.astype('f')\n",
    "\n",
    "\n",
    "#negative ppr \n",
    "# TEMP = (alpha)**np.arange(K+1)\n",
    "# TEMP = TEMP/np.sum(np.abs(TEMP))\n",
    "# TEMP = TEMP.astype('f')\n",
    "\n",
    "#Random\n",
    "# bound = np.sqrt(3/(K+1))\n",
    "# TEMP = np.random.uniform(-bound, bound, K+1)\n",
    "# TEMP = TEMP/np.sum(np.abs(TEMP))\n",
    "# TEMP = TEMP.astype('f')\n",
    "\n",
    "\n",
    "# print(TEMP)\n",
    "# print(TEMP.dtype)\n",
    "\n",
    "#random version\n",
    "gamma = 0.5\n",
    "# gamma = np.array([0.8, 0.2])\n",
    "# gamma = gamma.astype('f')\n",
    "\n",
    "model = pprgo.PPRGo(d, nc, hidden_size, nlayers, lr, gamma, weight_decay, dropout, #adj_matrix, train_idx, TEMP, K, topk_train, intermediate_layer=100,\n",
    "                    sparse_features=type(attr_matrix) is not np.ndarray)\n",
    "\n",
    "\n",
    "\n",
    "# print(type(attr_matrix) is not np.ndarray)"
   ]
  },
  {
   "cell_type": "code",
   "execution_count": 18,
   "metadata": {},
   "outputs": [
    {
     "name": "stdout",
     "output_type": "stream",
     "text": [
      "gamma:  0.62245935\n",
      "gamma:  0.6212971\n",
      "gamma:  0.6203562\n"
     ]
    },
    {
     "name": "stderr",
     "output_type": "stream",
     "text": [
      "2022-08-02 16:27:01 (INFO): Epoch 6, step 20: train 3.96735\n",
      "2022-08-02 16:27:02 (INFO): Epoch 13, step 40: train 3.39769\n",
      "2022-08-02 16:27:04 (INFO): Epoch 19, step 60: train 3.05700\n"
     ]
    },
    {
     "name": "stdout",
     "output_type": "stream",
     "text": [
      "gamma:  0.5336528\n",
      "gamma:  0.5317884\n",
      "gamma:  0.5299318\n"
     ]
    },
    {
     "name": "stderr",
     "output_type": "stream",
     "text": [
      "2022-08-02 16:27:06 (INFO): Epoch 26, step 80: train 2.74731\n",
      "2022-08-02 16:27:07 (INFO): Epoch 33, step 100: train 2.02430\n",
      "2022-08-02 16:27:08 (INFO): Epoch 39, step 120: train 1.79398\n"
     ]
    },
    {
     "name": "stdout",
     "output_type": "stream",
     "text": [
      "gamma:  0.4206935\n",
      "gamma:  0.41892785\n",
      "gamma:  0.4171739\n"
     ]
    },
    {
     "name": "stderr",
     "output_type": "stream",
     "text": [
      "2022-08-02 16:27:09 (INFO): Epoch 46, step 140: train 1.73435\n",
      "2022-08-02 16:27:11 (INFO): Epoch 53, step 160: train 1.28399\n",
      "2022-08-02 16:27:11 (INFO): Epoch 59, step 180: train 1.17145\n"
     ]
    },
    {
     "name": "stdout",
     "output_type": "stream",
     "text": [
      "gamma:  0.33074927\n",
      "gamma:  0.32952937\n",
      "gamma:  0.32830942\n"
     ]
    },
    {
     "name": "stderr",
     "output_type": "stream",
     "text": [
      "2022-08-02 16:27:12 (INFO): Epoch 66, step 200: train 1.23596\n",
      "2022-08-02 16:27:13 (INFO): Epoch 73, step 220: train 0.95169\n",
      "2022-08-02 16:27:14 (INFO): Epoch 79, step 240: train 0.89857\n"
     ]
    },
    {
     "name": "stdout",
     "output_type": "stream",
     "text": [
      "gamma:  0.27019656\n",
      "gamma:  0.26937652\n",
      "gamma:  0.26855332\n"
     ]
    },
    {
     "name": "stderr",
     "output_type": "stream",
     "text": [
      "2022-08-02 16:27:15 (INFO): Epoch 86, step 260: train 0.98467\n",
      "2022-08-02 16:27:16 (INFO): Epoch 93, step 280: train 0.79915\n",
      "2022-08-02 16:27:17 (INFO): Epoch 99, step 300: train 0.76744\n"
     ]
    },
    {
     "name": "stdout",
     "output_type": "stream",
     "text": [
      "gamma:  0.22845325\n",
      "gamma:  0.22786969\n",
      "gamma:  0.22728162\n"
     ]
    },
    {
     "name": "stderr",
     "output_type": "stream",
     "text": [
      "2022-08-02 16:27:18 (INFO): Epoch 106, step 320: train 0.83445\n",
      "2022-08-02 16:27:20 (INFO): Epoch 113, step 340: train 0.69872\n",
      "2022-08-02 16:27:21 (INFO): Epoch 119, step 360: train 0.69096\n"
     ]
    },
    {
     "name": "stdout",
     "output_type": "stream",
     "text": [
      "gamma:  0.19787061\n",
      "gamma:  0.1974314\n",
      "gamma:  0.19698732\n"
     ]
    },
    {
     "name": "stderr",
     "output_type": "stream",
     "text": [
      "2022-08-02 16:27:22 (INFO): Epoch 126, step 380: train 0.74222\n",
      "2022-08-02 16:27:23 (INFO): Epoch 133, step 400: train 0.64401\n",
      "2022-08-02 16:27:24 (INFO): Epoch 139, step 420: train 0.63453\n"
     ]
    },
    {
     "name": "stdout",
     "output_type": "stream",
     "text": [
      "gamma:  0.17429453\n",
      "gamma:  0.17394905\n",
      "gamma:  0.17359915\n"
     ]
    },
    {
     "name": "stderr",
     "output_type": "stream",
     "text": [
      "2022-08-02 16:27:25 (INFO): Epoch 146, step 440: train 0.68146\n",
      "2022-08-02 16:27:26 (INFO): Epoch 153, step 460: train 0.60192\n",
      "2022-08-02 16:27:27 (INFO): Epoch 159, step 480: train 0.58752\n"
     ]
    },
    {
     "name": "stdout",
     "output_type": "stream",
     "text": [
      "gamma:  0.15544565\n",
      "gamma:  0.15516672\n",
      "gamma:  0.1548843\n"
     ]
    },
    {
     "name": "stderr",
     "output_type": "stream",
     "text": [
      "2022-08-02 16:27:28 (INFO): Epoch 166, step 500: train 0.65257\n",
      "2022-08-02 16:27:29 (INFO): Epoch 173, step 520: train 0.57881\n",
      "2022-08-02 16:27:30 (INFO): Epoch 179, step 540: train 0.57509\n"
     ]
    },
    {
     "name": "stdout",
     "output_type": "stream",
     "text": [
      "gamma:  0.13999835\n",
      "gamma:  0.13976556\n",
      "gamma:  0.13952984\n"
     ]
    },
    {
     "name": "stderr",
     "output_type": "stream",
     "text": [
      "2022-08-02 16:27:31 (INFO): Epoch 186, step 560: train 0.62367\n",
      "2022-08-02 16:27:32 (INFO): Epoch 193, step 580: train 0.55290\n",
      "2022-08-02 16:27:33 (INFO): Epoch 199, step 600: train 0.55561\n",
      "2022-08-02 16:27:33 (INFO): Training done.\n"
     ]
    },
    {
     "name": "stdout",
     "output_type": "stream",
     "text": [
      "Runtime: 35.09s\n"
     ]
    }
   ],
   "source": [
    "sess = tf.compat.v1.Session()\n",
    "with sess.as_default():\n",
    "    tf.compat.v1.global_variables_initializer().run()\n",
    "    nepochs, loss_hist, acc_hist, f1_hist = pprgo.train(\n",
    "            sess=sess, model=model, attr_matrix=attr_matrix,\n",
    "            train_idx=train_idx, val_idx=val_idx,\n",
    "            topk_train=topk_train, topk_val=topk_val, core_topk_train=core_topk_train,\n",
    "            labels=labels, #adj_matrix=adj_matrix,\n",
    "            max_epochs=max_epochs, batch_size=batch_size, batch_mult_val=batch_mult_val,\n",
    "            eval_step=eval_step, early_stop=early_stop, patience=patience)\n",
    "time_training = time.time() - start\n",
    "logging.info('Training done.')\n",
    "print(f\"Runtime: {time_training:.2f}s\")"
   ]
  },
  {
   "cell_type": "code",
   "execution_count": 19,
   "metadata": {},
   "outputs": [],
   "source": [
    "# print(model.batch_labels)\n",
    "# print(model.adjacency_weighted_logits)"
   ]
  },
  {
   "cell_type": "markdown",
   "metadata": {},
   "source": [
    "# Inference (val and test)"
   ]
  },
  {
   "cell_type": "code",
   "execution_count": 20,
   "metadata": {},
   "outputs": [
    {
     "name": "stdout",
     "output_type": "stream",
     "text": [
      "Runtime: 0.15s\n"
     ]
    }
   ],
   "source": [
    "start = time.time()\n",
    "predictions, time_logits, time_propagation = model.predict(\n",
    "        sess=sess, adj_matrix=adj_matrix, attr_matrix=attr_matrix, alpha=alpha, #topk_ppr=topk_train,\n",
    "        nprop=nprop_inference, inf_fraction=inf_fraction,\n",
    "        ppr_normalization=ppr_normalization)\n",
    "time_inference = time.time() - start\n",
    "print(f\"Runtime: {time_inference:.2f}s\")"
   ]
  },
  {
   "cell_type": "code",
   "execution_count": 21,
   "metadata": {},
   "outputs": [
    {
     "name": "stdout",
     "output_type": "stream",
     "text": [
      "{'train': [0.150390625, 0.251953125, 0.4122340425531915, 0.5546875, 0.736328125, 0.8218085106382979, 0.833984375, 0.90625, 0.9361702127659575, 0.9453125, 0.974609375, 0.973404255319149, 0.970703125, 0.994140625, 0.9920212765957447, 0.9765625, 0.99609375, 0.9946808510638298, 0.990234375, 0.99609375, 0.9946808510638298, 0.99609375, 0.994140625, 0.9973404255319149, 1.0, 0.99609375, 1.0, 0.99609375, 0.998046875, 0.9946808510638298], 'val': []}\n"
     ]
    }
   ],
   "source": [
    "print(acc_hist)\n"
   ]
  },
  {
   "cell_type": "markdown",
   "metadata": {},
   "source": [
    "# Collect and print results"
   ]
  },
  {
   "cell_type": "code",
   "execution_count": 22,
   "metadata": {},
   "outputs": [],
   "source": [
    "\n",
    "acc_train = 100 * accuracy_score(labels[train_idx], predictions[train_idx])\n",
    "acc_val = 100 * accuracy_score(labels[val_idx], predictions[val_idx])\n",
    "acc_test = 100 * accuracy_score(labels[test_idx], predictions[test_idx])\n",
    "\n",
    "f1_train = f1_score(labels[train_idx], predictions[train_idx], average='macro')\n",
    "f1_val = f1_score(labels[val_idx], predictions[val_idx], average='macro')\n",
    "f1_test = f1_score(labels[test_idx], predictions[test_idx], average='macro')\n",
    "\n",
    "\n",
    "\n",
    "#gpu_max_bytes = tf.contrib.memory_stats.MaxBytesInUse()\n",
    "#gpu_memory = sess.run(gpu_max_bytes)\n",
    "memory = utils.get_max_memory_bytes()\n",
    "\n",
    "time_total = time_preprocessing + time_training + time_inference"
   ]
  },
  {
   "cell_type": "code",
   "execution_count": 23,
   "metadata": {},
   "outputs": [
    {
     "name": "stdout",
     "output_type": "stream",
     "text": [
      "\n",
      "Accuracy: Train: 99.6%, val: 62.0%, test: 62.0%\n",
      "F1 score: Train: 0.992, val: 0.518, test: 0.531\n",
      "\n",
      "Runtime: Preprocessing: 9.33s, training: 35.09s, inference: 0.15s -> total: 44.57s\n",
      "Memory: Main: 0.55GB\n",
      "\n"
     ]
    }
   ],
   "source": [
    "print(f'''\n",
    "Accuracy: Train: {acc_train:.1f}%, val: {acc_val:.1f}%, test: {acc_test:.1f}%\n",
    "F1 score: Train: {f1_train:.3f}, val: {f1_val:.3f}, test: {f1_test:.3f}\n",
    "\n",
    "Runtime: Preprocessing: {time_preprocessing:.2f}s, training: {time_training:.2f}s, inference: {time_inference:.2f}s -> total: {time_total:.2f}s\n",
    "Memory: Main: {(memory/1024) / 2**30:.2f}GB\n",
    "''')\n",
    "\n",
    "#Memory: Main: {memory / 2**30:.2f}GB, GPU: {gpu_memory / 2**30:.3f}GB"
   ]
  }
 ],
 "metadata": {
  "kernelspec": {
   "display_name": "Python 3.7.13 ('internship_env')",
   "language": "python",
   "name": "python3"
  },
  "language_info": {
   "codemirror_mode": {
    "name": "ipython",
    "version": 3
   },
   "file_extension": ".py",
   "mimetype": "text/x-python",
   "name": "python",
   "nbconvert_exporter": "python",
   "pygments_lexer": "ipython3",
   "version": "3.7.13"
  },
  "vscode": {
   "interpreter": {
    "hash": "428b61850e5b263fbda2b97ca58cd2fe5cdcfc5a923010f6dd10a2ffb1b72031"
   }
  }
 },
 "nbformat": 4,
 "nbformat_minor": 4
}
