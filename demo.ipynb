{
 "cells": [
  {
   "cell_type": "code",
   "execution_count": 1,
   "metadata": {},
   "outputs": [],
   "source": [
    "import os\n",
    "import time\n",
    "import logging\n",
    "import yaml\n",
    "import ast\n",
    "import numpy as np\n",
    "import tensorflow as tf\n",
    "from sklearn.metrics import accuracy_score, f1_score, confusion_matrix\n",
    "\n",
    "from pprgo import utils\n",
    "from pprgo import ppr\n",
    "from pprgo import pprgo\n",
    "\n",
    "import igraph\n",
    "import pickle"
   ]
  },
  {
   "cell_type": "code",
   "execution_count": 2,
   "metadata": {},
   "outputs": [],
   "source": [
    "# Set up logging\n",
    "logger = logging.getLogger()\n",
    "logger.handlers = []\n",
    "ch = logging.StreamHandler()\n",
    "formatter = logging.Formatter(\n",
    "        fmt='%(asctime)s (%(levelname)s): %(message)s',\n",
    "        datefmt='%Y-%m-%d %H:%M:%S')\n",
    "ch.setFormatter(formatter)\n",
    "logger.addHandler(ch)\n",
    "logger.setLevel('INFO')\n",
    "\n",
    "os.environ['TF_CPP_MIN_LOG_LEVEL'] = '3'"
   ]
  },
  {
   "cell_type": "code",
   "execution_count": 3,
   "metadata": {},
   "outputs": [],
   "source": [
    "# !wget --show-progress -O data/reddit.npz https://ndownloader.figshare.com/files/23742119"
   ]
  },
  {
   "cell_type": "markdown",
   "metadata": {},
   "source": [
    "# Download dataset"
   ]
  },
  {
   "cell_type": "markdown",
   "metadata": {},
   "source": [
    "# Load config"
   ]
  },
  {
   "cell_type": "code",
   "execution_count": 4,
   "metadata": {},
   "outputs": [],
   "source": [
    "with open('config_demo.yaml', 'r') as c:\n",
    "    config = yaml.safe_load(c)"
   ]
  },
  {
   "cell_type": "code",
   "execution_count": 5,
   "metadata": {},
   "outputs": [],
   "source": [
    "# For strings that yaml doesn't parse (e.g. None)\n",
    "for key, val in config.items():\n",
    "    if type(val) is str:\n",
    "        try:\n",
    "            config[key] = ast.literal_eval(val)\n",
    "        except (ValueError, SyntaxError):\n",
    "            pass"
   ]
  },
  {
   "cell_type": "code",
   "execution_count": 6,
   "metadata": {},
   "outputs": [],
   "source": [
    "data_file           = config['data_file']           # Path to the .npz data file\n",
    "data_file = 'data/cora_full.npz'\n",
    "# data_file = 'data/reddit.npz'\n",
    "\n",
    "split_seed          = config['split_seed']          # Seed for splitting the dataset into train/val/test\n",
    "ntrain_div_classes  = config['ntrain_div_classes']  # Number of training nodes divided by number of classes\n",
    "attr_normalization  = config['attr_normalization']  # Attribute normalization. Not used in the paper\n",
    "\n",
    "alpha               = config['alpha']               # PPR teleport probability\n",
    "alpha = 0.25\n",
    "eps                 = config['eps']                 # Stopping threshold for ACL's ApproximatePR\n",
    "topk                = config['topk']                # Number of PPR neighbors for each node\n",
    "topk=2\n",
    "ppr_normalization   = config['ppr_normalization']   # Adjacency matrix normalization for weighting neighbors\n",
    "\n",
    "hidden_size         = config['hidden_size']         # Size of the MLP's hidden layer\n",
    "nlayers             = config['nlayers']             # Number of MLP layers\n",
    "weight_decay        = config['weight_decay']        # Weight decay used for training the MLP\n",
    "dropout             = config['dropout']             # Dropout used for training\n",
    "\n",
    "lr                  = config['lr']                  # Learning rate\n",
    "max_epochs          = config['max_epochs']          # Maximum number of epochs (exact number if no early stopping)\n",
    "batch_size          = config['batch_size']          # Batch size for training\n",
    "batch_mult_val      = config['batch_mult_val']      # Multiplier for validation batch size\n",
    "\n",
    "eval_step           = config['eval_step']           # Accuracy is evaluated after every this number of steps\n",
    "run_val             = config['run_val']             # Evaluate accuracy on validation set during training\n",
    "\n",
    "early_stop          = config['early_stop']          # Use early stopping\n",
    "patience            = config['patience']            # Patience for early stopping\n",
    "\n",
    "nprop_inference     = config['nprop_inference']     # Number of propagation steps during inference\n",
    "inf_fraction        = config['inf_fraction']        # Fraction of nodes for which local predictions are computed during inference"
   ]
  },
  {
   "cell_type": "code",
   "execution_count": 7,
   "metadata": {},
   "outputs": [],
   "source": [
    "import warnings\n",
    "warnings.filterwarnings(\"ignore\")"
   ]
  },
  {
   "cell_type": "markdown",
   "metadata": {},
   "source": [
    "# Load the data"
   ]
  },
  {
   "cell_type": "code",
   "execution_count": 8,
   "metadata": {},
   "outputs": [
    {
     "name": "stdout",
     "output_type": "stream",
     "text": [
      "70\n",
      "shape attibute matrix:  18800\n",
      "Training:  1400\n",
      "Validation:  14000\n",
      "Testing:  3400\n",
      "train_idx:  [   12    16    18 ... 18790 18793 18798]\n",
      "Runtime: 0.41s\n"
     ]
    }
   ],
   "source": [
    "start = time.time()\n",
    "(adj_matrix, attr_matrix, labels,\n",
    " train_idx, val_idx, test_idx) = utils.get_data(\n",
    "        f\"{data_file}\",\n",
    "        seed=split_seed,\n",
    "        ntrain_div_classes=ntrain_div_classes,\n",
    "        normalize_attr=attr_normalization\n",
    ")\n",
    "try:\n",
    "    d = attr_matrix.n_columns\n",
    "except AttributeError:\n",
    "    d = attr_matrix.shape[1]\n",
    "nc = labels.max() + 1\n",
    "print(nc)\n",
    "\n",
    "print('shape attibute matrix: ', attr_matrix.n_rows)\n",
    "print('Training: ', len(train_idx))\n",
    "print('Validation: ', len(val_idx))\n",
    "print('Testing: ', len(test_idx))\n",
    "\n",
    "print('train_idx: ', train_idx)\n",
    "\n",
    "time_loading = time.time() - start\n",
    "print(f\"Runtime: {time_loading:.2f}s\")"
   ]
  },
  {
   "cell_type": "markdown",
   "metadata": {},
   "source": [
    "# Preprocessing: Calculate PPR scores"
   ]
  },
  {
   "cell_type": "code",
   "execution_count": 9,
   "metadata": {},
   "outputs": [
    {
     "name": "stdout",
     "output_type": "stream",
     "text": [
      "Requirement already satisfied: networkx in /Users/arielo97/Documents/University-TOPUSH/Intership/Experiments/internship_env/lib/python3.7/site-packages (2.6.3)\n",
      "\u001b[33mWARNING: There was an error checking the latest version of pip.\u001b[0m\u001b[33m\n",
      "\u001b[0mNote: you may need to restart the kernel to use updated packages.\n"
     ]
    }
   ],
   "source": [
    "pip install networkx"
   ]
  },
  {
   "cell_type": "code",
   "execution_count": 10,
   "metadata": {},
   "outputs": [],
   "source": [
    "from networkx import from_scipy_sparse_matrix, k_truss, core_number\n",
    "\n",
    "g_networkX = from_scipy_sparse_matrix(adj_matrix)\n",
    "# core_numbers = core_number(g_networkX)\n",
    "# np.save('core-numbers-networkx', np.array(list(core_numbers.values())))\n"
   ]
  },
  {
   "cell_type": "code",
   "execution_count": 11,
   "metadata": {},
   "outputs": [],
   "source": [
    "truss = k_truss(g_networkX, 3)\n",
    "# print(truss.nodes[0:10])"
   ]
  },
  {
   "cell_type": "code",
   "execution_count": 12,
   "metadata": {},
   "outputs": [],
   "source": [
    "#Compute core numbers\n",
    "core_numbers = np.load('core-numbers-networkx.npy')\n",
    "\n",
    "# graph = igraph.Graph.Adjacency((adj_matrix.todense()> 0).tolist())\n",
    "# core_numbers = np.array(graph.coreness())\n",
    "\n",
    "\n"
   ]
  },
  {
   "cell_type": "code",
   "execution_count": 13,
   "metadata": {},
   "outputs": [],
   "source": [
    "# with open('graph.pkl', 'wb') as outp:  # Overwrites any existing file.\n",
    "#         pickle.dump(graph, outp, pickle.HIGHEST_PROTOCOL)\n",
    "\n",
    "with open('graph.pkl', 'rb') as inp:\n",
    "    graph = pickle.load(inp)\n",
    "\n",
    "# shortest_path = graph.get_shortest_paths(0, to=[1,2,3])\n",
    "# print(shortest_path)"
   ]
  },
  {
   "cell_type": "code",
   "execution_count": 14,
   "metadata": {},
   "outputs": [
    {
     "name": "stdout",
     "output_type": "stream",
     "text": [
      "Mean kn:  14.292142857142856\n",
      "gamma:  1.0\n",
      "Overall len y:  188.175 max:  491  min:  15\n",
      "Runtime: 13.41s\n",
      "topk_train (1400, 18800)\n",
      "(512, 18800)\n"
     ]
    }
   ],
   "source": [
    "# compute the ppr vectors for train/val nodes using ACL's ApproximatePR\n",
    "\n",
    "start = time.time()\n",
    "\n",
    "topk_train, mean_kn = ppr.topk_ppr_matrix(adj_matrix, alpha, eps, train_idx, topk, core_numbers, graph,\n",
    "                                 normalization=ppr_normalization, S=1, gamma=1.0)\n",
    "if run_val:\n",
    "    topk_val = ppr.topk_ppr_matrix(adj_matrix, alpha, eps, val_idx, topk,\n",
    "                                   normalization=ppr_normalization)\n",
    "else:\n",
    "    topk_val = None\n",
    "\n",
    "time_preprocessing = time.time() - start\n",
    "print(f\"Runtime: {time_preprocessing:.2f}s\")\n",
    "\n",
    "\n",
    "print('topk_train', topk_train.shape)\n",
    "adj_xd = adj_matrix[train_idx]\n",
    "print(adj_xd[0:0 + batch_size].shape)"
   ]
  },
  {
   "cell_type": "markdown",
   "metadata": {},
   "source": []
  },
  {
   "cell_type": "markdown",
   "metadata": {},
   "source": [
    "# Training: Set up model and train"
   ]
  },
  {
   "cell_type": "code",
   "execution_count": 15,
   "metadata": {},
   "outputs": [
    {
     "name": "stdout",
     "output_type": "stream",
     "text": [
      "WARNING:tensorflow:From /var/folders/x5/bhlqr68144x_138bllx2mdwh0000gn/T/ipykernel_12653/72873882.py:2: The name tf.reset_default_graph is deprecated. Please use tf.compat.v1.reset_default_graph instead.\n",
      "\n"
     ]
    },
    {
     "name": "stderr",
     "output_type": "stream",
     "text": [
      "2022-07-11 11:21:14 (WARNING): From /var/folders/x5/bhlqr68144x_138bllx2mdwh0000gn/T/ipykernel_12653/72873882.py:2: The name tf.reset_default_graph is deprecated. Please use tf.compat.v1.reset_default_graph instead.\n",
      "\n"
     ]
    },
    {
     "name": "stdout",
     "output_type": "stream",
     "text": [
      "WARNING:tensorflow:From /var/folders/x5/bhlqr68144x_138bllx2mdwh0000gn/T/ipykernel_12653/72873882.py:3: The name tf.set_random_seed is deprecated. Please use tf.compat.v1.set_random_seed instead.\n",
      "\n"
     ]
    },
    {
     "name": "stderr",
     "output_type": "stream",
     "text": [
      "2022-07-11 11:21:14 (WARNING): From /var/folders/x5/bhlqr68144x_138bllx2mdwh0000gn/T/ipykernel_12653/72873882.py:3: The name tf.set_random_seed is deprecated. Please use tf.compat.v1.set_random_seed instead.\n",
      "\n"
     ]
    }
   ],
   "source": [
    "start = time.time()\n",
    "tf.reset_default_graph()\n",
    "tf.set_random_seed(0)\n",
    "\n",
    "model = pprgo.PPRGo(d, nc, hidden_size, nlayers, lr, weight_decay, dropout, adj_matrix, intermediate_layer=1000,\n",
    "                    sparse_features=type(attr_matrix) is not np.ndarray)\n",
    "\n",
    "# print(model.w0.shape)\n",
    "\n",
    "# print(model.w_1.shape)"
   ]
  },
  {
   "cell_type": "code",
   "execution_count": 16,
   "metadata": {},
   "outputs": [
    {
     "name": "stderr",
     "output_type": "stream",
     "text": [
      "2022-07-11 11:21:15 (INFO): Epoch 6, step 20: train 3.96785\n",
      "2022-07-11 11:21:16 (INFO): Epoch 13, step 40: train 3.33605\n",
      "2022-07-11 11:21:16 (INFO): Epoch 19, step 60: train 2.87789\n",
      "2022-07-11 11:21:17 (INFO): Epoch 26, step 80: train 2.57143\n",
      "2022-07-11 11:21:17 (INFO): Epoch 33, step 100: train 1.82492\n",
      "2022-07-11 11:21:18 (INFO): Epoch 39, step 120: train 1.56664\n",
      "2022-07-11 11:21:18 (INFO): Epoch 46, step 140: train 1.52200\n",
      "2022-07-11 11:21:19 (INFO): Epoch 53, step 160: train 1.14339\n",
      "2022-07-11 11:21:20 (INFO): Epoch 59, step 180: train 1.03353\n",
      "2022-07-11 11:21:20 (INFO): Epoch 66, step 200: train 1.10534\n",
      "2022-07-11 11:21:21 (INFO): Epoch 73, step 220: train 0.88886\n",
      "2022-07-11 11:21:22 (INFO): Epoch 79, step 240: train 0.85001\n",
      "2022-07-11 11:21:22 (INFO): Epoch 86, step 260: train 0.92677\n",
      "2022-07-11 11:21:23 (INFO): Epoch 93, step 280: train 0.78071\n",
      "2022-07-11 11:21:24 (INFO): Epoch 99, step 300: train 0.75670\n",
      "2022-07-11 11:21:24 (INFO): Epoch 106, step 320: train 0.80987\n",
      "2022-07-11 11:21:25 (INFO): Epoch 113, step 340: train 0.70975\n",
      "2022-07-11 11:21:26 (INFO): Epoch 119, step 360: train 0.69148\n",
      "2022-07-11 11:21:26 (INFO): Epoch 126, step 380: train 0.75579\n",
      "2022-07-11 11:21:27 (INFO): Epoch 133, step 400: train 0.66069\n",
      "2022-07-11 11:21:27 (INFO): Epoch 139, step 420: train 0.64850\n",
      "2022-07-11 11:21:28 (INFO): Epoch 146, step 440: train 0.70354\n",
      "2022-07-11 11:21:29 (INFO): Epoch 153, step 460: train 0.63920\n",
      "2022-07-11 11:21:29 (INFO): Epoch 159, step 480: train 0.62249\n",
      "2022-07-11 11:21:30 (INFO): Epoch 166, step 500: train 0.68688\n",
      "2022-07-11 11:21:30 (INFO): Epoch 173, step 520: train 0.61022\n",
      "2022-07-11 11:21:31 (INFO): Epoch 179, step 540: train 0.61025\n",
      "2022-07-11 11:21:31 (INFO): Epoch 186, step 560: train 0.66142\n",
      "2022-07-11 11:21:32 (INFO): Epoch 193, step 580: train 0.58773\n",
      "2022-07-11 11:21:32 (INFO): Epoch 199, step 600: train 0.59118\n",
      "2022-07-11 11:21:32 (INFO): Training done.\n"
     ]
    },
    {
     "name": "stdout",
     "output_type": "stream",
     "text": [
      "Runtime: 17.88s\n"
     ]
    }
   ],
   "source": [
    "sess = tf.compat.v1.Session()\n",
    "with sess.as_default():\n",
    "    tf.compat.v1.global_variables_initializer().run()\n",
    "    nepochs, loss_hist, acc_hist, f1_hist = pprgo.train(\n",
    "            sess=sess, model=model, attr_matrix=attr_matrix,\n",
    "            train_idx=train_idx, val_idx=val_idx,\n",
    "            topk_train=topk_train, topk_val=topk_val,\n",
    "            labels=labels, adj_matrix=adj_matrix,\n",
    "            max_epochs=max_epochs, batch_size=batch_size, batch_mult_val=batch_mult_val,\n",
    "            eval_step=eval_step, early_stop=early_stop, patience=patience)\n",
    "time_training = time.time() - start\n",
    "logging.info('Training done.')\n",
    "print(f\"Runtime: {time_training:.2f}s\")"
   ]
  },
  {
   "cell_type": "markdown",
   "metadata": {},
   "source": [
    "# Inference (val and test)"
   ]
  },
  {
   "cell_type": "code",
   "execution_count": 17,
   "metadata": {},
   "outputs": [
    {
     "name": "stdout",
     "output_type": "stream",
     "text": [
      "Runtime: 0.21s\n"
     ]
    }
   ],
   "source": [
    "start = time.time()\n",
    "predictions, time_logits, time_propagation = model.predict(\n",
    "        sess=sess, adj_matrix=adj_matrix, attr_matrix=attr_matrix, alpha=alpha,\n",
    "        nprop=nprop_inference, inf_fraction=inf_fraction,\n",
    "        ppr_normalization=ppr_normalization)\n",
    "time_inference = time.time() - start\n",
    "print(f\"Runtime: {time_inference:.2f}s\")"
   ]
  },
  {
   "cell_type": "markdown",
   "metadata": {},
   "source": [
    "# Collect and print results"
   ]
  },
  {
   "cell_type": "code",
   "execution_count": 18,
   "metadata": {},
   "outputs": [],
   "source": [
    "\n",
    "acc_train = 100 * accuracy_score(labels[train_idx], predictions[train_idx])\n",
    "acc_val = 100 * accuracy_score(labels[val_idx], predictions[val_idx])\n",
    "acc_test = 100 * accuracy_score(labels[test_idx], predictions[test_idx])\n",
    "\n",
    "f1_train = f1_score(labels[train_idx], predictions[train_idx], average='macro')\n",
    "f1_val = f1_score(labels[val_idx], predictions[val_idx], average='macro')\n",
    "f1_test = f1_score(labels[test_idx], predictions[test_idx], average='macro')\n",
    "\n",
    "\n",
    "\n",
    "#gpu_max_bytes = tf.contrib.memory_stats.MaxBytesInUse()\n",
    "#gpu_memory = sess.run(gpu_max_bytes)\n",
    "memory = utils.get_max_memory_bytes()\n",
    "\n",
    "time_total = time_preprocessing + time_training + time_inference"
   ]
  },
  {
   "cell_type": "code",
   "execution_count": 19,
   "metadata": {},
   "outputs": [
    {
     "name": "stdout",
     "output_type": "stream",
     "text": [
      "\n",
      "Accuracy: Train: 99.1%, val: 60.8%, test: 61.0%\n",
      "F1 score: Train: 0.985, val: 0.498, test: 0.498\n",
      "\n",
      "Runtime: Preprocessing: 13.41s, training: 17.88s, inference: 0.21s -> total: 31.50s\n",
      "Memory: Main: 0.57GB\n",
      "\n"
     ]
    }
   ],
   "source": [
    "print(f'''\n",
    "Accuracy: Train: {acc_train:.1f}%, val: {acc_val:.1f}%, test: {acc_test:.1f}%\n",
    "F1 score: Train: {f1_train:.3f}, val: {f1_val:.3f}, test: {f1_test:.3f}\n",
    "\n",
    "Runtime: Preprocessing: {time_preprocessing:.2f}s, training: {time_training:.2f}s, inference: {time_inference:.2f}s -> total: {time_total:.2f}s\n",
    "Memory: Main: {(memory/1024) / 2**30:.2f}GB\n",
    "''')\n",
    "\n",
    "#Memory: Main: {memory / 2**30:.2f}GB, GPU: {gpu_memory / 2**30:.3f}GB"
   ]
  }
 ],
 "metadata": {
  "interpreter": {
   "hash": "428b61850e5b263fbda2b97ca58cd2fe5cdcfc5a923010f6dd10a2ffb1b72031"
  },
  "kernelspec": {
   "display_name": "jupy_env",
   "language": "python",
   "name": "jupy_env"
  },
  "language_info": {
   "codemirror_mode": {
    "name": "ipython",
    "version": 3
   },
   "file_extension": ".py",
   "mimetype": "text/x-python",
   "name": "python",
   "nbconvert_exporter": "python",
   "pygments_lexer": "ipython3",
   "version": "3.7.13"
  }
 },
 "nbformat": 4,
 "nbformat_minor": 4
}
